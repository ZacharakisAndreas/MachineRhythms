{
 "cells": [
  {
   "cell_type": "markdown",
   "id": "d457c0a4",
   "metadata": {},
   "source": [
    "# Multiple Linear Regression Analysis\n",
    "\n",
    "In this notebook we are using the preprocessed 'Greece - Agriculture and Rural Development' dataset to perform a Multiple Linear Regression analysis."
   ]
  },
  {
   "cell_type": "markdown",
   "id": "f3b26902",
   "metadata": {},
   "source": [
    "## Import packages and classes\n",
    "Starting with Scikit-learn or simply sklearn, we will use the **LinearRegression()** function to fit a linear regression model.  We start by including the required libraries and classes:"
   ]
  },
  {
   "cell_type": "code",
   "execution_count": 1,
   "id": "37b96fa3",
   "metadata": {},
   "outputs": [],
   "source": [
    "import numpy as np\n",
    "import pandas as pd\n",
    "import matplotlib.pyplot as plt\n",
    "from sklearn.linear_model import LinearRegression\n",
    "from sklearn.model_selection import train_test_split\n",
    "from sklearn import metrics\n",
    "import statsmodels.api as sm"
   ]
  },
  {
   "cell_type": "markdown",
   "id": "9e68ccc2",
   "metadata": {},
   "source": [
    "The $pandas$ and $numpy$ libraries will be used for loading and preprocessing the data. We use the $matplotlib$ library for creating plots to better visualize the results. From $sklearn$ we import the $linear\\_model.LinearRegression$ for creating our model, the $model\\_selection.train\\_test\\_split$ function for splitting the dataset into **Train** and **Test sets**."
   ]
  },
  {
   "cell_type": "markdown",
   "id": "def9d3e9",
   "metadata": {},
   "source": [
    "## Load dataset\n",
    "We continue by loading the *Greece - Agriculture and Rural Development* dataset as a pandas frame using the $read\\_csv()$ function.\n",
    "For pure presenting purpuses we set the maximum number of columns that can be printed to 10 and using the *head()* function, we can view the first 5 rows of the dataset:"
   ]
  },
  {
   "cell_type": "code",
   "execution_count": 2,
   "id": "e65d004a",
   "metadata": {},
   "outputs": [
    {
     "data": {
      "text/html": [
       "<div>\n",
       "<style scoped>\n",
       "    .dataframe tbody tr th:only-of-type {\n",
       "        vertical-align: middle;\n",
       "    }\n",
       "\n",
       "    .dataframe tbody tr th {\n",
       "        vertical-align: top;\n",
       "    }\n",
       "\n",
       "    .dataframe thead th {\n",
       "        text-align: right;\n",
       "    }\n",
       "</style>\n",
       "<table border=\"1\" class=\"dataframe\">\n",
       "  <thead>\n",
       "    <tr style=\"text-align: right;\">\n",
       "      <th></th>\n",
       "      <th>Year</th>\n",
       "      <th>Access to electricity, rural (% of rural population)</th>\n",
       "      <th>Agricultural irrigated land (% of total agricultural land)</th>\n",
       "      <th>Agricultural land (% of land area)</th>\n",
       "      <th>Agricultural land (sq. km)</th>\n",
       "      <th>...</th>\n",
       "      <th>Rural population</th>\n",
       "      <th>Rural population (% of total population)</th>\n",
       "      <th>Rural population growth (annual %)</th>\n",
       "      <th>Rural population living in areas where elevation is below 5 meters (% of total population)</th>\n",
       "      <th>Surface area (sq. km)</th>\n",
       "    </tr>\n",
       "  </thead>\n",
       "  <tbody>\n",
       "    <tr>\n",
       "      <th>0</th>\n",
       "      <td>1960</td>\n",
       "      <td>NaN</td>\n",
       "      <td>NaN</td>\n",
       "      <td>NaN</td>\n",
       "      <td>NaN</td>\n",
       "      <td>...</td>\n",
       "      <td>3671291</td>\n",
       "      <td>44.064</td>\n",
       "      <td>NaN</td>\n",
       "      <td>NaN</td>\n",
       "      <td>NaN</td>\n",
       "    </tr>\n",
       "    <tr>\n",
       "      <th>1</th>\n",
       "      <td>1961</td>\n",
       "      <td>NaN</td>\n",
       "      <td>NaN</td>\n",
       "      <td>69.123351</td>\n",
       "      <td>89100.0</td>\n",
       "      <td>...</td>\n",
       "      <td>3657099</td>\n",
       "      <td>43.547</td>\n",
       "      <td>-0.387316</td>\n",
       "      <td>NaN</td>\n",
       "      <td>131960.0</td>\n",
       "    </tr>\n",
       "    <tr>\n",
       "      <th>2</th>\n",
       "      <td>1962</td>\n",
       "      <td>NaN</td>\n",
       "      <td>NaN</td>\n",
       "      <td>69.061288</td>\n",
       "      <td>89020.0</td>\n",
       "      <td>...</td>\n",
       "      <td>3604016</td>\n",
       "      <td>42.660</td>\n",
       "      <td>-1.462143</td>\n",
       "      <td>NaN</td>\n",
       "      <td>131960.0</td>\n",
       "    </tr>\n",
       "    <tr>\n",
       "      <th>3</th>\n",
       "      <td>1963</td>\n",
       "      <td>NaN</td>\n",
       "      <td>NaN</td>\n",
       "      <td>69.984484</td>\n",
       "      <td>90210.0</td>\n",
       "      <td>...</td>\n",
       "      <td>3542618</td>\n",
       "      <td>41.778</td>\n",
       "      <td>-1.718278</td>\n",
       "      <td>NaN</td>\n",
       "      <td>131960.0</td>\n",
       "    </tr>\n",
       "    <tr>\n",
       "      <th>4</th>\n",
       "      <td>1964</td>\n",
       "      <td>NaN</td>\n",
       "      <td>NaN</td>\n",
       "      <td>69.751746</td>\n",
       "      <td>89910.0</td>\n",
       "      <td>...</td>\n",
       "      <td>3480851</td>\n",
       "      <td>40.901</td>\n",
       "      <td>-1.758920</td>\n",
       "      <td>NaN</td>\n",
       "      <td>131960.0</td>\n",
       "    </tr>\n",
       "  </tbody>\n",
       "</table>\n",
       "<p>5 rows × 43 columns</p>\n",
       "</div>"
      ],
      "text/plain": [
       "   Year  Access to electricity, rural (% of rural population)  \\\n",
       "0  1960                                                NaN      \n",
       "1  1961                                                NaN      \n",
       "2  1962                                                NaN      \n",
       "3  1963                                                NaN      \n",
       "4  1964                                                NaN      \n",
       "\n",
       "   Agricultural irrigated land (% of total agricultural land)  \\\n",
       "0                                                NaN            \n",
       "1                                                NaN            \n",
       "2                                                NaN            \n",
       "3                                                NaN            \n",
       "4                                                NaN            \n",
       "\n",
       "   Agricultural land (% of land area)  Agricultural land (sq. km)  ...  \\\n",
       "0                                 NaN                         NaN  ...   \n",
       "1                           69.123351                     89100.0  ...   \n",
       "2                           69.061288                     89020.0  ...   \n",
       "3                           69.984484                     90210.0  ...   \n",
       "4                           69.751746                     89910.0  ...   \n",
       "\n",
       "   Rural population  Rural population (% of total population)  \\\n",
       "0           3671291                                    44.064   \n",
       "1           3657099                                    43.547   \n",
       "2           3604016                                    42.660   \n",
       "3           3542618                                    41.778   \n",
       "4           3480851                                    40.901   \n",
       "\n",
       "   Rural population growth (annual %)  \\\n",
       "0                                 NaN   \n",
       "1                           -0.387316   \n",
       "2                           -1.462143   \n",
       "3                           -1.718278   \n",
       "4                           -1.758920   \n",
       "\n",
       "   Rural population living in areas where elevation is below 5 meters (% of total population)  \\\n",
       "0                                                NaN                                            \n",
       "1                                                NaN                                            \n",
       "2                                                NaN                                            \n",
       "3                                                NaN                                            \n",
       "4                                                NaN                                            \n",
       "\n",
       "   Surface area (sq. km)  \n",
       "0                    NaN  \n",
       "1               131960.0  \n",
       "2               131960.0  \n",
       "3               131960.0  \n",
       "4               131960.0  \n",
       "\n",
       "[5 rows x 43 columns]"
      ]
     },
     "execution_count": 2,
     "metadata": {},
     "output_type": "execute_result"
    }
   ],
   "source": [
    "data_raw = pd.read_csv('../../../Datasets/Greece - Agriculture and Rural Development/agriculture-and-rural-development_grc.csv')\n",
    "pd.set_option('display.max_columns', 10)\n",
    "data_raw.head()"
   ]
  },
  {
   "cell_type": "markdown",
   "id": "0c0fda77",
   "metadata": {},
   "source": [
    "During the analysis of the dataset we saw that the data contains a lot of $NaN$ values. If we try to fit data containing $NaN$ values to the *Scikit-learn* $LinearRegression()$ function, it will throw a *ValueError* with the message *'Input contains NaN, infinity or a value too large for dtype('float64')'*."
   ]
  },
  {
   "cell_type": "markdown",
   "id": "431bbf90",
   "metadata": {},
   "source": [
    "## Select variables & Drop NaN values\n"
   ]
  },
  {
   "cell_type": "code",
   "execution_count": 3,
   "id": "87256037",
   "metadata": {},
   "outputs": [
    {
     "name": "stdout",
     "output_type": "stream",
     "text": [
      "Shape of dataset:  (58, 3)\n"
     ]
    },
    {
     "data": {
      "text/html": [
       "<div>\n",
       "<style scoped>\n",
       "    .dataframe tbody tr th:only-of-type {\n",
       "        vertical-align: middle;\n",
       "    }\n",
       "\n",
       "    .dataframe tbody tr th {\n",
       "        vertical-align: top;\n",
       "    }\n",
       "\n",
       "    .dataframe thead th {\n",
       "        text-align: right;\n",
       "    }\n",
       "</style>\n",
       "<table border=\"1\" class=\"dataframe\">\n",
       "  <thead>\n",
       "    <tr style=\"text-align: right;\">\n",
       "      <th></th>\n",
       "      <th>Crop production index (2014-2016 = 100)</th>\n",
       "      <th>Fertilizer consumption (kilograms per hectare of arable land)</th>\n",
       "      <th>Cereal production (metric tons)</th>\n",
       "    </tr>\n",
       "  </thead>\n",
       "  <tbody>\n",
       "    <tr>\n",
       "      <th>0</th>\n",
       "      <td>62.570000</td>\n",
       "      <td>56.808876</td>\n",
       "      <td>2243876.0</td>\n",
       "    </tr>\n",
       "    <tr>\n",
       "      <th>1</th>\n",
       "      <td>50.700001</td>\n",
       "      <td>69.161718</td>\n",
       "      <td>2426843.0</td>\n",
       "    </tr>\n",
       "    <tr>\n",
       "      <th>2</th>\n",
       "      <td>57.430000</td>\n",
       "      <td>71.491986</td>\n",
       "      <td>2122537.0</td>\n",
       "    </tr>\n",
       "    <tr>\n",
       "      <th>3</th>\n",
       "      <td>57.150002</td>\n",
       "      <td>82.112629</td>\n",
       "      <td>2874641.0</td>\n",
       "    </tr>\n",
       "    <tr>\n",
       "      <th>4</th>\n",
       "      <td>61.770000</td>\n",
       "      <td>83.807422</td>\n",
       "      <td>2940922.0</td>\n",
       "    </tr>\n",
       "  </tbody>\n",
       "</table>\n",
       "</div>"
      ],
      "text/plain": [
       "   Crop production index (2014-2016 = 100)  \\\n",
       "0                                62.570000   \n",
       "1                                50.700001   \n",
       "2                                57.430000   \n",
       "3                                57.150002   \n",
       "4                                61.770000   \n",
       "\n",
       "   Fertilizer consumption (kilograms per hectare of arable land)  \\\n",
       "0                                          56.808876               \n",
       "1                                          69.161718               \n",
       "2                                          71.491986               \n",
       "3                                          82.112629               \n",
       "4                                          83.807422               \n",
       "\n",
       "   Cereal production (metric tons)  \n",
       "0                        2243876.0  \n",
       "1                        2426843.0  \n",
       "2                        2122537.0  \n",
       "3                        2874641.0  \n",
       "4                        2940922.0  "
      ]
     },
     "execution_count": 3,
     "metadata": {},
     "output_type": "execute_result"
    }
   ],
   "source": [
    "variable_x1 = \"Crop production index (2014-2016 = 100)\"\n",
    "variable_x2 = \"Fertilizer consumption (kilograms per hectare of arable land)\"\n",
    "variable_y = \"Cereal production (metric tons)\"\n",
    "\n",
    "data = data_raw[[variable_x1, variable_x2, variable_y]].dropna().reset_index(drop=True)\n",
    "print(\"Shape of dataset: \", data.shape)\n",
    "data.head()"
   ]
  },
  {
   "cell_type": "markdown",
   "id": "5ab61a5f",
   "metadata": {},
   "source": [
    "To handle this, we extracted the variables we need for our analysis,*Crop production index (2014-2016 - 100)*, *Fertilizer consumption (kilograms per hectare of arable land)* and *Cereal production (metric tons)* and drop the rows that contain $NaN$ values using the $dropna()$ function. The $reset\\_index(drop=True)$ is used to reset the index of the dataframe. The $drop$ parameter is set to $True$ so that the initial indexing is dropped and not included in the final dataframe as a new column. The remaining data consist of 58 samples that can be used for training and testing the model. \n",
    "Next, we split the remaining samples in train and test sets using the Scikit-learn's $train\\_test\\_split()$ function."
   ]
  },
  {
   "cell_type": "markdown",
   "id": "937bbc6f",
   "metadata": {},
   "source": [
    "## Train-test split"
   ]
  },
  {
   "cell_type": "code",
   "execution_count": 4,
   "id": "6b035824",
   "metadata": {},
   "outputs": [],
   "source": [
    "X_train, X_test, y_train, y_test = \\\n",
    "train_test_split(data[[variable_x1, variable_x2]], data[variable_y], test_size=0.2, random_state=42)"
   ]
  },
  {
   "cell_type": "markdown",
   "id": "2046bcd0",
   "metadata": {},
   "source": [
    "The $test\\_size$ parameter, sets the percentage of samples to use in the test split. We follow a 80-20 split, meaning we will use 80\\% of samples for training and 20\\% for testing the model, so we set the parameter to 0.2. The $random\\_ state$ parameter, controls the shuffling applied to the data before the split step. \n",
    "We can now fit the data to the linear regression model using the $fit()$ function."
   ]
  },
  {
   "cell_type": "markdown",
   "id": "05f6a23f",
   "metadata": {},
   "source": [
    "## Approach1: Sklean Linear Regression"
   ]
  },
  {
   "cell_type": "code",
   "execution_count": 5,
   "id": "ec92a8cc",
   "metadata": {},
   "outputs": [],
   "source": [
    "model = LinearRegression().fit(X_train, y_train)"
   ]
  },
  {
   "cell_type": "code",
   "execution_count": 6,
   "id": "4f665c31",
   "metadata": {},
   "outputs": [
    {
     "name": "stdout",
     "output_type": "stream",
     "text": [
      "Intercept: -302754.05845782626\n",
      "Slope: [40960.00468321  5869.58929994]\n"
     ]
    }
   ],
   "source": [
    "print(f\"Intercept: {model.intercept_}\")\n",
    "print(f\"Slope: {model.coef_}\")"
   ]
  },
  {
   "cell_type": "markdown",
   "id": "383c06ce",
   "metadata": {},
   "source": [
    "The reason we are reshaping the training data, is that the fit function expects a training vector with shape $(n\\_samples, n\\_features)$, but our vector's shape is (58,). By reshaping we set the number of columns to 1. After fitting the data to the regression model, we print the intercept and the slope of the model.\n",
    "We can now use the test set, we extracted earlier, and the trained model to make a prediction using the $predict()$ function."
   ]
  },
  {
   "cell_type": "markdown",
   "id": "f9d9c7b3",
   "metadata": {},
   "source": [
    "## Prediction"
   ]
  },
  {
   "cell_type": "code",
   "execution_count": 7,
   "id": "ca22903b",
   "metadata": {},
   "outputs": [
    {
     "data": {
      "text/plain": [
       "array([2593558.19373947, 2826775.08297937, 5039776.97468691,\n",
       "       3824855.37178243, 4911366.04715089, 3982049.13575247,\n",
       "       4925593.88229389, 5069774.37132166, 4144531.98119637,\n",
       "       3506473.4463983 , 4153764.8273091 , 2520077.68098123])"
      ]
     },
     "execution_count": 7,
     "metadata": {},
     "output_type": "execute_result"
    }
   ],
   "source": [
    "y_pred = model.predict(X_test)\n",
    "y_pred"
   ]
  },
  {
   "cell_type": "markdown",
   "id": "443ba5db",
   "metadata": {},
   "source": [
    "## Evaluation"
   ]
  },
  {
   "cell_type": "markdown",
   "id": "7a241381",
   "metadata": {},
   "source": [
    "Let's start the evaluation with the $score()$ function that calculates the accuracy of the model. The score is based on the coefficient of determination, i.e. *R^2*. The reason we don't need the actual predictions is because the $score()$ function calculates the predictions internally."
   ]
  },
  {
   "cell_type": "code",
   "execution_count": 8,
   "id": "774adcb5",
   "metadata": {},
   "outputs": [
    {
     "data": {
      "text/plain": [
       "0.7678107286789355"
      ]
     },
     "execution_count": 8,
     "metadata": {},
     "output_type": "execute_result"
    }
   ],
   "source": [
    "model.score(X_test, y_test)"
   ]
  },
  {
   "cell_type": "markdown",
   "id": "d8078705",
   "metadata": {},
   "source": [
    "We can also use the $r2\\_score()$, which does the same thing but needs the actual predicitons"
   ]
  },
  {
   "cell_type": "code",
   "execution_count": 9,
   "id": "b1673206",
   "metadata": {},
   "outputs": [
    {
     "name": "stdout",
     "output_type": "stream",
     "text": [
      "R-Square value: 0.7678107286789355\n"
     ]
    }
   ],
   "source": [
    "print(\"R-Square value:\", metrics.r2_score(y_test, y_pred))"
   ]
  },
  {
   "cell_type": "markdown",
   "id": "d4249b3a",
   "metadata": {},
   "source": [
    "We continue by calculating some more metrics like the **Mean Absolute Error, the Mean Square Error** and the **Room Mean Square Error**."
   ]
  },
  {
   "cell_type": "code",
   "execution_count": 10,
   "id": "05acee82",
   "metadata": {},
   "outputs": [
    {
     "name": "stdout",
     "output_type": "stream",
     "text": [
      "Mean Absolute Error: 371321.56185082573\n",
      "Mean Squared Error: 230281453819.20114\n",
      "Root Mean Squared Error: 479876.4985068566\n"
     ]
    }
   ],
   "source": [
    "print('Mean Absolute Error:', metrics.mean_absolute_error(y_test, y_pred))  \n",
    "print('Mean Squared Error:', metrics.mean_squared_error(y_test, y_pred))  \n",
    "print('Root Mean Squared Error:', np.sqrt(metrics.mean_squared_error(y_test, y_pred)))"
   ]
  },
  {
   "cell_type": "code",
   "execution_count": 11,
   "id": "44683881",
   "metadata": {},
   "outputs": [
    {
     "data": {
      "image/png": "[encoded data removed]",
      "text/plain": [
       "<Figure size 432x288 with 1 Axes>"
      ]
     },
     "metadata": {
      "needs_background": "light"
     },
     "output_type": "display_data"
    }
   ],
   "source": [
    "fig, ax = plt.subplots()\n",
    "x_axis = np.arange(12)\n",
    "\n",
    "plt.bar(x_axis-0.2, y_test, width=0.4, label = \"Actual\")\n",
    "plt.bar(x_axis+0.2, y_pred, width=0.4, label = \"Predicted\")\n",
    "\n",
    "plt.xlabel(\"Sample\", fontsize=14)\n",
    "plt.ylabel(\"Count\", fontsize=14)\n",
    "\n",
    "plt.legend()\n",
    "plt.tight_layout()\n",
    "plt.show()"
   ]
  },
  {
   "cell_type": "markdown",
   "id": "9bdf7995",
   "metadata": {},
   "source": [
    "## Approach 2: Statsmodels Linear Regression\n",
    "In the second approach we will use $statsmodels.api$ method to train a linear regression model. In this approach we don't need to split our dataset into **train** and **test sets** as *statmodels* automatically performs the split internaly. However, we will use the $X\\_train$ and $y\\_train$ variables so that we can compare the results."
   ]
  },
  {
   "cell_type": "code",
   "execution_count": 12,
   "id": "cbce7005",
   "metadata": {},
   "outputs": [
    {
     "data": {
      "text/html": [
       "<table class=\"simpletable\">\n",
       "<caption>OLS Regression Results</caption>\n",
       "<tr>\n",
       "  <th>Dep. Variable:</th>    <td>Cereal production (metric tons)</td> <th>  R-squared:         </th> <td>   0.793</td>\n",
       "</tr>\n",
       "<tr>\n",
       "  <th>Model:</th>                          <td>OLS</td>               <th>  Adj. R-squared:    </th> <td>   0.783</td>\n",
       "</tr>\n",
       "<tr>\n",
       "  <th>Method:</th>                    <td>Least Squares</td>          <th>  F-statistic:       </th> <td>   82.28</td>\n",
       "</tr>\n",
       "<tr>\n",
       "  <th>Date:</th>                    <td>Sat, 29 Jul 2023</td>         <th>  Prob (F-statistic):</th> <td>2.00e-15</td>\n",
       "</tr>\n",
       "<tr>\n",
       "  <th>Time:</th>                        <td>16:37:31</td>             <th>  Log-Likelihood:    </th> <td> -663.26</td>\n",
       "</tr>\n",
       "<tr>\n",
       "  <th>No. Observations:</th>             <td>    46</td>              <th>  AIC:               </th> <td>   1333.</td>\n",
       "</tr>\n",
       "<tr>\n",
       "  <th>Df Residuals:</th>                 <td>    43</td>              <th>  BIC:               </th> <td>   1338.</td>\n",
       "</tr>\n",
       "<tr>\n",
       "  <th>Df Model:</th>                     <td>     2</td>              <th>                     </th>     <td> </td>   \n",
       "</tr>\n",
       "<tr>\n",
       "  <th>Covariance Type:</th>             <td>nonrobust</td>            <th>                     </th>     <td> </td>   \n",
       "</tr>\n",
       "</table>\n",
       "<table class=\"simpletable\">\n",
       "<tr>\n",
       "                                <td></td>                                   <th>coef</th>     <th>std err</th>      <th>t</th>      <th>P>|t|</th>  <th>[0.025</th>    <th>0.975]</th>  \n",
       "</tr>\n",
       "<tr>\n",
       "  <th>const</th>                                                         <td>-3.028e+05</td> <td> 3.87e+05</td> <td>   -0.782</td> <td> 0.439</td> <td>-1.08e+06</td> <td> 4.78e+05</td>\n",
       "</tr>\n",
       "<tr>\n",
       "  <th>Crop production index (2014-2016 = 100)</th>                       <td> 4.096e+04</td> <td> 5335.282</td> <td>    7.677</td> <td> 0.000</td> <td> 3.02e+04</td> <td> 5.17e+04</td>\n",
       "</tr>\n",
       "<tr>\n",
       "  <th>Fertilizer consumption (kilograms per hectare of arable land)</th> <td> 5869.5893</td> <td> 1836.556</td> <td>    3.196</td> <td> 0.003</td> <td> 2165.822</td> <td> 9573.357</td>\n",
       "</tr>\n",
       "</table>\n",
       "<table class=\"simpletable\">\n",
       "<tr>\n",
       "  <th>Omnibus:</th>       <td> 0.305</td> <th>  Durbin-Watson:     </th> <td>   1.859</td>\n",
       "</tr>\n",
       "<tr>\n",
       "  <th>Prob(Omnibus):</th> <td> 0.858</td> <th>  Jarque-Bera (JB):  </th> <td>   0.044</td>\n",
       "</tr>\n",
       "<tr>\n",
       "  <th>Skew:</th>          <td>-0.072</td> <th>  Prob(JB):          </th> <td>   0.978</td>\n",
       "</tr>\n",
       "<tr>\n",
       "  <th>Kurtosis:</th>      <td> 3.044</td> <th>  Cond. No.          </th> <td>1.10e+03</td>\n",
       "</tr>\n",
       "</table><br/><br/>Notes:<br/>[1] Standard Errors assume that the covariance matrix of the errors is correctly specified.<br/>[2] The condition number is large, 1.1e+03. This might indicate that there are<br/>strong multicollinearity or other numerical problems."
      ],
      "text/plain": [
       "<class 'statsmodels.iolib.summary.Summary'>\n",
       "\"\"\"\n",
       "                                   OLS Regression Results                                  \n",
       "===========================================================================================\n",
       "Dep. Variable:     Cereal production (metric tons)   R-squared:                       0.793\n",
       "Model:                                         OLS   Adj. R-squared:                  0.783\n",
       "Method:                              Least Squares   F-statistic:                     82.28\n",
       "Date:                             Sat, 29 Jul 2023   Prob (F-statistic):           2.00e-15\n",
       "Time:                                     16:37:31   Log-Likelihood:                -663.26\n",
       "No. Observations:                               46   AIC:                             1333.\n",
       "Df Residuals:                                   43   BIC:                             1338.\n",
       "Df Model:                                        2                                         \n",
       "Covariance Type:                         nonrobust                                         \n",
       "=================================================================================================================================\n",
       "                                                                    coef    std err          t      P>|t|      [0.025      0.975]\n",
       "---------------------------------------------------------------------------------------------------------------------------------\n",
       "const                                                         -3.028e+05   3.87e+05     -0.782      0.439   -1.08e+06    4.78e+05\n",
       "Crop production index (2014-2016 = 100)                        4.096e+04   5335.282      7.677      0.000    3.02e+04    5.17e+04\n",
       "Fertilizer consumption (kilograms per hectare of arable land)  5869.5893   1836.556      3.196      0.003    2165.822    9573.357\n",
       "==============================================================================\n",
       "Omnibus:                        0.305   Durbin-Watson:                   1.859\n",
       "Prob(Omnibus):                  0.858   Jarque-Bera (JB):                0.044\n",
       "Skew:                          -0.072   Prob(JB):                        0.978\n",
       "Kurtosis:                       3.044   Cond. No.                     1.10e+03\n",
       "==============================================================================\n",
       "\n",
       "Notes:\n",
       "[1] Standard Errors assume that the covariance matrix of the errors is correctly specified.\n",
       "[2] The condition number is large, 1.1e+03. This might indicate that there are\n",
       "strong multicollinearity or other numerical problems.\n",
       "\"\"\""
      ]
     },
     "execution_count": 12,
     "metadata": {},
     "output_type": "execute_result"
    }
   ],
   "source": [
    "X = sm.add_constant(X_train) \n",
    "sm_res = sm.OLS(y_train, X).fit() \n",
    "sm_res.summary()"
   ]
  },
  {
   "cell_type": "markdown",
   "id": "cda98187",
   "metadata": {},
   "source": [
    "We can see that *statsmodel* automatically calculated a variety of metrics and parameters using the $summary()$ function. Also, the coefficients are the same as is our previous approach."
   ]
  },
  {
   "cell_type": "markdown",
   "id": "2a5e19a9",
   "metadata": {},
   "source": [
    "As said, the data used in the *statsmodels* automatically splits the data in train and test. By calling the $prediction()$ we can print the actual predictions of the model."
   ]
  },
  {
   "cell_type": "code",
   "execution_count": 13,
   "id": "06e80253",
   "metadata": {},
   "outputs": [
    {
     "data": {
      "text/plain": [
       "array([4821171.36364355, 5437054.82892205, 2932602.90794343,\n",
       "       4379736.55355314, 2892835.82727899, 2719260.59856644,\n",
       "       5038794.545746  , 4690040.15356084, 5571883.16205196,\n",
       "       4537232.71812381, 4670043.95654956, 4680380.08311032,\n",
       "       3947596.11143818, 3235263.59621428, 5201210.0334089 ,\n",
       "       4775791.73440525, 3933023.2485276 , 5495558.79268465,\n",
       "       5093678.79890335, 4498022.34743957, 5013723.6446378 ,\n",
       "       3335749.75324741, 4809551.47296805, 4577361.07411814,\n",
       "       4911484.62845268, 4741633.71583721, 4355418.97477508,\n",
       "       2179869.09296938, 5033302.79453814, 2469207.61674774,\n",
       "       4482989.89573249, 5194072.46308596, 5164919.46180876,\n",
       "       5150524.95700394, 4398209.24869654, 3158967.28803711,\n",
       "       4941143.20582546, 4197737.06561099, 3684967.91586918,\n",
       "       4969215.59121823, 2926959.31496069, 4715568.56482329,\n",
       "       4162433.55391515, 5425995.36492597, 4500792.28360155,\n",
       "       5183554.6945212 ])"
      ]
     },
     "execution_count": 13,
     "metadata": {},
     "output_type": "execute_result"
    }
   ],
   "source": [
    "sm_res.predict()"
   ]
  },
  {
   "cell_type": "markdown",
   "id": "c4dcb56d",
   "metadata": {},
   "source": [
    "## Approach 3: Linear Regression by Hand\n",
    "Apart from using a ready LinearRegression method to fit a model and make predictions, we can create, train and use our own model. In this example we will create our own Multiple Linear Regression model to train and make predictions on given data."
   ]
  },
  {
   "cell_type": "code",
   "execution_count": 14,
   "id": "9efe89a7",
   "metadata": {},
   "outputs": [],
   "source": [
    "class MultipleLinearRegression:\n",
    "\n",
    "    def fit(self, x, y):\n",
    "        \"\"\"\n",
    "        Training of the multiple linear regression model\n",
    "        \n",
    "        Returns:\n",
    "            The regression coefficient matrix\n",
    "        \"\"\"\n",
    "        \n",
    "        # number of observations\n",
    "        n = X_train.shape[0]\n",
    "        x = np.append(np.ones(n).reshape(n, 1), np.array(X_train), axis=1)\n",
    "        y = np.array(y)\n",
    "        \n",
    "        # calculating regression coefficient matrix\n",
    "        self.b_matrix = np.dot(np.transpose(x), x)\n",
    "        self.b_matrix = np.linalg.inv(self.b_matrix)\n",
    "        self.b_matrix = np.dot(self.b_matrix, np.transpose(x))\n",
    "        self.b_matrix = np.dot(self.b_matrix, y)\n",
    "        \n",
    "        return self.b_matrix\n",
    "\n",
    "    def predict(self, x_test):\n",
    "        \"\"\"\n",
    "        Making predictions based on given data using the pre-trained multiple linear regression model.\n",
    "        \n",
    "        Parameters:\n",
    "          x_test: float, array or series object the independent variable.\n",
    "        \n",
    "        Returns: \n",
    "            The prediction results\n",
    "        \"\"\"\n",
    "\n",
    "        x_test = np.append(np.ones(x_test.shape[0]).reshape(x_test.shape[0],1), np.array(x_test), axis=1) \n",
    "        \n",
    "        self.predictions = np.dot(x_test, self.b_matrix)\n",
    "        \n",
    "        return self.predictions"
   ]
  },
  {
   "cell_type": "markdown",
   "id": "974f5f95",
   "metadata": {},
   "source": [
    "In the code above, we defined a class names **MultipleLinearRegression** and defined two funtions, $fit()$ and $predict()$. The $fit()$ function is called to initialied the training of the model and calculate the regression coefficient matrix. It takes two parameters, the $x$ parameter holds the training data and the $y$ parameter the training labels. Lastly, the $predict()$ function takes one argument, $x\\_test$, and is called to make predictions of the given data."
   ]
  },
  {
   "cell_type": "code",
   "execution_count": 15,
   "id": "29f41426",
   "metadata": {},
   "outputs": [
    {
     "data": {
      "text/plain": [
       "array([-302754.05845736,   40960.0046832 ,    5869.58929994])"
      ]
     },
     "execution_count": 15,
     "metadata": {},
     "output_type": "execute_result"
    }
   ],
   "source": [
    "mlr = MultipleLinearRegression()\n",
    "mlr.fit(X_train, y_train)"
   ]
  },
  {
   "cell_type": "code",
   "execution_count": 16,
   "id": "6b70bb23",
   "metadata": {},
   "outputs": [
    {
     "data": {
      "text/plain": [
       "array([2593558.19373963, 2826775.08297952, 5039776.97468687,\n",
       "       3824855.37178251, 4911366.04715084, 3982049.13575251,\n",
       "       4925593.88229385, 5069774.37132166, 4144531.98119637,\n",
       "       3506473.44639842, 4153764.82730907, 2520077.68098142])"
      ]
     },
     "execution_count": 16,
     "metadata": {},
     "output_type": "execute_result"
    }
   ],
   "source": [
    "predictions = mlr.predict(X_test)\n",
    "predictions"
   ]
  },
  {
   "cell_type": "markdown",
   "id": "9705a191",
   "metadata": {},
   "source": [
    "Let's recreate the barplot we plotted to visualise the results of the Sklearn library and compare them."
   ]
  },
  {
   "cell_type": "code",
   "execution_count": 17,
   "id": "88bcdfa0",
   "metadata": {},
   "outputs": [
    {
     "data": {
      "image/png": "[encoded data removed]",
      "text/plain": [
       "<Figure size 432x288 with 1 Axes>"
      ]
     },
     "metadata": {
      "needs_background": "light"
     },
     "output_type": "display_data"
    }
   ],
   "source": [
    "fig, ax = plt.subplots()\n",
    "x_axis = np.arange(12)\n",
    "\n",
    "plt.bar(x_axis-0.2, y_test, width=0.4, label = \"Actual\")\n",
    "plt.bar(x_axis+0.2, predictions, width=0.4, label = \"Predicted\")\n",
    "\n",
    "plt.xlabel(\"Sample\", fontsize=14)\n",
    "plt.ylabel(\"Count\", fontsize=14)\n",
    "\n",
    "plt.legend()\n",
    "plt.tight_layout()\n",
    "plt.show()"
   ]
  },
  {
   "cell_type": "markdown",
   "id": "a63c3b77",
   "metadata": {},
   "source": [
    "By a quick visual inspection we can see that the plots are identical, something we can accurately conclude by inspecting the actual predictions."
   ]
  },
  {
   "cell_type": "code",
   "execution_count": null,
   "id": "06f4e5a4",
   "metadata": {},
   "outputs": [],
   "source": []
  }
 ],
 "metadata": {
  "kernelspec": {
   "display_name": "Python 3",
   "language": "python",
   "name": "python3"
  },
  "language_info": {
   "codemirror_mode": {
    "name": "ipython",
    "version": 3
   },
   "file_extension": ".py",
   "mimetype": "text/x-python",
   "name": "python",
   "nbconvert_exporter": "python",
   "pygments_lexer": "ipython3",
   "version": "3.8.8"
  }
 },
 "nbformat": 4,
 "nbformat_minor": 5
}
