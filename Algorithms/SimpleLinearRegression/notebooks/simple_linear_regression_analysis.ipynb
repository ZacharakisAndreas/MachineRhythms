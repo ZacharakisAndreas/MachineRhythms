{
 "cells": [
  {
   "cell_type": "markdown",
   "id": "52551efc",
   "metadata": {},
   "source": [
    "# Simple Linear Regression Analysis\n",
    "\n",
    "In this notebook we are using the 'Greece - Agriculture and Rural Development' dataset to perform a Simple Linear Regression analysis."
   ]
  },
  {
   "cell_type": "markdown",
   "id": "6f9312a9",
   "metadata": {},
   "source": [
    "## Import packages and classes\n",
    "Starting with Scikit-learn or simply sklearn, we will use the **LinearRegression()** function to fit a linear regression model. We start by including the required libraries and classes:"
   ]
  },
  {
   "cell_type": "code",
   "execution_count": 1,
   "id": "a758b92a",
   "metadata": {},
   "outputs": [],
   "source": [
    "import numpy as np\n",
    "import pandas as pd\n",
    "import matplotlib.pyplot as plt\n",
    "from sklearn.linear_model import LinearRegression\n",
    "from sklearn.model_selection import train_test_split\n",
    "from sklearn import metrics\n",
    "import statsmodels.api as sm"
   ]
  },
  {
   "cell_type": "markdown",
   "id": "a7f3a726",
   "metadata": {},
   "source": [
    "The $pandas$ and $numpy$ libraries will be used for loading and preprocessing the data. We use the $matplotlib$ library for creating plots to better visualize the results. From $sklearn$ we import the $linear\\_model.LinearRegression$ for creating our model, the $model\\_selection.train\\_test\\_split$ function for splitting the dataset into **Train** and **Test sets** and the $metrics$ for calculating metrics like the *Root Mean Square Error*. Lastly, we import the $statsmodels.api$ for evaluating the model's performance."
   ]
  },
  {
   "cell_type": "markdown",
   "id": "a1a49a77",
   "metadata": {},
   "source": [
    "## Load dataset\n",
    "We continue by loading the *Greece - Agriculture and Rural Development* dataset as a pandas frame using the $read\\_csv()$ function.\n",
    "For pure presenting purpuses we set the maximum number of columns that can be printed to 10 and using the *head()* function, we can view the first 5 rows of the dataset:"
   ]
  },
  {
   "cell_type": "code",
   "execution_count": 2,
   "id": "0a7ee2ad",
   "metadata": {},
   "outputs": [
    {
     "data": {
      "text/html": [
       "<div>\n",
       "<style scoped>\n",
       "    .dataframe tbody tr th:only-of-type {\n",
       "        vertical-align: middle;\n",
       "    }\n",
       "\n",
       "    .dataframe tbody tr th {\n",
       "        vertical-align: top;\n",
       "    }\n",
       "\n",
       "    .dataframe thead th {\n",
       "        text-align: right;\n",
       "    }\n",
       "</style>\n",
       "<table border=\"1\" class=\"dataframe\">\n",
       "  <thead>\n",
       "    <tr style=\"text-align: right;\">\n",
       "      <th></th>\n",
       "      <th>Year</th>\n",
       "      <th>Access to electricity, rural (% of rural population)</th>\n",
       "      <th>Agricultural irrigated land (% of total agricultural land)</th>\n",
       "      <th>Agricultural land (% of land area)</th>\n",
       "      <th>Agricultural land (sq. km)</th>\n",
       "      <th>...</th>\n",
       "      <th>Rural population</th>\n",
       "      <th>Rural population (% of total population)</th>\n",
       "      <th>Rural population growth (annual %)</th>\n",
       "      <th>Rural population living in areas where elevation is below 5 meters (% of total population)</th>\n",
       "      <th>Surface area (sq. km)</th>\n",
       "    </tr>\n",
       "  </thead>\n",
       "  <tbody>\n",
       "    <tr>\n",
       "      <th>0</th>\n",
       "      <td>1960</td>\n",
       "      <td>NaN</td>\n",
       "      <td>NaN</td>\n",
       "      <td>NaN</td>\n",
       "      <td>NaN</td>\n",
       "      <td>...</td>\n",
       "      <td>3671291</td>\n",
       "      <td>44.064</td>\n",
       "      <td>NaN</td>\n",
       "      <td>NaN</td>\n",
       "      <td>NaN</td>\n",
       "    </tr>\n",
       "    <tr>\n",
       "      <th>1</th>\n",
       "      <td>1961</td>\n",
       "      <td>NaN</td>\n",
       "      <td>NaN</td>\n",
       "      <td>69.123351</td>\n",
       "      <td>89100.0</td>\n",
       "      <td>...</td>\n",
       "      <td>3657099</td>\n",
       "      <td>43.547</td>\n",
       "      <td>-0.387316</td>\n",
       "      <td>NaN</td>\n",
       "      <td>131960.0</td>\n",
       "    </tr>\n",
       "    <tr>\n",
       "      <th>2</th>\n",
       "      <td>1962</td>\n",
       "      <td>NaN</td>\n",
       "      <td>NaN</td>\n",
       "      <td>69.061288</td>\n",
       "      <td>89020.0</td>\n",
       "      <td>...</td>\n",
       "      <td>3604016</td>\n",
       "      <td>42.660</td>\n",
       "      <td>-1.462143</td>\n",
       "      <td>NaN</td>\n",
       "      <td>131960.0</td>\n",
       "    </tr>\n",
       "    <tr>\n",
       "      <th>3</th>\n",
       "      <td>1963</td>\n",
       "      <td>NaN</td>\n",
       "      <td>NaN</td>\n",
       "      <td>69.984484</td>\n",
       "      <td>90210.0</td>\n",
       "      <td>...</td>\n",
       "      <td>3542618</td>\n",
       "      <td>41.778</td>\n",
       "      <td>-1.718278</td>\n",
       "      <td>NaN</td>\n",
       "      <td>131960.0</td>\n",
       "    </tr>\n",
       "    <tr>\n",
       "      <th>4</th>\n",
       "      <td>1964</td>\n",
       "      <td>NaN</td>\n",
       "      <td>NaN</td>\n",
       "      <td>69.751746</td>\n",
       "      <td>89910.0</td>\n",
       "      <td>...</td>\n",
       "      <td>3480851</td>\n",
       "      <td>40.901</td>\n",
       "      <td>-1.758920</td>\n",
       "      <td>NaN</td>\n",
       "      <td>131960.0</td>\n",
       "    </tr>\n",
       "  </tbody>\n",
       "</table>\n",
       "<p>5 rows × 43 columns</p>\n",
       "</div>"
      ],
      "text/plain": [
       "   Year  Access to electricity, rural (% of rural population)  \\\n",
       "0  1960                                                NaN      \n",
       "1  1961                                                NaN      \n",
       "2  1962                                                NaN      \n",
       "3  1963                                                NaN      \n",
       "4  1964                                                NaN      \n",
       "\n",
       "   Agricultural irrigated land (% of total agricultural land)  \\\n",
       "0                                                NaN            \n",
       "1                                                NaN            \n",
       "2                                                NaN            \n",
       "3                                                NaN            \n",
       "4                                                NaN            \n",
       "\n",
       "   Agricultural land (% of land area)  Agricultural land (sq. km)  ...  \\\n",
       "0                                 NaN                         NaN  ...   \n",
       "1                           69.123351                     89100.0  ...   \n",
       "2                           69.061288                     89020.0  ...   \n",
       "3                           69.984484                     90210.0  ...   \n",
       "4                           69.751746                     89910.0  ...   \n",
       "\n",
       "   Rural population  Rural population (% of total population)  \\\n",
       "0           3671291                                    44.064   \n",
       "1           3657099                                    43.547   \n",
       "2           3604016                                    42.660   \n",
       "3           3542618                                    41.778   \n",
       "4           3480851                                    40.901   \n",
       "\n",
       "   Rural population growth (annual %)  \\\n",
       "0                                 NaN   \n",
       "1                           -0.387316   \n",
       "2                           -1.462143   \n",
       "3                           -1.718278   \n",
       "4                           -1.758920   \n",
       "\n",
       "   Rural population living in areas where elevation is below 5 meters (% of total population)  \\\n",
       "0                                                NaN                                            \n",
       "1                                                NaN                                            \n",
       "2                                                NaN                                            \n",
       "3                                                NaN                                            \n",
       "4                                                NaN                                            \n",
       "\n",
       "   Surface area (sq. km)  \n",
       "0                    NaN  \n",
       "1               131960.0  \n",
       "2               131960.0  \n",
       "3               131960.0  \n",
       "4               131960.0  \n",
       "\n",
       "[5 rows x 43 columns]"
      ]
     },
     "execution_count": 2,
     "metadata": {},
     "output_type": "execute_result"
    }
   ],
   "source": [
    "data = pd.read_csv('./../../../Datasets/Greece - Agriculture and Rural Development/agriculture-and-rural-development_grc.csv', usecols=None)\n",
    "pd.set_option('display.max_columns', 10)\n",
    "data.head()"
   ]
  },
  {
   "cell_type": "markdown",
   "id": "c45e99e6",
   "metadata": {},
   "source": [
    "During the analysis of the dataset we saw that the data contains a lot of $NaN$ values. If we try to fit data containing $NaN$ values to the *Scikit-learn* $LinearRegression()$ function, it will throw a *ValueError* with the message *'Input contains NaN, infinity or a value too large for dtype('float64')'*."
   ]
  },
  {
   "cell_type": "markdown",
   "id": "44423a80",
   "metadata": {},
   "source": [
    "## Select variables & Drop NaN values\n"
   ]
  },
  {
   "cell_type": "code",
   "execution_count": 3,
   "id": "8e961e6f",
   "metadata": {},
   "outputs": [
    {
     "name": "stdout",
     "output_type": "stream",
     "text": [
      "Shape of dataset:  (58, 2)\n"
     ]
    },
    {
     "data": {
      "text/html": [
       "<div>\n",
       "<style scoped>\n",
       "    .dataframe tbody tr th:only-of-type {\n",
       "        vertical-align: middle;\n",
       "    }\n",
       "\n",
       "    .dataframe tbody tr th {\n",
       "        vertical-align: top;\n",
       "    }\n",
       "\n",
       "    .dataframe thead th {\n",
       "        text-align: right;\n",
       "    }\n",
       "</style>\n",
       "<table border=\"1\" class=\"dataframe\">\n",
       "  <thead>\n",
       "    <tr style=\"text-align: right;\">\n",
       "      <th></th>\n",
       "      <th>Crop production index (2014-2016 = 100)</th>\n",
       "      <th>Cereal production (metric tons)</th>\n",
       "    </tr>\n",
       "  </thead>\n",
       "  <tbody>\n",
       "    <tr>\n",
       "      <th>0</th>\n",
       "      <td>62.570000</td>\n",
       "      <td>2243876.0</td>\n",
       "    </tr>\n",
       "    <tr>\n",
       "      <th>1</th>\n",
       "      <td>50.700001</td>\n",
       "      <td>2426843.0</td>\n",
       "    </tr>\n",
       "    <tr>\n",
       "      <th>2</th>\n",
       "      <td>57.430000</td>\n",
       "      <td>2122537.0</td>\n",
       "    </tr>\n",
       "    <tr>\n",
       "      <th>3</th>\n",
       "      <td>57.150002</td>\n",
       "      <td>2874641.0</td>\n",
       "    </tr>\n",
       "    <tr>\n",
       "      <th>4</th>\n",
       "      <td>61.770000</td>\n",
       "      <td>2940922.0</td>\n",
       "    </tr>\n",
       "  </tbody>\n",
       "</table>\n",
       "</div>"
      ],
      "text/plain": [
       "   Crop production index (2014-2016 = 100)  Cereal production (metric tons)\n",
       "0                                62.570000                        2243876.0\n",
       "1                                50.700001                        2426843.0\n",
       "2                                57.430000                        2122537.0\n",
       "3                                57.150002                        2874641.0\n",
       "4                                61.770000                        2940922.0"
      ]
     },
     "execution_count": 3,
     "metadata": {},
     "output_type": "execute_result"
    }
   ],
   "source": [
    "variable_x = \"Crop production index (2014-2016 = 100)\"\n",
    "variable_y = \"Cereal production (metric tons)\"\n",
    "data = data[[variable_x, variable_y]].dropna().reset_index(drop=True)\n",
    "print(\"Shape of dataset: \", data.shape)\n",
    "data.head()"
   ]
  },
  {
   "cell_type": "markdown",
   "id": "ba9c040e",
   "metadata": {},
   "source": [
    "To handle this, we extracted the variables we need for our analysis,*Crop production index (2014-2016 - 100)* and *Cereal production (metric tons)* and drop the rows that contain $NaN$ values using the $dropna()$ function. The $reset\\_index(drop=True)$ is used to reset the index of the dataframe. The $drop$ parameter is set to $True$ so that the initial indexing is dropped and not included in the dataframe as a new column. The remaining data consist of 58 samples that can be used for training and testing the model. \n",
    "Next, we split the remaining samples in train and test sets using the Scikit-learn's $train\\_test\\_split()$ function."
   ]
  },
  {
   "cell_type": "markdown",
   "id": "81b49af8",
   "metadata": {},
   "source": [
    "## Train-test split"
   ]
  },
  {
   "cell_type": "code",
   "execution_count": 4,
   "id": "fdb37ea5",
   "metadata": {},
   "outputs": [],
   "source": [
    "X_train, X_test, y_train, y_test = train_test_split(data[variable_x].to_numpy(), data[variable_y].to_numpy(), test_size=0.2, random_state=42)"
   ]
  },
  {
   "cell_type": "markdown",
   "id": "21f1f584",
   "metadata": {},
   "source": [
    "The $test\\_size$ parameter, sets the percentage of samples to use in the test split. We follow a 80-20 split, meaning we will use 80\\% of samples for training and 20\\% for testing the model, so we set the parameter to 0.2. The $random\\_ state$ parameter, controls the shuffling applied to the data before the split step. \n",
    "We can now fit the data to the linear regression model using the $fit()$ function."
   ]
  },
  {
   "cell_type": "markdown",
   "id": "6ec8b1c2",
   "metadata": {},
   "source": [
    "## Approach 1: Sklean Linear Regression"
   ]
  },
  {
   "cell_type": "code",
   "execution_count": 5,
   "id": "9d8cb920",
   "metadata": {},
   "outputs": [],
   "source": [
    "model = LinearRegression().fit(X_train.reshape(-1, 1), y_train)"
   ]
  },
  {
   "cell_type": "code",
   "execution_count": 6,
   "id": "dcac8d1a",
   "metadata": {},
   "outputs": [
    {
     "name": "stdout",
     "output_type": "stream",
     "text": [
      "Intercept: -338797.33066389244\n",
      "Slope: [51647.36492435]\n"
     ]
    }
   ],
   "source": [
    "print(f\"Intercept: {model.intercept_}\")\n",
    "print(f\"Slope: {model.coef_}\")"
   ]
  },
  {
   "cell_type": "markdown",
   "id": "8d76dc8e",
   "metadata": {},
   "source": [
    "The reason we are reshaping the training data, is that the fit function expects a training vector with shape $(n\\_samples, n\\_features)$, but our vector's shape is (58,). By reshaping we set the number of columns to 1. After fitting the data to the regression model, we print the intercept and the slope of the model.\n",
    "We can now use the test set, we extracted earlier, and the trained model to make a prediction using the $predict()$ function."
   ]
  },
  {
   "cell_type": "markdown",
   "id": "922e539a",
   "metadata": {},
   "source": [
    "## Prediction"
   ]
  },
  {
   "cell_type": "code",
   "execution_count": 7,
   "id": "8d1f410f",
   "metadata": {},
   "outputs": [
    {
     "data": {
      "text/plain": [
       "array([2892778.27689108, 2960952.78282969, 5072813.50306327,\n",
       "       3795574.38914547, 5177141.4008718 , 4196357.65725097,\n",
       "       4998957.75545991, 4700952.6332232 , 4551691.78011489,\n",
       "       3424746.29322712, 4813543.90451981, 2612849.65357026])"
      ]
     },
     "execution_count": 7,
     "metadata": {},
     "output_type": "execute_result"
    }
   ],
   "source": [
    "y_pred = model.predict(X_test.reshape(-1, 1))\n",
    "y_pred"
   ]
  },
  {
   "cell_type": "markdown",
   "id": "f643aee4",
   "metadata": {},
   "source": [
    "## Evaluation"
   ]
  },
  {
   "cell_type": "markdown",
   "id": "44f211d7",
   "metadata": {},
   "source": [
    "Let's start the evaluation with the $score()$ function that calculates the accuracy of the model. The score is based on the coefficient of determination, i.e. *R^2*. The reason we don't need the actual predictions is because the $score()$ function calculates the predictions internally."
   ]
  },
  {
   "cell_type": "code",
   "execution_count": 8,
   "id": "4236680c",
   "metadata": {},
   "outputs": [
    {
     "data": {
      "text/plain": [
       "0.8563623230919093"
      ]
     },
     "execution_count": 8,
     "metadata": {},
     "output_type": "execute_result"
    }
   ],
   "source": [
    "model.score(X_test.reshape(-1, 1), y_test)"
   ]
  },
  {
   "cell_type": "markdown",
   "id": "ed35bcc7",
   "metadata": {},
   "source": [
    "We can also use the $r2\\_score()$, which does the same thing but needs the actual predicitons"
   ]
  },
  {
   "cell_type": "code",
   "execution_count": 9,
   "id": "18d1027f",
   "metadata": {},
   "outputs": [
    {
     "name": "stdout",
     "output_type": "stream",
     "text": [
      "R-Square value: 0.8563623230919093\n"
     ]
    }
   ],
   "source": [
    "print(\"R-Square value:\", metrics.r2_score(y_test, y_pred))"
   ]
  },
  {
   "cell_type": "markdown",
   "id": "709e5bb5",
   "metadata": {},
   "source": [
    "We continue by calculating some more metrics like the **Mean Absolute Error, the Mean Square Error** and the **Room Mean Square Error**."
   ]
  },
  {
   "cell_type": "code",
   "execution_count": 10,
   "id": "8bf22280",
   "metadata": {},
   "outputs": [
    {
     "name": "stdout",
     "output_type": "stream",
     "text": [
      "Mean Absolute Error: 300467.2024049084\n",
      "Mean Squared Error: 142457456683.55972\n",
      "Root Mean Squared Error: 377435.36755789025\n"
     ]
    }
   ],
   "source": [
    "print('Mean Absolute Error:', metrics.mean_absolute_error(y_test, y_pred))  \n",
    "print('Mean Squared Error:', metrics.mean_squared_error(y_test, y_pred))  \n",
    "print('Root Mean Squared Error:', np.sqrt(metrics.mean_squared_error(y_test, y_pred)))"
   ]
  },
  {
   "cell_type": "code",
   "execution_count": 11,
   "id": "1607caab",
   "metadata": {},
   "outputs": [
    {
     "data": {
      "image/png": "[encoded data removed]",
      "text/plain": [
       "<Figure size 432x288 with 1 Axes>"
      ]
     },
     "metadata": {
      "needs_background": "light"
     },
     "output_type": "display_data"
    }
   ],
   "source": [
    "fig, ax = plt.subplots()\n",
    "x_axis = np.arange(12)\n",
    "\n",
    "plt.bar(x_axis-0.2, y_test, width=0.4, label = \"Actual\")\n",
    "plt.bar(x_axis+0.2, y_pred, width=0.4, label = \"Predicted\")\n",
    "\n",
    "plt.xlabel(\"Sample\", fontsize=14)\n",
    "plt.ylabel(\"Count\", fontsize=14)\n",
    "\n",
    "plt.legend()\n",
    "plt.tight_layout()\n",
    "plt.show()"
   ]
  },
  {
   "cell_type": "markdown",
   "id": "673188e8",
   "metadata": {},
   "source": [
    "## Approach 2: Statsmodels Linear Regression"
   ]
  },
  {
   "cell_type": "markdown",
   "id": "58e2503b",
   "metadata": {},
   "source": [
    "In the second approach we will use $statsmodels.api$ method to train a linear regression model. In this approach we don't need to split our dataset into **train** and **test sets** as *statmodels* automatically performs the split internaly. However, we will use the $X\\_train$ and $y\\_train$ variables so that we can compare the results."
   ]
  },
  {
   "cell_type": "code",
   "execution_count": 12,
   "id": "e8aa6fc4",
   "metadata": {},
   "outputs": [
    {
     "data": {
      "text/html": [
       "<table class=\"simpletable\">\n",
       "<caption>OLS Regression Results</caption>\n",
       "<tr>\n",
       "  <th>Dep. Variable:</th>            <td>y</td>        <th>  R-squared:         </th> <td>   0.744</td>\n",
       "</tr>\n",
       "<tr>\n",
       "  <th>Model:</th>                   <td>OLS</td>       <th>  Adj. R-squared:    </th> <td>   0.738</td>\n",
       "</tr>\n",
       "<tr>\n",
       "  <th>Method:</th>             <td>Least Squares</td>  <th>  F-statistic:       </th> <td>   127.6</td>\n",
       "</tr>\n",
       "<tr>\n",
       "  <th>Date:</th>             <td>Sat, 29 Jul 2023</td> <th>  Prob (F-statistic):</th> <td>1.36e-14</td>\n",
       "</tr>\n",
       "<tr>\n",
       "  <th>Time:</th>                 <td>08:50:05</td>     <th>  Log-Likelihood:    </th> <td> -668.16</td>\n",
       "</tr>\n",
       "<tr>\n",
       "  <th>No. Observations:</th>      <td>    46</td>      <th>  AIC:               </th> <td>   1340.</td>\n",
       "</tr>\n",
       "<tr>\n",
       "  <th>Df Residuals:</th>          <td>    44</td>      <th>  BIC:               </th> <td>   1344.</td>\n",
       "</tr>\n",
       "<tr>\n",
       "  <th>Df Model:</th>              <td>     1</td>      <th>                     </th>     <td> </td>   \n",
       "</tr>\n",
       "<tr>\n",
       "  <th>Covariance Type:</th>      <td>nonrobust</td>    <th>                     </th>     <td> </td>   \n",
       "</tr>\n",
       "</table>\n",
       "<table class=\"simpletable\">\n",
       "<tr>\n",
       "    <td></td>       <th>coef</th>     <th>std err</th>      <th>t</th>      <th>P>|t|</th>  <th>[0.025</th>    <th>0.975]</th>  \n",
       "</tr>\n",
       "<tr>\n",
       "  <th>const</th> <td>-3.388e+05</td> <td> 4.26e+05</td> <td>   -0.796</td> <td> 0.430</td> <td> -1.2e+06</td> <td> 5.19e+05</td>\n",
       "</tr>\n",
       "<tr>\n",
       "  <th>x1</th>    <td> 5.165e+04</td> <td> 4571.889</td> <td>   11.297</td> <td> 0.000</td> <td> 4.24e+04</td> <td> 6.09e+04</td>\n",
       "</tr>\n",
       "</table>\n",
       "<table class=\"simpletable\">\n",
       "<tr>\n",
       "  <th>Omnibus:</th>       <td> 0.370</td> <th>  Durbin-Watson:     </th> <td>   1.986</td>\n",
       "</tr>\n",
       "<tr>\n",
       "  <th>Prob(Omnibus):</th> <td> 0.831</td> <th>  Jarque-Bera (JB):  </th> <td>   0.538</td>\n",
       "</tr>\n",
       "<tr>\n",
       "  <th>Skew:</th>          <td>-0.082</td> <th>  Prob(JB):          </th> <td>   0.764</td>\n",
       "</tr>\n",
       "<tr>\n",
       "  <th>Kurtosis:</th>      <td> 2.496</td> <th>  Cond. No.          </th> <td>    534.</td>\n",
       "</tr>\n",
       "</table><br/><br/>Notes:<br/>[1] Standard Errors assume that the covariance matrix of the errors is correctly specified."
      ],
      "text/plain": [
       "<class 'statsmodels.iolib.summary.Summary'>\n",
       "\"\"\"\n",
       "                            OLS Regression Results                            \n",
       "==============================================================================\n",
       "Dep. Variable:                      y   R-squared:                       0.744\n",
       "Model:                            OLS   Adj. R-squared:                  0.738\n",
       "Method:                 Least Squares   F-statistic:                     127.6\n",
       "Date:                Sat, 29 Jul 2023   Prob (F-statistic):           1.36e-14\n",
       "Time:                        08:50:05   Log-Likelihood:                -668.16\n",
       "No. Observations:                  46   AIC:                             1340.\n",
       "Df Residuals:                      44   BIC:                             1344.\n",
       "Df Model:                           1                                         \n",
       "Covariance Type:            nonrobust                                         \n",
       "==============================================================================\n",
       "                 coef    std err          t      P>|t|      [0.025      0.975]\n",
       "------------------------------------------------------------------------------\n",
       "const      -3.388e+05   4.26e+05     -0.796      0.430    -1.2e+06    5.19e+05\n",
       "x1          5.165e+04   4571.889     11.297      0.000    4.24e+04    6.09e+04\n",
       "==============================================================================\n",
       "Omnibus:                        0.370   Durbin-Watson:                   1.986\n",
       "Prob(Omnibus):                  0.831   Jarque-Bera (JB):                0.538\n",
       "Skew:                          -0.082   Prob(JB):                        0.764\n",
       "Kurtosis:                       2.496   Cond. No.                         534.\n",
       "==============================================================================\n",
       "\n",
       "Notes:\n",
       "[1] Standard Errors assume that the covariance matrix of the errors is correctly specified.\n",
       "\"\"\""
      ]
     },
     "execution_count": 12,
     "metadata": {},
     "output_type": "execute_result"
    }
   ],
   "source": [
    "X_stat = sm.add_constant(X_train)\n",
    "sm_res = sm.OLS(y_train, X_stat).fit()\n",
    "sm_res.summary()"
   ]
  },
  {
   "cell_type": "markdown",
   "id": "0c0e2852",
   "metadata": {},
   "source": [
    "We can see that *statsmodel* automatically calculated a variety of metrics and parameters using the $summary()$ function. Also, the $b\\_0$ and $b\\_1$ coefficients are the same as before."
   ]
  },
  {
   "cell_type": "markdown",
   "id": "afb93622",
   "metadata": {},
   "source": [
    "As said, the data used in the *statsmodels* automatically splits the data in train and test. By calling the $prediction()$ we can print the actual predictions of the model."
   ]
  },
  {
   "cell_type": "code",
   "execution_count": 26,
   "id": "cc3f4018",
   "metadata": {},
   "outputs": [
    {
     "data": {
      "text/plain": [
       "array([4784621.11221625, 5275787.6629775 , 2951656.24138179,\n",
       "       4098227.9791252 , 3016732.03151714, 2851460.42435542,\n",
       "       5239118.08116576, 4613668.46040885, 5385280.21847084,\n",
       "       4857444.0858979 , 4749500.88830617, 5069198.2032801 ,\n",
       "       3760454.16523539, 3294594.71295641, 4924069.23393487,\n",
       "       4503659.71497372, 3702092.39068647, 5154416.43421291,\n",
       "       5090373.81203736, 4784621.11221625, 5192118.78994633,\n",
       "       3349857.37766394, 4780489.62249127, 4849696.90235162,\n",
       "       4930266.66554136, 4244906.30637205, 4623997.77577847,\n",
       "       2279724.1104044 , 4896696.19357106, 2627310.85270298,\n",
       "       4773259.02292491, 5361005.8939103 , 5080560.68660955,\n",
       "       4889465.59400472, 4707666.64880964, 3165992.88462546,\n",
       "       4639492.14287103, 3867880.38480906, 3703125.55864631,\n",
       "       4840400.3609037 , 2969216.55035589, 4789269.57995926,\n",
       "       4113721.95217963, 5223107.5241314 , 4908058.28286241,\n",
       "       5322270.37021704])"
      ]
     },
     "execution_count": 26,
     "metadata": {},
     "output_type": "execute_result"
    }
   ],
   "source": [
    "sm_res.predict()"
   ]
  },
  {
   "cell_type": "markdown",
   "id": "3bf27027",
   "metadata": {},
   "source": [
    "## Approach 3: Linear Regression by Hand\n",
    "Apart from using a ready LinearRegression method to fit a model and make predictions, we can create, train and use our own model. In this example we will create our own Simple Linear Regression model to train and make predictions on given data."
   ]
  },
  {
   "cell_type": "code",
   "execution_count": 22,
   "id": "5191329c",
   "metadata": {},
   "outputs": [],
   "source": [
    "class SimpleLinearRegression:\n",
    "\n",
    "    def fit(self, x, y):\n",
    "        \"\"\"\n",
    "        Training of the simple linear regression model\n",
    "        \n",
    "        Returns:\n",
    "            The regression coefficients b0 and b1\n",
    "        \"\"\"\n",
    "        \n",
    "        assert np.size(x) == np.size(y)\n",
    "\n",
    "        # number of observations\n",
    "        n = np.size(x)\n",
    "\n",
    "        # mean of x_train and y_train vectors\n",
    "        m_x = np.mean(x)\n",
    "        m_y = np.mean(y)\n",
    "\n",
    "        # calculating regression coefficients b0 and b1\n",
    "        self.b1_coeficient = (np.sum(y*x) - n*m_y*m_x) / (np.sum(x*x) - n*m_x*m_x)\n",
    "        self.b0_coeficient = m_y - self.b1_coeficient*m_x\n",
    "\n",
    "        return (self.b0_coeficient, self.b1_coeficient)\n",
    "\n",
    "    def predict(self, x_test):\n",
    "        \"\"\"\n",
    "        Making predictions based on given data using the pre-trained simple linear regression model.\n",
    "        \n",
    "        Parameters:\n",
    "          x_test: float, array or series object the independent variable.\n",
    "        \n",
    "        Returns: \n",
    "            The prediction results\n",
    "        \"\"\"\n",
    "        \n",
    "        self.predictions = self.b0_coeficient + (self.b1_coeficient * x_test)\n",
    "        \n",
    "        return self.predictions"
   ]
  },
  {
   "cell_type": "markdown",
   "id": "d87f4d1c",
   "metadata": {},
   "source": [
    "In the code above, we defined a class names **SimpleLinearRegression** and defined two funtions, $fit()$ and $predict()$. The $fit()$ function is called to initialied the training of the model and calculate the regression coefficients $b_0$ and $b_1$. It takes two parameters, the $x$ parameter holds the training data and the $y$ parameter the training labels. Lastly, the $predict()$ function takes one argument, $x\\_test$, and is called to make predictions of the given data."
   ]
  },
  {
   "cell_type": "code",
   "execution_count": 23,
   "id": "58fdc526",
   "metadata": {},
   "outputs": [
    {
     "data": {
      "text/plain": [
       "(-338797.3306638859, 51647.3649243486)"
      ]
     },
     "execution_count": 23,
     "metadata": {},
     "output_type": "execute_result"
    }
   ],
   "source": [
    "slr = SimpleLinearRegression()\n",
    "slr.fit(X_train, y_train)"
   ]
  },
  {
   "cell_type": "code",
   "execution_count": 24,
   "id": "c5391822",
   "metadata": {},
   "outputs": [
    {
     "data": {
      "text/plain": [
       "array([2892778.27689108, 2960952.78282969, 5072813.50306327,\n",
       "       3795574.38914547, 5177141.4008718 , 4196357.65725097,\n",
       "       4998957.75545991, 4700952.6332232 , 4551691.78011489,\n",
       "       3424746.29322712, 4813543.90451981, 2612849.65357026])"
      ]
     },
     "execution_count": 24,
     "metadata": {},
     "output_type": "execute_result"
    }
   ],
   "source": [
    "predictions = slr.predict(X_test)\n",
    "predictions"
   ]
  },
  {
   "cell_type": "markdown",
   "id": "7599a3f9",
   "metadata": {},
   "source": [
    "Let's recreate the barplot we plotted to visualise the results of the Sklearn library and compare them."
   ]
  },
  {
   "cell_type": "code",
   "execution_count": 25,
   "id": "3bcd14cc",
   "metadata": {},
   "outputs": [
    {
     "data": {
      "image/png": "[encoded data removed]",
      "text/plain": [
       "<Figure size 432x288 with 1 Axes>"
      ]
     },
     "metadata": {
      "needs_background": "light"
     },
     "output_type": "display_data"
    }
   ],
   "source": [
    "fig, ax = plt.subplots()\n",
    "x_axis = np.arange(12)\n",
    "\n",
    "plt.bar(x_axis-0.2, y_test, width=0.4, label = \"Actual\")\n",
    "plt.bar(x_axis+0.2, predictions, width=0.4, label = \"Predicted\")\n",
    "\n",
    "plt.xlabel(\"Sample\", fontsize=14)\n",
    "plt.ylabel(\"Count\", fontsize=14)\n",
    "\n",
    "plt.legend()\n",
    "plt.tight_layout()\n",
    "plt.show()"
   ]
  },
  {
   "cell_type": "markdown",
   "id": "a7c7ea4e",
   "metadata": {},
   "source": [
    "By a quick visual inspection we can see that the plots are identical, something we can accurately conclude by inspecting the actual predictions."
   ]
  },
  {
   "cell_type": "code",
   "execution_count": null,
   "id": "af5a5037",
   "metadata": {},
   "outputs": [],
   "source": []
  }
 ],
 "metadata": {
  "kernelspec": {
   "display_name": "Python 3",
   "language": "python",
   "name": "python3"
  },
  "language_info": {
   "codemirror_mode": {
    "name": "ipython",
    "version": 3
   },
   "file_extension": ".py",
   "mimetype": "text/x-python",
   "name": "python",
   "nbconvert_exporter": "python",
   "pygments_lexer": "ipython3",
   "version": "3.8.8"
  }
 },
 "nbformat": 4,
 "nbformat_minor": 5
}
