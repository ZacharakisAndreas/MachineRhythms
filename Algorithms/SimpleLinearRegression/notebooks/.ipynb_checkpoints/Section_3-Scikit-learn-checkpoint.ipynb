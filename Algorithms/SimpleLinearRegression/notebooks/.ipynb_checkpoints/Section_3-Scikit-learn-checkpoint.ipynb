{
 "cells": [
  {
   "cell_type": "markdown",
   "id": "89f486c3",
   "metadata": {},
   "source": [
    "Starting with Scikit-learn or simply sklearn, we will use the  $LinearRegression()$ function to fit a linear regression model. For this example we will use the preprocessed datasets from Section 1.3. We start by including the required libraries and classes:"
   ]
  },
  {
   "cell_type": "code",
   "execution_count": 1,
   "id": "6eaee51f",
   "metadata": {},
   "outputs": [
    {
     "name": "stderr",
     "output_type": "stream",
     "text": [
      "C:\\Users\\Andre\\anaconda3\\lib\\site-packages\\numpy\\_distributor_init.py:30: UserWarning: loaded more than 1 DLL from .libs:\n",
      "C:\\Users\\Andre\\anaconda3\\lib\\site-packages\\numpy\\.libs\\libopenblas.EL2C6PLE4ZYW3ECEVIV3OXXGRN2NRFM2.gfortran-win_amd64.dll\n",
      "C:\\Users\\Andre\\anaconda3\\lib\\site-packages\\numpy\\.libs\\libopenblas.GK7GX5KEQ4F6UYO3P26ULGBQYHGQO7J4.gfortran-win_amd64.dll\n",
      "  warnings.warn(\"loaded more than 1 DLL from .libs:\"\n"
     ]
    }
   ],
   "source": [
    "import numpy as np\n",
    "import pandas as pd\n",
    "import matplotlib.pyplot as plt\n",
    "import statsmodels.api as sm\n",
    "from sklearn.linear_model import LinearRegression\n",
    "from sklearn.model_selection import train_test_split\n",
    "from sklearn import metrics"
   ]
  },
  {
   "cell_type": "markdown",
   "id": "ed1e2ac6",
   "metadata": {},
   "source": [
    "The <i>pandas</i> and <i>numpy</i> libraries will be used for loading and preprocessing the data. We use the <i>matplotlib</i> library for creating plots to better visualize the results. From <i>sklearn</i> we import the <i>LinearRegression</i> for creating our model, the <i>train\\_test\\_split</i> function for splitting the dataset into <b>Train</b> and <b>Test sets</b> and the <i>metrics</i> for calculating metrics like the <i>Root Mean Square Error</i>. Lastly, we import the <i>statsmodels.api</i> for evaluating the model's performance.\n",
    "    \n",
    "We continue by loading the <i>“Greece - Agriculture and Rural Development”</i> dataset. As we said, this is not the raw data we downloaded, but the preprocessed dataset we created in the introduction. \n",
    "Using the <i>head()</i> function, we can view the first 5 rows of the dataset:"
   ]
  },
  {
   "cell_type": "code",
   "execution_count": 3,
   "id": "7e104e34",
   "metadata": {},
   "outputs": [
    {
     "data": {
      "text/html": [
       "<div>\n",
       "<style scoped>\n",
       "    .dataframe tbody tr th:only-of-type {\n",
       "        vertical-align: middle;\n",
       "    }\n",
       "\n",
       "    .dataframe tbody tr th {\n",
       "        vertical-align: top;\n",
       "    }\n",
       "\n",
       "    .dataframe thead th {\n",
       "        text-align: right;\n",
       "    }\n",
       "</style>\n",
       "<table border=\"1\" class=\"dataframe\">\n",
       "  <thead>\n",
       "    <tr style=\"text-align: right;\">\n",
       "      <th></th>\n",
       "      <th>Agricultural land (% of land area)</th>\n",
       "      <th>Agricultural land (sq. km)</th>\n",
       "      <th>...</th>\n",
       "      <th>Rural population growth (annual %)</th>\n",
       "      <th>Surface area (sq. km)</th>\n",
       "    </tr>\n",
       "  </thead>\n",
       "  <tbody>\n",
       "    <tr>\n",
       "      <th>0</th>\n",
       "      <td>NaN</td>\n",
       "      <td>NaN</td>\n",
       "      <td>...</td>\n",
       "      <td>NaN</td>\n",
       "      <td>NaN</td>\n",
       "    </tr>\n",
       "    <tr>\n",
       "      <th>1</th>\n",
       "      <td>69.123351</td>\n",
       "      <td>89100.0</td>\n",
       "      <td>...</td>\n",
       "      <td>-0.387316</td>\n",
       "      <td>131960.0</td>\n",
       "    </tr>\n",
       "    <tr>\n",
       "      <th>2</th>\n",
       "      <td>69.061288</td>\n",
       "      <td>89020.0</td>\n",
       "      <td>...</td>\n",
       "      <td>-1.462143</td>\n",
       "      <td>131960.0</td>\n",
       "    </tr>\n",
       "    <tr>\n",
       "      <th>3</th>\n",
       "      <td>69.984484</td>\n",
       "      <td>90210.0</td>\n",
       "      <td>...</td>\n",
       "      <td>-1.718278</td>\n",
       "      <td>131960.0</td>\n",
       "    </tr>\n",
       "    <tr>\n",
       "      <th>4</th>\n",
       "      <td>69.751746</td>\n",
       "      <td>89910.0</td>\n",
       "      <td>...</td>\n",
       "      <td>-1.758920</td>\n",
       "      <td>131960.0</td>\n",
       "    </tr>\n",
       "  </tbody>\n",
       "</table>\n",
       "<p>5 rows × 23 columns</p>\n",
       "</div>"
      ],
      "text/plain": [
       "   Agricultural land (% of land area)  Agricultural land (sq. km)  ...  \\\n",
       "0                                 NaN                         NaN  ...   \n",
       "1                           69.123351                     89100.0  ...   \n",
       "2                           69.061288                     89020.0  ...   \n",
       "3                           69.984484                     90210.0  ...   \n",
       "4                           69.751746                     89910.0  ...   \n",
       "\n",
       "   Rural population growth (annual %)  Surface area (sq. km)  \n",
       "0                                 NaN                    NaN  \n",
       "1                           -0.387316               131960.0  \n",
       "2                           -1.462143               131960.0  \n",
       "3                           -1.718278               131960.0  \n",
       "4                           -1.758920               131960.0  \n",
       "\n",
       "[5 rows x 23 columns]"
      ]
     },
     "execution_count": 3,
     "metadata": {},
     "output_type": "execute_result"
    }
   ],
   "source": [
    "data_raw = pd.read_csv('../../../Datasets/Greece - Agriculture and Rural Development/agriculture-and-rural-development_grc.csv')\n",
    "pd.set_option('display.max_columns', 4)\n",
    "data_raw.head()"
   ]
  },
  {
   "cell_type": "markdown",
   "id": "25a31908",
   "metadata": {},
   "source": [
    "In Section 1.3.1 we saw that the data contains a lot of <i>NaN</i> values. If we try to fit data containing <i>NaN</i> values to the Scikit-learn <i>LinearRegression()</i> function, it will throw a <i>ValueError</i> with the message <i>\"Input contains NaN, infinity or a value too large for dtype('float64')\"</i>."
   ]
  },
  {
   "cell_type": "code",
   "execution_count": 4,
   "id": "0f123cc8",
   "metadata": {},
   "outputs": [
    {
     "data": {
      "text/html": [
       "<div>\n",
       "<style scoped>\n",
       "    .dataframe tbody tr th:only-of-type {\n",
       "        vertical-align: middle;\n",
       "    }\n",
       "\n",
       "    .dataframe tbody tr th {\n",
       "        vertical-align: top;\n",
       "    }\n",
       "\n",
       "    .dataframe thead th {\n",
       "        text-align: right;\n",
       "    }\n",
       "</style>\n",
       "<table border=\"1\" class=\"dataframe\">\n",
       "  <thead>\n",
       "    <tr style=\"text-align: right;\">\n",
       "      <th></th>\n",
       "      <th>Crop production index (2014-2016 = 100)</th>\n",
       "      <th>Cereal production (metric tons)</th>\n",
       "    </tr>\n",
       "  </thead>\n",
       "  <tbody>\n",
       "    <tr>\n",
       "      <th>0</th>\n",
       "      <td>62.570000</td>\n",
       "      <td>2243876.0</td>\n",
       "    </tr>\n",
       "    <tr>\n",
       "      <th>1</th>\n",
       "      <td>50.700001</td>\n",
       "      <td>2426843.0</td>\n",
       "    </tr>\n",
       "    <tr>\n",
       "      <th>2</th>\n",
       "      <td>57.430000</td>\n",
       "      <td>2122537.0</td>\n",
       "    </tr>\n",
       "    <tr>\n",
       "      <th>3</th>\n",
       "      <td>57.150002</td>\n",
       "      <td>2874641.0</td>\n",
       "    </tr>\n",
       "    <tr>\n",
       "      <th>4</th>\n",
       "      <td>61.770000</td>\n",
       "      <td>2940922.0</td>\n",
       "    </tr>\n",
       "  </tbody>\n",
       "</table>\n",
       "</div>"
      ],
      "text/plain": [
       "   Crop production index (2014-2016 = 100)  Cereal production (metric tons)\n",
       "0                                62.570000                        2243876.0\n",
       "1                                50.700001                        2426843.0\n",
       "2                                57.430000                        2122537.0\n",
       "3                                57.150002                        2874641.0\n",
       "4                                61.770000                        2940922.0"
      ]
     },
     "execution_count": 4,
     "metadata": {},
     "output_type": "execute_result"
    }
   ],
   "source": [
    "variable_x = \"Crop production index (2014-2016 = 100)\"\n",
    "variable_y = \"Cereal production (metric tons)\"\n",
    "data = data_raw[[variable_x, variable_y]].dropna().reset_index(drop=True)\n",
    "data.head()"
   ]
  },
  {
   "cell_type": "markdown",
   "id": "e320b8c3",
   "metadata": {},
   "source": [
    "To handle this, we extracted the variables we need for our analysis, <i>\"Crop production index (2014-2016 - 100)\"</i> and <i>\"Cereal production (metric tons)\"</i> and dropped the rows that contain <i>NaN</i> values. The <i>reset\\_index(drop=True)</i> is used to reset the index of the dataframe. The <i>drop</i> parameter is set to <i>True</i> so that the initial indexing is dropped and not included in the dataframe as a new column. The remaining data consist of 58 samples that can be used for training and testing the model. \n",
    "Next, we split the remaining samples in train and test sets using the Scikit-learn's <i>train\\_test\\_split()</i> function."
   ]
  },
  {
   "cell_type": "code",
   "execution_count": 5,
   "id": "3441b0a4",
   "metadata": {},
   "outputs": [],
   "source": [
    "X_train, X_test, y_train, y_test = train_test_split(data[variable_x].to_numpy(),\n",
    "data[variable_y].to_numpy(), test_size=0.2, random_state=42)"
   ]
  },
  {
   "cell_type": "markdown",
   "id": "84b9ade5",
   "metadata": {},
   "source": [
    "The <i>test\\_size</i> parameter, sets the percentage of samples to use in the test split. We follow a 80-20 split, meaning we will use 80\\% of samples for training and 20\\% for testing the model, so we set the parameter to 0.2. The <i>random\\_ state</i> parameter, controls the shuffling applied to the data before the split step. \n",
    "We can now fit the data to the linear regression model using the <i>fit()</i> function."
   ]
  },
  {
   "cell_type": "code",
   "execution_count": 6,
   "id": "f712343d",
   "metadata": {},
   "outputs": [],
   "source": [
    "model = LinearRegression().fit(X_train.reshape(-1, 1), y_train)"
   ]
  },
  {
   "cell_type": "code",
   "execution_count": 7,
   "id": "ba5939cd",
   "metadata": {},
   "outputs": [
    {
     "name": "stdout",
     "output_type": "stream",
     "text": [
      "Intercept: -338797.33066389244\n",
      "Slope: [51647.36492435]\n"
     ]
    }
   ],
   "source": [
    "print(f\"Intercept: {model.intercept_}\")\n",
    "print(f\"Slope: {model.coef_}\")"
   ]
  },
  {
   "cell_type": "markdown",
   "id": "450e7bb0",
   "metadata": {},
   "source": [
    "The reason we are reshaping the training data, is that the fit function expects a training vector with shape <i>(n\\_samples, n\\_features)</i>, but our vector's shape is (58,). By reshaping we set the number of columns to 1. After fitting the data to the regression model, we print the intercept and the slope of the model.\n",
    "We can now use the test set, we extracted earlier, and the trained model to make a prediction using the <i>predict()</i> function."
   ]
  },
  {
   "cell_type": "code",
   "execution_count": 8,
   "id": "81e1c61b",
   "metadata": {},
   "outputs": [
    {
     "data": {
      "text/plain": [
       "array([2892778.3, 2960952.8, 5072813.5, 3795574.4, 5177141.4, 4196357.7,\n",
       "       4998957.8, 4700952.6, 4551691.8, 3424746.3, 4813543.9, 2612849.7])"
      ]
     },
     "execution_count": 8,
     "metadata": {},
     "output_type": "execute_result"
    }
   ],
   "source": [
    "y_pred = np.around(model.predict(X_test.reshape(-1, 1)), 1)\n",
    "y_pred"
   ]
  },
  {
   "cell_type": "markdown",
   "id": "c0fe64a9",
   "metadata": {},
   "source": [
    "Having the predictions, we can evaluate the performance of the model using sklearn's <i>metric</i> module. We compute the mean absolute error, the mean squared error, the root mean squared error and the R2 Score."
   ]
  },
  {
   "cell_type": "code",
   "execution_count": 9,
   "id": "0672e4a6",
   "metadata": {},
   "outputs": [
    {
     "name": "stdout",
     "output_type": "stream",
     "text": [
      "Mean Absolute Error: 300467.2\n",
      "Mean Squared Error: 142457458025.50165\n",
      "Root Mean Squared Error: 377435.36933560116\n"
     ]
    }
   ],
   "source": [
    "print('Mean Absolute Error:', metrics.mean_absolute_error(y_test, y_pred)) \n",
    "print('Mean Squared Error:', metrics.mean_squared_error(y_test, y_pred)) \n",
    "print('Root Mean Squared Error:', np.sqrt(metrics.mean_squared_error(y_test,\n",
    "y_pred)))"
   ]
  },
  {
   "cell_type": "code",
   "execution_count": null,
   "id": "a683f015",
   "metadata": {},
   "outputs": [],
   "source": []
  },
  {
   "cell_type": "code",
   "execution_count": 10,
   "id": "549c0249",
   "metadata": {
    "scrolled": true
   },
   "outputs": [
    {
     "name": "stdout",
     "output_type": "stream",
     "text": [
      "R-Square value: 0.8563623217388497\n"
     ]
    }
   ],
   "source": [
    "print(\"R-Square value:\", metrics.r2_score(y_test, y_pred))"
   ]
  },
  {
   "cell_type": "code",
   "execution_count": null,
   "id": "f351c521",
   "metadata": {},
   "outputs": [],
   "source": []
  },
  {
   "cell_type": "code",
   "execution_count": 11,
   "id": "7f531351",
   "metadata": {},
   "outputs": [
    {
     "data": {
      "text/html": [
       "<table class=\"simpletable\">\n",
       "<caption>OLS Regression Results</caption>\n",
       "<tr>\n",
       "  <th>Dep. Variable:</th>            <td>y</td>        <th>  R-squared:         </th> <td>   0.744</td>\n",
       "</tr>\n",
       "<tr>\n",
       "  <th>Model:</th>                   <td>OLS</td>       <th>  Adj. R-squared:    </th> <td>   0.738</td>\n",
       "</tr>\n",
       "<tr>\n",
       "  <th>Method:</th>             <td>Least Squares</td>  <th>  F-statistic:       </th> <td>   127.6</td>\n",
       "</tr>\n",
       "<tr>\n",
       "  <th>Date:</th>             <td>Sun, 25 Jun 2023</td> <th>  Prob (F-statistic):</th> <td>1.36e-14</td>\n",
       "</tr>\n",
       "<tr>\n",
       "  <th>Time:</th>                 <td>10:50:25</td>     <th>  Log-Likelihood:    </th> <td> -668.16</td>\n",
       "</tr>\n",
       "<tr>\n",
       "  <th>No. Observations:</th>      <td>    46</td>      <th>  AIC:               </th> <td>   1340.</td>\n",
       "</tr>\n",
       "<tr>\n",
       "  <th>Df Residuals:</th>          <td>    44</td>      <th>  BIC:               </th> <td>   1344.</td>\n",
       "</tr>\n",
       "<tr>\n",
       "  <th>Df Model:</th>              <td>     1</td>      <th>                     </th>     <td> </td>   \n",
       "</tr>\n",
       "<tr>\n",
       "  <th>Covariance Type:</th>      <td>nonrobust</td>    <th>                     </th>     <td> </td>   \n",
       "</tr>\n",
       "</table>\n",
       "<table class=\"simpletable\">\n",
       "<tr>\n",
       "    <td></td>       <th>coef</th>     <th>std err</th>      <th>t</th>      <th>P>|t|</th>  <th>[0.025</th>    <th>0.975]</th>  \n",
       "</tr>\n",
       "<tr>\n",
       "  <th>const</th> <td>-3.388e+05</td> <td> 4.26e+05</td> <td>   -0.796</td> <td> 0.430</td> <td> -1.2e+06</td> <td> 5.19e+05</td>\n",
       "</tr>\n",
       "<tr>\n",
       "  <th>x1</th>    <td> 5.165e+04</td> <td> 4571.889</td> <td>   11.297</td> <td> 0.000</td> <td> 4.24e+04</td> <td> 6.09e+04</td>\n",
       "</tr>\n",
       "</table>\n",
       "<table class=\"simpletable\">\n",
       "<tr>\n",
       "  <th>Omnibus:</th>       <td> 0.370</td> <th>  Durbin-Watson:     </th> <td>   1.986</td>\n",
       "</tr>\n",
       "<tr>\n",
       "  <th>Prob(Omnibus):</th> <td> 0.831</td> <th>  Jarque-Bera (JB):  </th> <td>   0.538</td>\n",
       "</tr>\n",
       "<tr>\n",
       "  <th>Skew:</th>          <td>-0.082</td> <th>  Prob(JB):          </th> <td>   0.764</td>\n",
       "</tr>\n",
       "<tr>\n",
       "  <th>Kurtosis:</th>      <td> 2.496</td> <th>  Cond. No.          </th> <td>    534.</td>\n",
       "</tr>\n",
       "</table><br/><br/>Notes:<br/>[1] Standard Errors assume that the covariance matrix of the errors is correctly specified."
      ],
      "text/plain": [
       "<class 'statsmodels.iolib.summary.Summary'>\n",
       "\"\"\"\n",
       "                            OLS Regression Results                            \n",
       "==============================================================================\n",
       "Dep. Variable:                      y   R-squared:                       0.744\n",
       "Model:                            OLS   Adj. R-squared:                  0.738\n",
       "Method:                 Least Squares   F-statistic:                     127.6\n",
       "Date:                Sun, 25 Jun 2023   Prob (F-statistic):           1.36e-14\n",
       "Time:                        10:50:25   Log-Likelihood:                -668.16\n",
       "No. Observations:                  46   AIC:                             1340.\n",
       "Df Residuals:                      44   BIC:                             1344.\n",
       "Df Model:                           1                                         \n",
       "Covariance Type:            nonrobust                                         \n",
       "==============================================================================\n",
       "                 coef    std err          t      P>|t|      [0.025      0.975]\n",
       "------------------------------------------------------------------------------\n",
       "const      -3.388e+05   4.26e+05     -0.796      0.430    -1.2e+06    5.19e+05\n",
       "x1          5.165e+04   4571.889     11.297      0.000    4.24e+04    6.09e+04\n",
       "==============================================================================\n",
       "Omnibus:                        0.370   Durbin-Watson:                   1.986\n",
       "Prob(Omnibus):                  0.831   Jarque-Bera (JB):                0.538\n",
       "Skew:                          -0.082   Prob(JB):                        0.764\n",
       "Kurtosis:                       2.496   Cond. No.                         534.\n",
       "==============================================================================\n",
       "\n",
       "Notes:\n",
       "[1] Standard Errors assume that the covariance matrix of the errors is correctly specified.\n",
       "\"\"\""
      ]
     },
     "execution_count": 11,
     "metadata": {},
     "output_type": "execute_result"
    }
   ],
   "source": [
    "X_stat = sm.add_constant(X_train)\n",
    "regsummary = sm.OLS(y_train, X_stat).fit()\n",
    "regsummary.summary()"
   ]
  },
  {
   "cell_type": "code",
   "execution_count": 12,
   "id": "2165a087",
   "metadata": {},
   "outputs": [
    {
     "data": {
      "image/png": "[encoded data removed]",
      "text/plain": [
       "<Figure size 432x288 with 1 Axes>"
      ]
     },
     "metadata": {
      "needs_background": "light"
     },
     "output_type": "display_data"
    }
   ],
   "source": [
    "fig, ax = plt.subplots()\n",
    "x_axis = np.arange(12)\n",
    "plt.bar(x_axis-0.2, y_test, width=0.4, label = \"Actual\")\n",
    "plt.bar(x_axis+0.2, y_pred, width=0.4, label = \"Predicted\")\n",
    "plt.xlabel(\"Sample\", fontsize=14)\n",
    "plt.ylabel(\"Count\", fontsize=14)\n",
    "plt.legend()\n",
    "plt.tight_layout()\n",
    "plt.show()"
   ]
  },
  {
   "cell_type": "code",
   "execution_count": null,
   "id": "94d0bcc4",
   "metadata": {},
   "outputs": [],
   "source": []
  }
 ],
 "metadata": {
  "kernelspec": {
   "display_name": "Python 3",
   "language": "python",
   "name": "python3"
  },
  "language_info": {
   "codemirror_mode": {
    "name": "ipython",
    "version": 3
   },
   "file_extension": ".py",
   "mimetype": "text/x-python",
   "name": "python",
   "nbconvert_exporter": "python",
   "pygments_lexer": "ipython3",
   "version": "3.8.8"
  }
 },
 "nbformat": 4,
 "nbformat_minor": 5
}
