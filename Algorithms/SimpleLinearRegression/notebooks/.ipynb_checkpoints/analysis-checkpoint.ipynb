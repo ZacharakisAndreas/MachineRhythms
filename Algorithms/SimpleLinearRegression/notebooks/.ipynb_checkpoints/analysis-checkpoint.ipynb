{
 "cells": [
  {
   "cell_type": "markdown",
   "id": "6f9312a9",
   "metadata": {},
   "source": [
    "## Import packages and classes\n",
    "Starting with Scikit-learn or simply sklearn, we will use the **LinearRegression()** function to fit a linear regression model. For this example we will use the preprocessed \"Greece – Agriculture and Rural Development\" dataset. We start by including the required libraries and classes:"
   ]
  },
  {
   "cell_type": "code",
   "execution_count": 1,
   "id": "a758b92a",
   "metadata": {},
   "outputs": [],
   "source": [
    "import numpy as np\n",
    "import pandas as pd\n",
    "import matplotlib.pyplot as plt\n",
    "from sklearn.linear_model import LinearRegression\n",
    "from sklearn.model_selection import train_test_split\n",
    "from sklearn import metrics\n",
    "import statsmodels.api as sm"
   ]
  },
  {
   "cell_type": "markdown",
   "id": "ee203e7e",
   "metadata": {},
   "source": [
    "The $pandas$ and $numpy$ libraries will be used for loading and preprocessing the data. We use the $matplotlib$ library for creating plots to better visualize the results. From $sklearn$ we import the $linear\\_model.LinearRegression$ for creating our model, the $model\\_selection.train\\_test\\_split$ function for splitting the dataset into **Train** and **Test sets** and the $metrics$ for calculating metrics like the *Root Mean Square Error*. Lastly, we import the $statsmodels.api$ for evaluating the model's performance."
   ]
  },
  {
   "cell_type": "markdown",
   "id": "a1a49a77",
   "metadata": {},
   "source": [
    "## Load dataset\n",
    "We continue by loading the *Greece - Agriculture and Rural Development* dataset as a pandas frame using the $read\\_csv()$ function.\n",
    "Using the *head()* function, we can view the first 5 rows of the dataset:"
   ]
  },
  {
   "cell_type": "code",
   "execution_count": 2,
   "id": "0a7ee2ad",
   "metadata": {},
   "outputs": [
    {
     "data": {
      "text/html": [
       "<div>\n",
       "<style scoped>\n",
       "    .dataframe tbody tr th:only-of-type {\n",
       "        vertical-align: middle;\n",
       "    }\n",
       "\n",
       "    .dataframe tbody tr th {\n",
       "        vertical-align: top;\n",
       "    }\n",
       "\n",
       "    .dataframe thead th {\n",
       "        text-align: right;\n",
       "    }\n",
       "</style>\n",
       "<table border=\"1\" class=\"dataframe\">\n",
       "  <thead>\n",
       "    <tr style=\"text-align: right;\">\n",
       "      <th></th>\n",
       "      <th>Year</th>\n",
       "      <th>Access to electricity, rural (% of rural population)</th>\n",
       "      <th>Agricultural irrigated land (% of total agricultural land)</th>\n",
       "      <th>Agricultural land (% of land area)</th>\n",
       "      <th>Agricultural land (sq. km)</th>\n",
       "      <th>...</th>\n",
       "      <th>Rural population</th>\n",
       "      <th>Rural population (% of total population)</th>\n",
       "      <th>Rural population growth (annual %)</th>\n",
       "      <th>Rural population living in areas where elevation is below 5 meters (% of total population)</th>\n",
       "      <th>Surface area (sq. km)</th>\n",
       "    </tr>\n",
       "  </thead>\n",
       "  <tbody>\n",
       "    <tr>\n",
       "      <th>0</th>\n",
       "      <td>1960</td>\n",
       "      <td>NaN</td>\n",
       "      <td>NaN</td>\n",
       "      <td>NaN</td>\n",
       "      <td>NaN</td>\n",
       "      <td>...</td>\n",
       "      <td>3671291</td>\n",
       "      <td>44.064</td>\n",
       "      <td>NaN</td>\n",
       "      <td>NaN</td>\n",
       "      <td>NaN</td>\n",
       "    </tr>\n",
       "    <tr>\n",
       "      <th>1</th>\n",
       "      <td>1961</td>\n",
       "      <td>NaN</td>\n",
       "      <td>NaN</td>\n",
       "      <td>69.123351</td>\n",
       "      <td>89100.0</td>\n",
       "      <td>...</td>\n",
       "      <td>3657099</td>\n",
       "      <td>43.547</td>\n",
       "      <td>-0.387316</td>\n",
       "      <td>NaN</td>\n",
       "      <td>131960.0</td>\n",
       "    </tr>\n",
       "    <tr>\n",
       "      <th>2</th>\n",
       "      <td>1962</td>\n",
       "      <td>NaN</td>\n",
       "      <td>NaN</td>\n",
       "      <td>69.061288</td>\n",
       "      <td>89020.0</td>\n",
       "      <td>...</td>\n",
       "      <td>3604016</td>\n",
       "      <td>42.660</td>\n",
       "      <td>-1.462143</td>\n",
       "      <td>NaN</td>\n",
       "      <td>131960.0</td>\n",
       "    </tr>\n",
       "    <tr>\n",
       "      <th>3</th>\n",
       "      <td>1963</td>\n",
       "      <td>NaN</td>\n",
       "      <td>NaN</td>\n",
       "      <td>69.984484</td>\n",
       "      <td>90210.0</td>\n",
       "      <td>...</td>\n",
       "      <td>3542618</td>\n",
       "      <td>41.778</td>\n",
       "      <td>-1.718278</td>\n",
       "      <td>NaN</td>\n",
       "      <td>131960.0</td>\n",
       "    </tr>\n",
       "    <tr>\n",
       "      <th>4</th>\n",
       "      <td>1964</td>\n",
       "      <td>NaN</td>\n",
       "      <td>NaN</td>\n",
       "      <td>69.751746</td>\n",
       "      <td>89910.0</td>\n",
       "      <td>...</td>\n",
       "      <td>3480851</td>\n",
       "      <td>40.901</td>\n",
       "      <td>-1.758920</td>\n",
       "      <td>NaN</td>\n",
       "      <td>131960.0</td>\n",
       "    </tr>\n",
       "  </tbody>\n",
       "</table>\n",
       "<p>5 rows × 43 columns</p>\n",
       "</div>"
      ],
      "text/plain": [
       "   Year  Access to electricity, rural (% of rural population)  \\\n",
       "0  1960                                                NaN      \n",
       "1  1961                                                NaN      \n",
       "2  1962                                                NaN      \n",
       "3  1963                                                NaN      \n",
       "4  1964                                                NaN      \n",
       "\n",
       "   Agricultural irrigated land (% of total agricultural land)  \\\n",
       "0                                                NaN            \n",
       "1                                                NaN            \n",
       "2                                                NaN            \n",
       "3                                                NaN            \n",
       "4                                                NaN            \n",
       "\n",
       "   Agricultural land (% of land area)  Agricultural land (sq. km)  ...  \\\n",
       "0                                 NaN                         NaN  ...   \n",
       "1                           69.123351                     89100.0  ...   \n",
       "2                           69.061288                     89020.0  ...   \n",
       "3                           69.984484                     90210.0  ...   \n",
       "4                           69.751746                     89910.0  ...   \n",
       "\n",
       "   Rural population  Rural population (% of total population)  \\\n",
       "0           3671291                                    44.064   \n",
       "1           3657099                                    43.547   \n",
       "2           3604016                                    42.660   \n",
       "3           3542618                                    41.778   \n",
       "4           3480851                                    40.901   \n",
       "\n",
       "   Rural population growth (annual %)  \\\n",
       "0                                 NaN   \n",
       "1                           -0.387316   \n",
       "2                           -1.462143   \n",
       "3                           -1.718278   \n",
       "4                           -1.758920   \n",
       "\n",
       "   Rural population living in areas where elevation is below 5 meters (% of total population)  \\\n",
       "0                                                NaN                                            \n",
       "1                                                NaN                                            \n",
       "2                                                NaN                                            \n",
       "3                                                NaN                                            \n",
       "4                                                NaN                                            \n",
       "\n",
       "   Surface area (sq. km)  \n",
       "0                    NaN  \n",
       "1               131960.0  \n",
       "2               131960.0  \n",
       "3               131960.0  \n",
       "4               131960.0  \n",
       "\n",
       "[5 rows x 43 columns]"
      ]
     },
     "execution_count": 2,
     "metadata": {},
     "output_type": "execute_result"
    }
   ],
   "source": [
    "data = pd.read_csv('./../../../Datasets/Greece - Agriculture and Rural Development/agriculture-and-rural-development_grc.csv', usecols=None)\n",
    "pd.set_option('display.max_columns', 10)\n",
    "data.head()"
   ]
  },
  {
   "cell_type": "markdown",
   "id": "e80ccc74",
   "metadata": {},
   "source": [
    "During the analysis of the dataset we saw that the data contains a lot of $NaN$ values. If we try to fit data containing $NaN$ values to the *Scikit-learn* $LinearRegression()$ function, it will throw a *ValueError* with the message *'Input contains NaN, infinity or a value too large for dtype('float64')'*."
   ]
  },
  {
   "cell_type": "markdown",
   "id": "44423a80",
   "metadata": {},
   "source": [
    "## Select variables & Drop NaN values\n"
   ]
  },
  {
   "cell_type": "code",
   "execution_count": 4,
   "id": "8e961e6f",
   "metadata": {},
   "outputs": [
    {
     "data": {
      "text/html": [
       "<div>\n",
       "<style scoped>\n",
       "    .dataframe tbody tr th:only-of-type {\n",
       "        vertical-align: middle;\n",
       "    }\n",
       "\n",
       "    .dataframe tbody tr th {\n",
       "        vertical-align: top;\n",
       "    }\n",
       "\n",
       "    .dataframe thead th {\n",
       "        text-align: right;\n",
       "    }\n",
       "</style>\n",
       "<table border=\"1\" class=\"dataframe\">\n",
       "  <thead>\n",
       "    <tr style=\"text-align: right;\">\n",
       "      <th></th>\n",
       "      <th>Crop production index (2014-2016 = 100)</th>\n",
       "      <th>Cereal production (metric tons)</th>\n",
       "    </tr>\n",
       "  </thead>\n",
       "  <tbody>\n",
       "    <tr>\n",
       "      <th>0</th>\n",
       "      <td>62.570000</td>\n",
       "      <td>2243876.0</td>\n",
       "    </tr>\n",
       "    <tr>\n",
       "      <th>1</th>\n",
       "      <td>50.700001</td>\n",
       "      <td>2426843.0</td>\n",
       "    </tr>\n",
       "    <tr>\n",
       "      <th>2</th>\n",
       "      <td>57.430000</td>\n",
       "      <td>2122537.0</td>\n",
       "    </tr>\n",
       "    <tr>\n",
       "      <th>3</th>\n",
       "      <td>57.150002</td>\n",
       "      <td>2874641.0</td>\n",
       "    </tr>\n",
       "    <tr>\n",
       "      <th>4</th>\n",
       "      <td>61.770000</td>\n",
       "      <td>2940922.0</td>\n",
       "    </tr>\n",
       "  </tbody>\n",
       "</table>\n",
       "</div>"
      ],
      "text/plain": [
       "   Crop production index (2014-2016 = 100)  Cereal production (metric tons)\n",
       "0                                62.570000                        2243876.0\n",
       "1                                50.700001                        2426843.0\n",
       "2                                57.430000                        2122537.0\n",
       "3                                57.150002                        2874641.0\n",
       "4                                61.770000                        2940922.0"
      ]
     },
     "execution_count": 4,
     "metadata": {},
     "output_type": "execute_result"
    }
   ],
   "source": [
    "variable_x = \"Crop production index (2014-2016 = 100)\"\n",
    "variable_y = \"Cereal production (metric tons)\"\n",
    "data = data[[variable_x, variable_y]].dropna().reset_index(drop=True)\n",
    "data.head()"
   ]
  },
  {
   "cell_type": "markdown",
   "id": "72701a34",
   "metadata": {},
   "source": [
    "To handle this, we extracted the variables we need for our analysis,*Crop production index (2014-2016 - 100)* and *Cereal production (metric tons)* and drop the rows that contain $NaN$ values using the $dropna()$ function. The $reset\\_index(drop=True)$ is used to reset the index of the dataframe. The $drop$ parameter is set to $True$ so that the initial indexing is dropped and not included in the dataframe as a new column. The remaining data consist of 58 samples that can be used for training and testing the model. \n",
    "Next, we split the remaining samples in train and test sets using the Scikit-learn's $train\\_test\\_split()$ function."
   ]
  },
  {
   "cell_type": "markdown",
   "id": "81b49af8",
   "metadata": {},
   "source": [
    "## Train-test split"
   ]
  },
  {
   "cell_type": "code",
   "execution_count": 5,
   "id": "fdb37ea5",
   "metadata": {},
   "outputs": [],
   "source": [
    "X_train, X_test, y_train, y_test = train_test_split(data[variable_x].to_numpy(), data[variable_y].to_numpy(), test_size=0.2, random_state=42)"
   ]
  },
  {
   "cell_type": "markdown",
   "id": "47fc6618",
   "metadata": {},
   "source": [
    "The $test\\_size$ parameter, sets the percentage of samples to use in the test split. We follow a 80-20 split, meaning we will use 80\\% of samples for training and 20\\% for testing the model, so we set the parameter to 0.2. The $random\\_ state$ parameter, controls the shuffling applied to the data before the split step. \n",
    "We can now fit the data to the linear regression model using the $fit()$ function."
   ]
  },
  {
   "cell_type": "markdown",
   "id": "6ec8b1c2",
   "metadata": {},
   "source": [
    "## Sklean Linear Regression"
   ]
  },
  {
   "cell_type": "code",
   "execution_count": 6,
   "id": "9d8cb920",
   "metadata": {},
   "outputs": [],
   "source": [
    "model = LinearRegression().fit(X_train.reshape(-1, 1), y_train)"
   ]
  },
  {
   "cell_type": "code",
   "execution_count": 7,
   "id": "dcac8d1a",
   "metadata": {},
   "outputs": [
    {
     "name": "stdout",
     "output_type": "stream",
     "text": [
      "Intercept: -338797.33066389244\n",
      "Slope: [51647.36492435]\n"
     ]
    }
   ],
   "source": [
    "print(f\"Intercept: {model.intercept_}\")\n",
    "print(f\"Slope: {model.coef_}\")"
   ]
  },
  {
   "cell_type": "markdown",
   "id": "89906f0f",
   "metadata": {},
   "source": [
    "The reason we are reshaping the training data, is that the fit function expects a training vector with shape $(n\\_samples, n\\_features)$, but our vector's shape is (58,). By reshaping we set the number of columns to 1. After fitting the data to the regression model, we print the intercept and the slope of the model.\n",
    "We can now use the test set, we extracted earlier, and the trained model to make a prediction using the $predict()$ function."
   ]
  },
  {
   "cell_type": "markdown",
   "id": "922e539a",
   "metadata": {},
   "source": [
    "## Prediction"
   ]
  },
  {
   "cell_type": "code",
   "execution_count": 8,
   "id": "8d1f410f",
   "metadata": {},
   "outputs": [
    {
     "data": {
      "text/plain": [
       "array([2892778.3, 2960952.8, 5072813.5, 3795574.4, 5177141.4, 4196357.7,\n",
       "       4998957.8, 4700952.6, 4551691.8, 3424746.3, 4813543.9, 2612849.7])"
      ]
     },
     "execution_count": 8,
     "metadata": {},
     "output_type": "execute_result"
    }
   ],
   "source": [
    "y_pred = np.around(model.predict(X_test.reshape(-1, 1)), 1)\n",
    "y_pred"
   ]
  },
  {
   "cell_type": "markdown",
   "id": "62a3770a",
   "metadata": {},
   "source": [
    "Having the predictions, we can evaluate the performance of the model using sklearn's $metric$ module. We compute the mean absolute error, the mean squared error, the root mean squared error and the R2 Score."
   ]
  },
  {
   "cell_type": "markdown",
   "id": "f643aee4",
   "metadata": {},
   "source": [
    "## Evaluation"
   ]
  },
  {
   "cell_type": "code",
   "execution_count": 9,
   "id": "8bf22280",
   "metadata": {},
   "outputs": [
    {
     "name": "stdout",
     "output_type": "stream",
     "text": [
      "Mean Absolute Error: 300467.2\n",
      "Mean Squared Error: 142457458025.50165\n",
      "Root Mean Squared Error: 377435.36933560116\n"
     ]
    }
   ],
   "source": [
    "print('Mean Absolute Error:', metrics.mean_absolute_error(y_test, y_pred))  \n",
    "print('Mean Squared Error:', metrics.mean_squared_error(y_test, y_pred))  \n",
    "print('Root Mean Squared Error:', np.sqrt(metrics.mean_squared_error(y_test, y_pred)))"
   ]
  },
  {
   "cell_type": "code",
   "execution_count": 10,
   "id": "18d1027f",
   "metadata": {},
   "outputs": [
    {
     "name": "stdout",
     "output_type": "stream",
     "text": [
      "R-Square value: 0.8563623217388497\n"
     ]
    }
   ],
   "source": [
    "print(\"R-Square value:\", metrics.r2_score(y_test, y_pred))"
   ]
  },
  {
   "cell_type": "code",
   "execution_count": 11,
   "id": "e8aa6fc4",
   "metadata": {},
   "outputs": [
    {
     "data": {
      "text/html": [
       "<table class=\"simpletable\">\n",
       "<caption>OLS Regression Results</caption>\n",
       "<tr>\n",
       "  <th>Dep. Variable:</th>            <td>y</td>        <th>  R-squared:         </th> <td>   0.744</td>\n",
       "</tr>\n",
       "<tr>\n",
       "  <th>Model:</th>                   <td>OLS</td>       <th>  Adj. R-squared:    </th> <td>   0.738</td>\n",
       "</tr>\n",
       "<tr>\n",
       "  <th>Method:</th>             <td>Least Squares</td>  <th>  F-statistic:       </th> <td>   127.6</td>\n",
       "</tr>\n",
       "<tr>\n",
       "  <th>Date:</th>             <td>Fri, 28 Jul 2023</td> <th>  Prob (F-statistic):</th> <td>1.36e-14</td>\n",
       "</tr>\n",
       "<tr>\n",
       "  <th>Time:</th>                 <td>14:53:58</td>     <th>  Log-Likelihood:    </th> <td> -668.16</td>\n",
       "</tr>\n",
       "<tr>\n",
       "  <th>No. Observations:</th>      <td>    46</td>      <th>  AIC:               </th> <td>   1340.</td>\n",
       "</tr>\n",
       "<tr>\n",
       "  <th>Df Residuals:</th>          <td>    44</td>      <th>  BIC:               </th> <td>   1344.</td>\n",
       "</tr>\n",
       "<tr>\n",
       "  <th>Df Model:</th>              <td>     1</td>      <th>                     </th>     <td> </td>   \n",
       "</tr>\n",
       "<tr>\n",
       "  <th>Covariance Type:</th>      <td>nonrobust</td>    <th>                     </th>     <td> </td>   \n",
       "</tr>\n",
       "</table>\n",
       "<table class=\"simpletable\">\n",
       "<tr>\n",
       "    <td></td>       <th>coef</th>     <th>std err</th>      <th>t</th>      <th>P>|t|</th>  <th>[0.025</th>    <th>0.975]</th>  \n",
       "</tr>\n",
       "<tr>\n",
       "  <th>const</th> <td>-3.388e+05</td> <td> 4.26e+05</td> <td>   -0.796</td> <td> 0.430</td> <td> -1.2e+06</td> <td> 5.19e+05</td>\n",
       "</tr>\n",
       "<tr>\n",
       "  <th>x1</th>    <td> 5.165e+04</td> <td> 4571.889</td> <td>   11.297</td> <td> 0.000</td> <td> 4.24e+04</td> <td> 6.09e+04</td>\n",
       "</tr>\n",
       "</table>\n",
       "<table class=\"simpletable\">\n",
       "<tr>\n",
       "  <th>Omnibus:</th>       <td> 0.370</td> <th>  Durbin-Watson:     </th> <td>   1.986</td>\n",
       "</tr>\n",
       "<tr>\n",
       "  <th>Prob(Omnibus):</th> <td> 0.831</td> <th>  Jarque-Bera (JB):  </th> <td>   0.538</td>\n",
       "</tr>\n",
       "<tr>\n",
       "  <th>Skew:</th>          <td>-0.082</td> <th>  Prob(JB):          </th> <td>   0.764</td>\n",
       "</tr>\n",
       "<tr>\n",
       "  <th>Kurtosis:</th>      <td> 2.496</td> <th>  Cond. No.          </th> <td>    534.</td>\n",
       "</tr>\n",
       "</table><br/><br/>Notes:<br/>[1] Standard Errors assume that the covariance matrix of the errors is correctly specified."
      ],
      "text/plain": [
       "<class 'statsmodels.iolib.summary.Summary'>\n",
       "\"\"\"\n",
       "                            OLS Regression Results                            \n",
       "==============================================================================\n",
       "Dep. Variable:                      y   R-squared:                       0.744\n",
       "Model:                            OLS   Adj. R-squared:                  0.738\n",
       "Method:                 Least Squares   F-statistic:                     127.6\n",
       "Date:                Fri, 28 Jul 2023   Prob (F-statistic):           1.36e-14\n",
       "Time:                        14:53:58   Log-Likelihood:                -668.16\n",
       "No. Observations:                  46   AIC:                             1340.\n",
       "Df Residuals:                      44   BIC:                             1344.\n",
       "Df Model:                           1                                         \n",
       "Covariance Type:            nonrobust                                         \n",
       "==============================================================================\n",
       "                 coef    std err          t      P>|t|      [0.025      0.975]\n",
       "------------------------------------------------------------------------------\n",
       "const      -3.388e+05   4.26e+05     -0.796      0.430    -1.2e+06    5.19e+05\n",
       "x1          5.165e+04   4571.889     11.297      0.000    4.24e+04    6.09e+04\n",
       "==============================================================================\n",
       "Omnibus:                        0.370   Durbin-Watson:                   1.986\n",
       "Prob(Omnibus):                  0.831   Jarque-Bera (JB):                0.538\n",
       "Skew:                          -0.082   Prob(JB):                        0.764\n",
       "Kurtosis:                       2.496   Cond. No.                         534.\n",
       "==============================================================================\n",
       "\n",
       "Notes:\n",
       "[1] Standard Errors assume that the covariance matrix of the errors is correctly specified.\n",
       "\"\"\""
      ]
     },
     "execution_count": 11,
     "metadata": {},
     "output_type": "execute_result"
    }
   ],
   "source": [
    "X_stat = sm.add_constant(X_train)\n",
    "regsummary = sm.OLS(y_train, X_stat).fit()\n",
    "regsummary.summary()"
   ]
  },
  {
   "cell_type": "markdown",
   "id": "547cb401",
   "metadata": {},
   "source": [
    "Lastly, we can visualize the results by creating a bar plot with two columns, one for the actual value and one for the predicted value."
   ]
  },
  {
   "cell_type": "code",
   "execution_count": 12,
   "id": "1607caab",
   "metadata": {},
   "outputs": [
    {
     "data": {
      "image/png": "[encoded data removed]",
      "text/plain": [
       "<Figure size 432x288 with 1 Axes>"
      ]
     },
     "metadata": {
      "needs_background": "light"
     },
     "output_type": "display_data"
    }
   ],
   "source": [
    "fig, ax = plt.subplots()\n",
    "x_axis = np.arange(12)\n",
    "\n",
    "plt.bar(x_axis-0.2, y_test, width=0.4, label = \"Actual\")\n",
    "plt.bar(x_axis+0.2, y_pred, width=0.4, label = \"Predicted\")\n",
    "\n",
    "plt.xlabel(\"Sample\", fontsize=14)\n",
    "plt.ylabel(\"Count\", fontsize=14)\n",
    "\n",
    "plt.legend()\n",
    "\n",
    "plt.tight_layout()\n",
    "plt.show()"
   ]
  },
  {
   "cell_type": "markdown",
   "id": "3bf27027",
   "metadata": {},
   "source": [
    "## Linear Regression by Hand"
   ]
  },
  {
   "cell_type": "code",
   "execution_count": 42,
   "id": "5191329c",
   "metadata": {},
   "outputs": [],
   "source": [
    "class Simple_linear_regression:\n",
    "    \n",
    "    def __init__(self, x, y):\n",
    "        self.x_train = x\n",
    "        self.y_train = y\n",
    "\n",
    "    def train(self):\n",
    "        \"\"\"\n",
    "        Training of the simple linear regression model\n",
    "        \n",
    "        Returns:\n",
    "            The regression coefficients b0 and b1\n",
    "        \"\"\"\n",
    "        \n",
    "        assert np.size(self.x_train) == np.size(self.y_train)\n",
    "\n",
    "        # number of observations\n",
    "        n = np.size(self.x_train)\n",
    "\n",
    "        # mean of x_train and y_train vectors\n",
    "        m_x = np.mean(self.x_train)\n",
    "        m_y = np.mean(self.y_train)\n",
    "\n",
    "        # calculating regression coefficients b0 and b1\n",
    "        self.b1_coeficient = (np.sum(self.y_train*self.x_train) - n*m_y*m_x) / (np.sum(self.x_train*self.x_train) - n*m_x*m_x)\n",
    "        self.b0_coeficient = m_y - self.b1_coeficient*m_x\n",
    "\n",
    "        return (self.b0_coeficient, self.b1_coeficient)\n",
    "\n",
    "    def predict(self, x_test):\n",
    "        \"\"\"\n",
    "        Making predictions based on given data using the pre-trained simple linear regression model.\n",
    "        \n",
    "        Parameters:\n",
    "          x_test: float, array or series object the independent variable.\n",
    "        \n",
    "        Returns: \n",
    "            The prediction results\n",
    "        \"\"\"\n",
    "        \n",
    "        self.predictions = self.b0_coeficient + (self.b1_coeficient * x_test)\n",
    "        \n",
    "        return self.predictions"
   ]
  },
  {
   "cell_type": "code",
   "execution_count": 43,
   "id": "58fdc526",
   "metadata": {},
   "outputs": [
    {
     "data": {
      "text/plain": [
       "(-338797.3306638859, 51647.3649243486)"
      ]
     },
     "execution_count": 43,
     "metadata": {},
     "output_type": "execute_result"
    }
   ],
   "source": [
    "slr = Simple_linear_regression(X_train, y_train)\n",
    "slr.train()  "
   ]
  },
  {
   "cell_type": "code",
   "execution_count": 44,
   "id": "0eb5cf96",
   "metadata": {},
   "outputs": [
    {
     "data": {
      "text/plain": [
       "array([2892778.27689108, 2960952.78282969, 5072813.50306327,\n",
       "       3795574.38914547, 5177141.4008718 , 4196357.65725097,\n",
       "       4998957.75545991, 4700952.6332232 , 4551691.78011489,\n",
       "       3424746.29322712, 4813543.90451981, 2612849.65357026])"
      ]
     },
     "execution_count": 44,
     "metadata": {},
     "output_type": "execute_result"
    }
   ],
   "source": [
    "predictions = slr.predict(X_test)\n",
    "predictions"
   ]
  },
  {
   "cell_type": "code",
   "execution_count": 45,
   "id": "4e39602a",
   "metadata": {},
   "outputs": [
    {
     "data": {
      "image/png": "[encoded data removed]",
      "text/plain": [
       "<Figure size 432x288 with 1 Axes>"
      ]
     },
     "metadata": {
      "needs_background": "light"
     },
     "output_type": "display_data"
    }
   ],
   "source": [
    "fig, ax = plt.subplots()\n",
    "x_axis = np.arange(12)\n",
    "\n",
    "plt.bar(x_axis-0.2, y_test, width=0.4, label = \"Actual\")\n",
    "plt.bar(x_axis+0.2, predictions, width=0.4, label = \"Predicted\")\n",
    "\n",
    "plt.xlabel(\"Sample\", fontsize=14)\n",
    "plt.ylabel(\"Count\", fontsize=14)\n",
    "\n",
    "plt.legend()\n",
    "\n",
    "plt.tight_layout()\n",
    "plt.show()"
   ]
  },
  {
   "cell_type": "code",
   "execution_count": null,
   "id": "3abc6df1",
   "metadata": {},
   "outputs": [],
   "source": []
  }
 ],
 "metadata": {
  "kernelspec": {
   "display_name": "Python 3",
   "language": "python",
   "name": "python3"
  },
  "language_info": {
   "codemirror_mode": {
    "name": "ipython",
    "version": 3
   },
   "file_extension": ".py",
   "mimetype": "text/x-python",
   "name": "python",
   "nbconvert_exporter": "python",
   "pygments_lexer": "ipython3",
   "version": "3.8.8"
  }
 },
 "nbformat": 4,
 "nbformat_minor": 5
}
