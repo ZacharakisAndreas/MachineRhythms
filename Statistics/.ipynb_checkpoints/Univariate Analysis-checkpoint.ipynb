{
 "cells": [
  {
   "cell_type": "markdown",
   "id": "cae68e70",
   "metadata": {},
   "source": [
    "# Univariate Analysis\n",
    "Etymologically the word \"Uni-\" is Latin and mean \"single\" or \"one\". Univariate analysis, is the simplest form of analysis and focuses on analysing a single variable. The analysis can take the form of descriptive or inferential statistics and can be applied to both numerical and categorical data. \n",
    "\n",
    "- **Descriptive statistics**: Used to describe the characteristics or features of a dataset. The term ‘descriptive statistics’ can be used to describe both individual quantitative observations (also known as ‘summary statistics’) as well as the overall process of obtaining insights from these data.\n",
    "- **Inferential statistics**: Focus on making generalizations about a larger population based on a representative sample of that population. Because inferential statistics focuses on making predictions (rather than stating facts) its results are usually in the form of a probability.\n"
   ]
  },
  {
   "cell_type": "code",
   "execution_count": 1,
   "id": "f8d12655",
   "metadata": {},
   "outputs": [],
   "source": [
    "import numpy as np\n",
    "import pandas as pd"
   ]
  },
  {
   "cell_type": "markdown",
   "id": "ed219540",
   "metadata": {},
   "source": [
    "# Dataset\n",
    "For our analysis we load the **titanic-disaster-dataset**. "
   ]
  },
  {
   "cell_type": "code",
   "execution_count": 2,
   "id": "7d7e0a6f",
   "metadata": {},
   "outputs": [],
   "source": [
    "data = pd.read_csv(\"../Datasets/titanic-disaster-dataset/titanic.csv\")"
   ]
  },
  {
   "cell_type": "code",
   "execution_count": 3,
   "id": "efb21951",
   "metadata": {},
   "outputs": [
    {
     "data": {
      "text/html": [
       "<div>\n",
       "<style scoped>\n",
       "    .dataframe tbody tr th:only-of-type {\n",
       "        vertical-align: middle;\n",
       "    }\n",
       "\n",
       "    .dataframe tbody tr th {\n",
       "        vertical-align: top;\n",
       "    }\n",
       "\n",
       "    .dataframe thead th {\n",
       "        text-align: right;\n",
       "    }\n",
       "</style>\n",
       "<table border=\"1\" class=\"dataframe\">\n",
       "  <thead>\n",
       "    <tr style=\"text-align: right;\">\n",
       "      <th></th>\n",
       "      <th>pclass</th>\n",
       "      <th>survived</th>\n",
       "      <th>name</th>\n",
       "      <th>sex</th>\n",
       "      <th>age</th>\n",
       "      <th>sibsp</th>\n",
       "      <th>parch</th>\n",
       "      <th>ticket</th>\n",
       "      <th>fare</th>\n",
       "      <th>cabin</th>\n",
       "      <th>embarked</th>\n",
       "      <th>boat</th>\n",
       "      <th>body</th>\n",
       "      <th>home.dest</th>\n",
       "    </tr>\n",
       "  </thead>\n",
       "  <tbody>\n",
       "    <tr>\n",
       "      <th>0</th>\n",
       "      <td>1</td>\n",
       "      <td>1</td>\n",
       "      <td>Allen, Miss. Elisabeth Walton</td>\n",
       "      <td>female</td>\n",
       "      <td>29.0000</td>\n",
       "      <td>0</td>\n",
       "      <td>0</td>\n",
       "      <td>24160</td>\n",
       "      <td>211.3375</td>\n",
       "      <td>B5</td>\n",
       "      <td>S</td>\n",
       "      <td>2</td>\n",
       "      <td>NaN</td>\n",
       "      <td>St Louis, MO</td>\n",
       "    </tr>\n",
       "    <tr>\n",
       "      <th>1</th>\n",
       "      <td>1</td>\n",
       "      <td>1</td>\n",
       "      <td>Allison, Master. Hudson Trevor</td>\n",
       "      <td>male</td>\n",
       "      <td>0.9167</td>\n",
       "      <td>1</td>\n",
       "      <td>2</td>\n",
       "      <td>113781</td>\n",
       "      <td>151.5500</td>\n",
       "      <td>C22 C26</td>\n",
       "      <td>S</td>\n",
       "      <td>11</td>\n",
       "      <td>NaN</td>\n",
       "      <td>Montreal, PQ / Chesterville, ON</td>\n",
       "    </tr>\n",
       "    <tr>\n",
       "      <th>2</th>\n",
       "      <td>1</td>\n",
       "      <td>0</td>\n",
       "      <td>Allison, Miss. Helen Loraine</td>\n",
       "      <td>female</td>\n",
       "      <td>2.0000</td>\n",
       "      <td>1</td>\n",
       "      <td>2</td>\n",
       "      <td>113781</td>\n",
       "      <td>151.5500</td>\n",
       "      <td>C22 C26</td>\n",
       "      <td>S</td>\n",
       "      <td>NaN</td>\n",
       "      <td>NaN</td>\n",
       "      <td>Montreal, PQ / Chesterville, ON</td>\n",
       "    </tr>\n",
       "    <tr>\n",
       "      <th>3</th>\n",
       "      <td>1</td>\n",
       "      <td>0</td>\n",
       "      <td>Allison, Mr. Hudson Joshua Creighton</td>\n",
       "      <td>male</td>\n",
       "      <td>30.0000</td>\n",
       "      <td>1</td>\n",
       "      <td>2</td>\n",
       "      <td>113781</td>\n",
       "      <td>151.5500</td>\n",
       "      <td>C22 C26</td>\n",
       "      <td>S</td>\n",
       "      <td>NaN</td>\n",
       "      <td>135.0</td>\n",
       "      <td>Montreal, PQ / Chesterville, ON</td>\n",
       "    </tr>\n",
       "    <tr>\n",
       "      <th>4</th>\n",
       "      <td>1</td>\n",
       "      <td>0</td>\n",
       "      <td>Allison, Mrs. Hudson J C (Bessie Waldo Daniels)</td>\n",
       "      <td>female</td>\n",
       "      <td>25.0000</td>\n",
       "      <td>1</td>\n",
       "      <td>2</td>\n",
       "      <td>113781</td>\n",
       "      <td>151.5500</td>\n",
       "      <td>C22 C26</td>\n",
       "      <td>S</td>\n",
       "      <td>NaN</td>\n",
       "      <td>NaN</td>\n",
       "      <td>Montreal, PQ / Chesterville, ON</td>\n",
       "    </tr>\n",
       "  </tbody>\n",
       "</table>\n",
       "</div>"
      ],
      "text/plain": [
       "   pclass  survived                                             name     sex  \\\n",
       "0       1         1                    Allen, Miss. Elisabeth Walton  female   \n",
       "1       1         1                   Allison, Master. Hudson Trevor    male   \n",
       "2       1         0                     Allison, Miss. Helen Loraine  female   \n",
       "3       1         0             Allison, Mr. Hudson Joshua Creighton    male   \n",
       "4       1         0  Allison, Mrs. Hudson J C (Bessie Waldo Daniels)  female   \n",
       "\n",
       "       age  sibsp  parch  ticket      fare    cabin embarked boat   body  \\\n",
       "0  29.0000      0      0   24160  211.3375       B5        S    2    NaN   \n",
       "1   0.9167      1      2  113781  151.5500  C22 C26        S   11    NaN   \n",
       "2   2.0000      1      2  113781  151.5500  C22 C26        S  NaN    NaN   \n",
       "3  30.0000      1      2  113781  151.5500  C22 C26        S  NaN  135.0   \n",
       "4  25.0000      1      2  113781  151.5500  C22 C26        S  NaN    NaN   \n",
       "\n",
       "                         home.dest  \n",
       "0                     St Louis, MO  \n",
       "1  Montreal, PQ / Chesterville, ON  \n",
       "2  Montreal, PQ / Chesterville, ON  \n",
       "3  Montreal, PQ / Chesterville, ON  \n",
       "4  Montreal, PQ / Chesterville, ON  "
      ]
     },
     "execution_count": 3,
     "metadata": {},
     "output_type": "execute_result"
    }
   ],
   "source": [
    "data.head()"
   ]
  },
  {
   "cell_type": "markdown",
   "id": "6dfc081a",
   "metadata": {},
   "source": [
    "We extract the \"_age_\" variable for the numerical examples and the \"_sex_\" variablefor the categorical examples."
   ]
  },
  {
   "cell_type": "code",
   "execution_count": 4,
   "id": "c80f7582",
   "metadata": {},
   "outputs": [],
   "source": [
    "titanic_age = data.age.dropna()\n",
    "titanic_sex = data.sex.dropna()"
   ]
  },
  {
   "cell_type": "markdown",
   "id": "d45640d8",
   "metadata": {},
   "source": [
    "# Descpriptive Statistics\n",
    "Descriptive statistics, in Univariate analysis, are used to summarize and explore characteristics of variables. In this section, we provide an overview of commonly used descriptive statistics for both categorical and numerical data. We will also learn how to interpret the results using summaries, analyses and examples. "
   ]
  },
  {
   "cell_type": "markdown",
   "id": "34d57422",
   "metadata": {},
   "source": [
    "## Summary Statistics\n",
    "Summary statistics are used to summarize and provide information about a set of observations. They provide a condensed version of the data and are used to describe the main characteristics of the dataset, including the central tendency, dispersion, and distribution of the data. Examples of summary statistics include mean, median, mode, standard deviation, variance, minimum and maximum values, quartiles, and percentiles. These statistics are used to gain a quick understanding of the overall pattern and behavior of the data, and to help identify trends and relationships in the data."
   ]
  },
  {
   "cell_type": "markdown",
   "id": "456b4d30",
   "metadata": {},
   "source": [
    "### Arithmetic Mean\n",
    "Arithmetic mean is also referred to as the arithmetic average. It is a measure of central tendency of a finite set of numbers. More specifically, the mean is the sum of the values divided by the number of values. Given a data set $X = \\{x_1, x_2, ..., x_n\\}$, the mean is denoted using an overhead bar, $\\overline{x}$ and is defined by the following formula:\n",
    "\n",
    "$$\\overline{x} = \\frac{1}{n} \\sum_{i=1}^n x_i = \\frac{x_1 + x_2 + ... + x_n}{n}$$"
   ]
  },
  {
   "cell_type": "code",
   "execution_count": 13,
   "id": "a8c8c090",
   "metadata": {},
   "outputs": [
    {
     "data": {
      "text/plain": [
       "29.8811345124283"
      ]
     },
     "execution_count": 13,
     "metadata": {},
     "output_type": "execute_result"
    }
   ],
   "source": [
    "np.mean(titanic_age)\n",
    "titanic_age.mean()"
   ]
  },
  {
   "cell_type": "markdown",
   "id": "a7502b7c",
   "metadata": {},
   "source": [
    "### Arithmetic Median\n",
    "Arithmetic median is the middle value of a data set. It is the value that separates the lower half from the higher half. If the length of the data set is odd, then the median is simply the middle value of the set, else (if length is even) it is the mean value of the two middle numbers. Median is defined by the following formula:\n",
    "$$\\mbox{If $n$ is odd, } median(x) = x_{(n+1)/2}$$\n",
    "$$\\mbox{If $n$ is even, } median(x) = \\frac{ x_{n/2} x_{(n/2)+1}}{2}$$"
   ]
  },
  {
   "cell_type": "code",
   "execution_count": 10,
   "id": "b1798fbd",
   "metadata": {},
   "outputs": [
    {
     "data": {
      "text/plain": [
       "28.0"
      ]
     },
     "execution_count": 10,
     "metadata": {},
     "output_type": "execute_result"
    }
   ],
   "source": [
    "np.median(titanic_age)\n",
    "titanic_age.median()"
   ]
  },
  {
   "cell_type": "markdown",
   "id": "6a3e0af6",
   "metadata": {},
   "source": [
    "### Arithmetic Mode\n",
    "\n",
    "The mode defines the most frequently occurring value in a data set. In other words, it is the value that is most likely to be sampled from a population. Same as the mean and the median, the mode is also a measure of central tendency and it is defined as:\n",
    "\n",
    "$$Mode(x) = argmax_{x_i} P(X=x_i) $$"
   ]
  },
  {
   "cell_type": "code",
   "execution_count": 9,
   "id": "e99c68dc",
   "metadata": {},
   "outputs": [
    {
     "data": {
      "text/plain": [
       "0    male\n",
       "dtype: object"
      ]
     },
     "execution_count": 9,
     "metadata": {},
     "output_type": "execute_result"
    }
   ],
   "source": [
    "titanic_sex.mode()"
   ]
  },
  {
   "cell_type": "markdown",
   "id": "63a1a0ec",
   "metadata": {},
   "source": [
    "### Standard Deviation\n",
    "\n",
    "Variance is the squared standard deviation. It is also a measure of dispersion and is often used because it is easier to be manipulated in calculations. Variance is defined as:\n",
    "\n",
    "$$ Var(X) = \\frac{\\sum (x_i - \\overline{x})^2}{N} $$"
   ]
  },
  {
   "cell_type": "code",
   "execution_count": 14,
   "id": "21b8ee0d",
   "metadata": {},
   "outputs": [
    {
     "data": {
      "text/plain": [
       "14.406608234217705"
      ]
     },
     "execution_count": 14,
     "metadata": {},
     "output_type": "execute_result"
    }
   ],
   "source": [
    "np.std(titanic_age)"
   ]
  },
  {
   "cell_type": "markdown",
   "id": "1fd5f8bf",
   "metadata": {},
   "source": [
    "### Minimum & Maximum\n",
    "\n",
    "The minimum is simply the smallest value of a data set and the maximum is the largest value."
   ]
  },
  {
   "cell_type": "code",
   "execution_count": 17,
   "id": "b38616b2",
   "metadata": {},
   "outputs": [
    {
     "data": {
      "text/plain": [
       "0.1667"
      ]
     },
     "execution_count": 17,
     "metadata": {},
     "output_type": "execute_result"
    }
   ],
   "source": [
    "np.min(titanic_age)\n",
    "titanic_age.min()"
   ]
  },
  {
   "cell_type": "code",
   "execution_count": 18,
   "id": "ab1edc78",
   "metadata": {},
   "outputs": [
    {
     "data": {
      "text/plain": [
       "80.0"
      ]
     },
     "execution_count": 18,
     "metadata": {},
     "output_type": "execute_result"
    }
   ],
   "source": [
    "np.max(titanic_age)\n",
    "titanic_age.max()"
   ]
  },
  {
   "cell_type": "markdown",
   "id": "c63efd42",
   "metadata": {},
   "source": [
    "### Percentiles\n",
    "\n",
    "A k-percentile is a score that sets the percentage $k$ of values that fall below a given value in a data set. For example, the $50^{th}$ percentile of a data set is the median value, because 50\\% of the values fall bellow the median. "
   ]
  },
  {
   "cell_type": "code",
   "execution_count": 33,
   "id": "096f675f",
   "metadata": {},
   "outputs": [
    {
     "name": "stdout",
     "output_type": "stream",
     "text": [
      "25th percentile: 21.0\n",
      "50th percentile: 28.0\n",
      "75th percentile: 39.0\n"
     ]
    },
    {
     "data": {
      "text/plain": [
       "28.0"
      ]
     },
     "execution_count": 33,
     "metadata": {},
     "output_type": "execute_result"
    }
   ],
   "source": [
    "print(f\"25th percentile: {np.percentile(titanic_age, 25)}\")\n",
    "print(f\"50th percentile: {np.percentile(titanic_age, 50)}\")\n",
    "print(f\"75th percentile: {np.percentile(titanic_age, 75)}\")\n",
    "titanic_age.quantile(.5)"
   ]
  },
  {
   "cell_type": "markdown",
   "id": "327ea48a",
   "metadata": {},
   "source": [
    "### Quartiles\n",
    "\n",
    "Quartiles are cut points that divide the data set into four groups (quarters) that more-or-less have the same size. A quartile is a type of quantile and it is defined by three percentile values, as:\n",
    "\n",
    "- **First quartile ($Q_1$)**: It is the middle number between the minimum and the median of the data set. It is also referred as the lower or 25th empirical quartile because 50\\% of the data lies below this point.\n",
    "- **Second quartile ($Q_2$)**: It is equal to the median of the data set, 50\\% of the data lies below this point.\n",
    "- **Third quartile ($Q_3$)**: It is the middle number between the median and the maximum of the data set. It is also referred as the upper or 75th empirical quartile because 75\\% of the data lies below this point ."
   ]
  },
  {
   "cell_type": "code",
   "execution_count": null,
   "id": "bcce27c1",
   "metadata": {},
   "outputs": [],
   "source": []
  },
  {
   "cell_type": "markdown",
   "id": "3888fe93",
   "metadata": {},
   "source": [
    "## Frequency Table"
   ]
  },
  {
   "cell_type": "code",
   "execution_count": null,
   "id": "b6b5bcff",
   "metadata": {},
   "outputs": [],
   "source": []
  },
  {
   "cell_type": "code",
   "execution_count": null,
   "id": "221b0e7c",
   "metadata": {},
   "outputs": [],
   "source": []
  },
  {
   "cell_type": "markdown",
   "id": "9c413e59",
   "metadata": {},
   "source": [
    "## Quantile Table"
   ]
  },
  {
   "cell_type": "code",
   "execution_count": null,
   "id": "fd53a800",
   "metadata": {},
   "outputs": [],
   "source": []
  }
 ],
 "metadata": {
  "kernelspec": {
   "display_name": "Python 3",
   "language": "python",
   "name": "python3"
  },
  "language_info": {
   "codemirror_mode": {
    "name": "ipython",
    "version": 3
   },
   "file_extension": ".py",
   "mimetype": "text/x-python",
   "name": "python",
   "nbconvert_exporter": "python",
   "pygments_lexer": "ipython3",
   "version": "3.8.8"
  }
 },
 "nbformat": 4,
 "nbformat_minor": 5
}
