{
 "cells": [
  {
   "cell_type": "markdown",
   "id": "cae68e70",
   "metadata": {},
   "source": [
    "# Univariate Analysis\n",
    "Etymologically the word \"Uni-\" is Latin and mean \"single\" or \"one\". Univariate analysis, is the simplest form of analysis and focuses on analysing a single variable. The analysis can take the form of descriptive or inferential statistics and can be applied to both numerical and categorical data. \n",
    "\n",
    "- **Descriptive statistics**: Used to describe the characteristics or features of a dataset. The term ‘descriptive statistics’ can be used to describe both individual quantitative observations (also known as ‘summary statistics’) as well as the overall process of obtaining insights from these data.\n",
    "- **Inferential statistics**: Focus on making generalizations about a larger population based on a representative sample of that population. Because inferential statistics focuses on making predictions (rather than stating facts) its results are usually in the form of a probability.\n"
   ]
  },
  {
   "cell_type": "code",
   "execution_count": 1,
   "id": "f8d12655",
   "metadata": {},
   "outputs": [],
   "source": [
    "import numpy as np\n",
    "import pandas as pd\n",
    "import matplotlib.pyplot as plt"
   ]
  },
  {
   "cell_type": "markdown",
   "id": "ed219540",
   "metadata": {},
   "source": [
    "# Dataset\n",
    "For our analysis we load the **Greece - Agriculture and Rural Development** adn the **titanic-disaster-dataset**. "
   ]
  },
  {
   "cell_type": "code",
   "execution_count": 2,
   "id": "7d7e0a6f",
   "metadata": {},
   "outputs": [],
   "source": [
    "data = pd.read_csv(\"../Datasets/Greece - Agriculture and Rural Development/agriculture-and-rural-development_grc.csv\", index_col=0)\n",
    "data_titanic = pd.read_csv(\"../Datasets/titanic-disaster-dataset/titanic.csv\", index_col=0)"
   ]
  },
  {
   "cell_type": "code",
   "execution_count": 3,
   "id": "efb21951",
   "metadata": {},
   "outputs": [
    {
     "data": {
      "text/html": [
       "<div>\n",
       "<style scoped>\n",
       "    .dataframe tbody tr th:only-of-type {\n",
       "        vertical-align: middle;\n",
       "    }\n",
       "\n",
       "    .dataframe tbody tr th {\n",
       "        vertical-align: top;\n",
       "    }\n",
       "\n",
       "    .dataframe thead th {\n",
       "        text-align: right;\n",
       "    }\n",
       "</style>\n",
       "<table border=\"1\" class=\"dataframe\">\n",
       "  <thead>\n",
       "    <tr style=\"text-align: right;\">\n",
       "      <th></th>\n",
       "      <th>Access to electricity, rural (% of rural population)</th>\n",
       "      <th>Agricultural irrigated land (% of total agricultural land)</th>\n",
       "      <th>Agricultural land (% of land area)</th>\n",
       "      <th>Agricultural land (sq. km)</th>\n",
       "      <th>Agricultural machinery, tractors</th>\n",
       "      <th>Agricultural machinery, tractors per 100 sq. km of arable land</th>\n",
       "      <th>Agricultural methane emissions (% of total)</th>\n",
       "      <th>Agricultural methane emissions (thousand metric tons of CO2 equivalent)</th>\n",
       "      <th>Agricultural nitrous oxide emissions (% of total)</th>\n",
       "      <th>Agricultural nitrous oxide emissions (thousand metric tons of CO2 equivalent)</th>\n",
       "      <th>...</th>\n",
       "      <th>Livestock production index (2014-2016 = 100)</th>\n",
       "      <th>Permanent cropland (% of land area)</th>\n",
       "      <th>Rural land area (sq. km)</th>\n",
       "      <th>Rural land area where elevation is below 5 meters (% of total land area)</th>\n",
       "      <th>Rural land area where elevation is below 5 meters (sq. km)</th>\n",
       "      <th>Rural population</th>\n",
       "      <th>Rural population (% of total population)</th>\n",
       "      <th>Rural population growth (annual %)</th>\n",
       "      <th>Rural population living in areas where elevation is below 5 meters (% of total population)</th>\n",
       "      <th>Surface area (sq. km)</th>\n",
       "    </tr>\n",
       "    <tr>\n",
       "      <th>Year</th>\n",
       "      <th></th>\n",
       "      <th></th>\n",
       "      <th></th>\n",
       "      <th></th>\n",
       "      <th></th>\n",
       "      <th></th>\n",
       "      <th></th>\n",
       "      <th></th>\n",
       "      <th></th>\n",
       "      <th></th>\n",
       "      <th></th>\n",
       "      <th></th>\n",
       "      <th></th>\n",
       "      <th></th>\n",
       "      <th></th>\n",
       "      <th></th>\n",
       "      <th></th>\n",
       "      <th></th>\n",
       "      <th></th>\n",
       "      <th></th>\n",
       "      <th></th>\n",
       "    </tr>\n",
       "  </thead>\n",
       "  <tbody>\n",
       "    <tr>\n",
       "      <th>1960</th>\n",
       "      <td>NaN</td>\n",
       "      <td>NaN</td>\n",
       "      <td>NaN</td>\n",
       "      <td>NaN</td>\n",
       "      <td>NaN</td>\n",
       "      <td>NaN</td>\n",
       "      <td>NaN</td>\n",
       "      <td>NaN</td>\n",
       "      <td>NaN</td>\n",
       "      <td>NaN</td>\n",
       "      <td>...</td>\n",
       "      <td>NaN</td>\n",
       "      <td>NaN</td>\n",
       "      <td>NaN</td>\n",
       "      <td>NaN</td>\n",
       "      <td>NaN</td>\n",
       "      <td>3671291</td>\n",
       "      <td>44.064</td>\n",
       "      <td>NaN</td>\n",
       "      <td>NaN</td>\n",
       "      <td>NaN</td>\n",
       "    </tr>\n",
       "    <tr>\n",
       "      <th>1961</th>\n",
       "      <td>NaN</td>\n",
       "      <td>NaN</td>\n",
       "      <td>69.123351</td>\n",
       "      <td>89100.0</td>\n",
       "      <td>22630.0</td>\n",
       "      <td>80.994989</td>\n",
       "      <td>NaN</td>\n",
       "      <td>NaN</td>\n",
       "      <td>NaN</td>\n",
       "      <td>NaN</td>\n",
       "      <td>...</td>\n",
       "      <td>47.799999</td>\n",
       "      <td>7.028704</td>\n",
       "      <td>NaN</td>\n",
       "      <td>NaN</td>\n",
       "      <td>NaN</td>\n",
       "      <td>3657099</td>\n",
       "      <td>43.547</td>\n",
       "      <td>-0.387316</td>\n",
       "      <td>NaN</td>\n",
       "      <td>131960.0</td>\n",
       "    </tr>\n",
       "    <tr>\n",
       "      <th>1962</th>\n",
       "      <td>NaN</td>\n",
       "      <td>NaN</td>\n",
       "      <td>69.061288</td>\n",
       "      <td>89020.0</td>\n",
       "      <td>24530.0</td>\n",
       "      <td>85.679357</td>\n",
       "      <td>NaN</td>\n",
       "      <td>NaN</td>\n",
       "      <td>NaN</td>\n",
       "      <td>NaN</td>\n",
       "      <td>...</td>\n",
       "      <td>52.610001</td>\n",
       "      <td>6.508922</td>\n",
       "      <td>NaN</td>\n",
       "      <td>NaN</td>\n",
       "      <td>NaN</td>\n",
       "      <td>3604016</td>\n",
       "      <td>42.660</td>\n",
       "      <td>-1.462143</td>\n",
       "      <td>NaN</td>\n",
       "      <td>131960.0</td>\n",
       "    </tr>\n",
       "    <tr>\n",
       "      <th>1963</th>\n",
       "      <td>NaN</td>\n",
       "      <td>NaN</td>\n",
       "      <td>69.984484</td>\n",
       "      <td>90210.0</td>\n",
       "      <td>28500.0</td>\n",
       "      <td>93.228656</td>\n",
       "      <td>NaN</td>\n",
       "      <td>NaN</td>\n",
       "      <td>NaN</td>\n",
       "      <td>NaN</td>\n",
       "      <td>...</td>\n",
       "      <td>56.090000</td>\n",
       "      <td>6.508922</td>\n",
       "      <td>NaN</td>\n",
       "      <td>NaN</td>\n",
       "      <td>NaN</td>\n",
       "      <td>3542618</td>\n",
       "      <td>41.778</td>\n",
       "      <td>-1.718278</td>\n",
       "      <td>NaN</td>\n",
       "      <td>131960.0</td>\n",
       "    </tr>\n",
       "    <tr>\n",
       "      <th>1964</th>\n",
       "      <td>NaN</td>\n",
       "      <td>NaN</td>\n",
       "      <td>69.751746</td>\n",
       "      <td>89910.0</td>\n",
       "      <td>33500.0</td>\n",
       "      <td>111.629457</td>\n",
       "      <td>NaN</td>\n",
       "      <td>NaN</td>\n",
       "      <td>NaN</td>\n",
       "      <td>NaN</td>\n",
       "      <td>...</td>\n",
       "      <td>57.689999</td>\n",
       "      <td>6.570985</td>\n",
       "      <td>NaN</td>\n",
       "      <td>NaN</td>\n",
       "      <td>NaN</td>\n",
       "      <td>3480851</td>\n",
       "      <td>40.901</td>\n",
       "      <td>-1.758920</td>\n",
       "      <td>NaN</td>\n",
       "      <td>131960.0</td>\n",
       "    </tr>\n",
       "  </tbody>\n",
       "</table>\n",
       "<p>5 rows × 42 columns</p>\n",
       "</div>"
      ],
      "text/plain": [
       "      Access to electricity, rural (% of rural population)  \\\n",
       "Year                                                         \n",
       "1960                                                NaN      \n",
       "1961                                                NaN      \n",
       "1962                                                NaN      \n",
       "1963                                                NaN      \n",
       "1964                                                NaN      \n",
       "\n",
       "      Agricultural irrigated land (% of total agricultural land)  \\\n",
       "Year                                                               \n",
       "1960                                                NaN            \n",
       "1961                                                NaN            \n",
       "1962                                                NaN            \n",
       "1963                                                NaN            \n",
       "1964                                                NaN            \n",
       "\n",
       "      Agricultural land (% of land area)  Agricultural land (sq. km)  \\\n",
       "Year                                                                   \n",
       "1960                                 NaN                         NaN   \n",
       "1961                           69.123351                     89100.0   \n",
       "1962                           69.061288                     89020.0   \n",
       "1963                           69.984484                     90210.0   \n",
       "1964                           69.751746                     89910.0   \n",
       "\n",
       "      Agricultural machinery, tractors  \\\n",
       "Year                                     \n",
       "1960                               NaN   \n",
       "1961                           22630.0   \n",
       "1962                           24530.0   \n",
       "1963                           28500.0   \n",
       "1964                           33500.0   \n",
       "\n",
       "      Agricultural machinery, tractors per 100 sq. km of arable land  \\\n",
       "Year                                                                   \n",
       "1960                                                NaN                \n",
       "1961                                          80.994989                \n",
       "1962                                          85.679357                \n",
       "1963                                          93.228656                \n",
       "1964                                         111.629457                \n",
       "\n",
       "      Agricultural methane emissions (% of total)  \\\n",
       "Year                                                \n",
       "1960                                          NaN   \n",
       "1961                                          NaN   \n",
       "1962                                          NaN   \n",
       "1963                                          NaN   \n",
       "1964                                          NaN   \n",
       "\n",
       "      Agricultural methane emissions (thousand metric tons of CO2 equivalent)  \\\n",
       "Year                                                                            \n",
       "1960                                                NaN                         \n",
       "1961                                                NaN                         \n",
       "1962                                                NaN                         \n",
       "1963                                                NaN                         \n",
       "1964                                                NaN                         \n",
       "\n",
       "      Agricultural nitrous oxide emissions (% of total)  \\\n",
       "Year                                                      \n",
       "1960                                                NaN   \n",
       "1961                                                NaN   \n",
       "1962                                                NaN   \n",
       "1963                                                NaN   \n",
       "1964                                                NaN   \n",
       "\n",
       "      Agricultural nitrous oxide emissions (thousand metric tons of CO2 equivalent)  \\\n",
       "Year                                                                                  \n",
       "1960                                                NaN                               \n",
       "1961                                                NaN                               \n",
       "1962                                                NaN                               \n",
       "1963                                                NaN                               \n",
       "1964                                                NaN                               \n",
       "\n",
       "      ...  Livestock production index (2014-2016 = 100)  \\\n",
       "Year  ...                                                 \n",
       "1960  ...                                           NaN   \n",
       "1961  ...                                     47.799999   \n",
       "1962  ...                                     52.610001   \n",
       "1963  ...                                     56.090000   \n",
       "1964  ...                                     57.689999   \n",
       "\n",
       "      Permanent cropland (% of land area)  Rural land area (sq. km)  \\\n",
       "Year                                                                  \n",
       "1960                                  NaN                       NaN   \n",
       "1961                             7.028704                       NaN   \n",
       "1962                             6.508922                       NaN   \n",
       "1963                             6.508922                       NaN   \n",
       "1964                             6.570985                       NaN   \n",
       "\n",
       "      Rural land area where elevation is below 5 meters (% of total land area)  \\\n",
       "Year                                                                             \n",
       "1960                                                NaN                          \n",
       "1961                                                NaN                          \n",
       "1962                                                NaN                          \n",
       "1963                                                NaN                          \n",
       "1964                                                NaN                          \n",
       "\n",
       "      Rural land area where elevation is below 5 meters (sq. km)  \\\n",
       "Year                                                               \n",
       "1960                                                NaN            \n",
       "1961                                                NaN            \n",
       "1962                                                NaN            \n",
       "1963                                                NaN            \n",
       "1964                                                NaN            \n",
       "\n",
       "      Rural population  Rural population (% of total population)  \\\n",
       "Year                                                               \n",
       "1960           3671291                                    44.064   \n",
       "1961           3657099                                    43.547   \n",
       "1962           3604016                                    42.660   \n",
       "1963           3542618                                    41.778   \n",
       "1964           3480851                                    40.901   \n",
       "\n",
       "      Rural population growth (annual %)  \\\n",
       "Year                                       \n",
       "1960                                 NaN   \n",
       "1961                           -0.387316   \n",
       "1962                           -1.462143   \n",
       "1963                           -1.718278   \n",
       "1964                           -1.758920   \n",
       "\n",
       "      Rural population living in areas where elevation is below 5 meters (% of total population)  \\\n",
       "Year                                                                                               \n",
       "1960                                                NaN                                            \n",
       "1961                                                NaN                                            \n",
       "1962                                                NaN                                            \n",
       "1963                                                NaN                                            \n",
       "1964                                                NaN                                            \n",
       "\n",
       "      Surface area (sq. km)  \n",
       "Year                         \n",
       "1960                    NaN  \n",
       "1961               131960.0  \n",
       "1962               131960.0  \n",
       "1963               131960.0  \n",
       "1964               131960.0  \n",
       "\n",
       "[5 rows x 42 columns]"
      ]
     },
     "execution_count": 3,
     "metadata": {},
     "output_type": "execute_result"
    }
   ],
   "source": [
    "data.head()"
   ]
  },
  {
   "cell_type": "code",
   "execution_count": 4,
   "id": "9a641652",
   "metadata": {},
   "outputs": [
    {
     "data": {
      "text/html": [
       "<div>\n",
       "<style scoped>\n",
       "    .dataframe tbody tr th:only-of-type {\n",
       "        vertical-align: middle;\n",
       "    }\n",
       "\n",
       "    .dataframe tbody tr th {\n",
       "        vertical-align: top;\n",
       "    }\n",
       "\n",
       "    .dataframe thead th {\n",
       "        text-align: right;\n",
       "    }\n",
       "</style>\n",
       "<table border=\"1\" class=\"dataframe\">\n",
       "  <thead>\n",
       "    <tr style=\"text-align: right;\">\n",
       "      <th></th>\n",
       "      <th>survived</th>\n",
       "      <th>name</th>\n",
       "      <th>sex</th>\n",
       "      <th>age</th>\n",
       "      <th>sibsp</th>\n",
       "      <th>parch</th>\n",
       "      <th>ticket</th>\n",
       "      <th>fare</th>\n",
       "      <th>cabin</th>\n",
       "      <th>embarked</th>\n",
       "      <th>boat</th>\n",
       "      <th>body</th>\n",
       "      <th>home.dest</th>\n",
       "    </tr>\n",
       "    <tr>\n",
       "      <th>pclass</th>\n",
       "      <th></th>\n",
       "      <th></th>\n",
       "      <th></th>\n",
       "      <th></th>\n",
       "      <th></th>\n",
       "      <th></th>\n",
       "      <th></th>\n",
       "      <th></th>\n",
       "      <th></th>\n",
       "      <th></th>\n",
       "      <th></th>\n",
       "      <th></th>\n",
       "      <th></th>\n",
       "    </tr>\n",
       "  </thead>\n",
       "  <tbody>\n",
       "    <tr>\n",
       "      <th>1</th>\n",
       "      <td>1</td>\n",
       "      <td>Allen, Miss. Elisabeth Walton</td>\n",
       "      <td>female</td>\n",
       "      <td>29.0000</td>\n",
       "      <td>0</td>\n",
       "      <td>0</td>\n",
       "      <td>24160</td>\n",
       "      <td>211.3375</td>\n",
       "      <td>B5</td>\n",
       "      <td>S</td>\n",
       "      <td>2</td>\n",
       "      <td>NaN</td>\n",
       "      <td>St Louis, MO</td>\n",
       "    </tr>\n",
       "    <tr>\n",
       "      <th>1</th>\n",
       "      <td>1</td>\n",
       "      <td>Allison, Master. Hudson Trevor</td>\n",
       "      <td>male</td>\n",
       "      <td>0.9167</td>\n",
       "      <td>1</td>\n",
       "      <td>2</td>\n",
       "      <td>113781</td>\n",
       "      <td>151.5500</td>\n",
       "      <td>C22 C26</td>\n",
       "      <td>S</td>\n",
       "      <td>11</td>\n",
       "      <td>NaN</td>\n",
       "      <td>Montreal, PQ / Chesterville, ON</td>\n",
       "    </tr>\n",
       "    <tr>\n",
       "      <th>1</th>\n",
       "      <td>0</td>\n",
       "      <td>Allison, Miss. Helen Loraine</td>\n",
       "      <td>female</td>\n",
       "      <td>2.0000</td>\n",
       "      <td>1</td>\n",
       "      <td>2</td>\n",
       "      <td>113781</td>\n",
       "      <td>151.5500</td>\n",
       "      <td>C22 C26</td>\n",
       "      <td>S</td>\n",
       "      <td>NaN</td>\n",
       "      <td>NaN</td>\n",
       "      <td>Montreal, PQ / Chesterville, ON</td>\n",
       "    </tr>\n",
       "    <tr>\n",
       "      <th>1</th>\n",
       "      <td>0</td>\n",
       "      <td>Allison, Mr. Hudson Joshua Creighton</td>\n",
       "      <td>male</td>\n",
       "      <td>30.0000</td>\n",
       "      <td>1</td>\n",
       "      <td>2</td>\n",
       "      <td>113781</td>\n",
       "      <td>151.5500</td>\n",
       "      <td>C22 C26</td>\n",
       "      <td>S</td>\n",
       "      <td>NaN</td>\n",
       "      <td>135.0</td>\n",
       "      <td>Montreal, PQ / Chesterville, ON</td>\n",
       "    </tr>\n",
       "    <tr>\n",
       "      <th>1</th>\n",
       "      <td>0</td>\n",
       "      <td>Allison, Mrs. Hudson J C (Bessie Waldo Daniels)</td>\n",
       "      <td>female</td>\n",
       "      <td>25.0000</td>\n",
       "      <td>1</td>\n",
       "      <td>2</td>\n",
       "      <td>113781</td>\n",
       "      <td>151.5500</td>\n",
       "      <td>C22 C26</td>\n",
       "      <td>S</td>\n",
       "      <td>NaN</td>\n",
       "      <td>NaN</td>\n",
       "      <td>Montreal, PQ / Chesterville, ON</td>\n",
       "    </tr>\n",
       "  </tbody>\n",
       "</table>\n",
       "</div>"
      ],
      "text/plain": [
       "        survived                                             name     sex  \\\n",
       "pclass                                                                      \n",
       "1              1                    Allen, Miss. Elisabeth Walton  female   \n",
       "1              1                   Allison, Master. Hudson Trevor    male   \n",
       "1              0                     Allison, Miss. Helen Loraine  female   \n",
       "1              0             Allison, Mr. Hudson Joshua Creighton    male   \n",
       "1              0  Allison, Mrs. Hudson J C (Bessie Waldo Daniels)  female   \n",
       "\n",
       "            age  sibsp  parch  ticket      fare    cabin embarked boat   body  \\\n",
       "pclass                                                                          \n",
       "1       29.0000      0      0   24160  211.3375       B5        S    2    NaN   \n",
       "1        0.9167      1      2  113781  151.5500  C22 C26        S   11    NaN   \n",
       "1        2.0000      1      2  113781  151.5500  C22 C26        S  NaN    NaN   \n",
       "1       30.0000      1      2  113781  151.5500  C22 C26        S  NaN  135.0   \n",
       "1       25.0000      1      2  113781  151.5500  C22 C26        S  NaN    NaN   \n",
       "\n",
       "                              home.dest  \n",
       "pclass                                   \n",
       "1                          St Louis, MO  \n",
       "1       Montreal, PQ / Chesterville, ON  \n",
       "1       Montreal, PQ / Chesterville, ON  \n",
       "1       Montreal, PQ / Chesterville, ON  \n",
       "1       Montreal, PQ / Chesterville, ON  "
      ]
     },
     "execution_count": 4,
     "metadata": {},
     "output_type": "execute_result"
    }
   ],
   "source": [
    "data_titanic.head()"
   ]
  },
  {
   "cell_type": "markdown",
   "id": "6dfc081a",
   "metadata": {},
   "source": [
    "We extract the \"_age_\" variable for the numerical examples and the \"_sex_\" variablefor the categorical examples."
   ]
  },
  {
   "cell_type": "markdown",
   "id": "d45640d8",
   "metadata": {},
   "source": [
    "# Descpriptive Statistics\n",
    "Descriptive statistics, in Univariate analysis, are used to summarize and explore characteristics of variables. In this section, we provide an overview of commonly used descriptive statistics for both categorical and numerical data. We will also learn how to interpret the results using summaries, analyses and examples. "
   ]
  },
  {
   "cell_type": "markdown",
   "id": "34d57422",
   "metadata": {},
   "source": [
    "## Summary Statistics\n",
    "Summary statistics are used to summarize and provide information about a set of observations. They provide a condensed version of the data and are used to describe the main characteristics of the dataset, including the central tendency, dispersion, and distribution of the data. Examples of summary statistics include mean, median, mode, standard deviation, variance, minimum and maximum values, quartiles, and percentiles. These statistics are used to gain a quick understanding of the overall pattern and behavior of the data, and to help identify trends and relationships in the data."
   ]
  },
  {
   "cell_type": "markdown",
   "id": "456b4d30",
   "metadata": {},
   "source": [
    "### Arithmetic Mean\n",
    "Arithmetic mean is also referred to as the arithmetic average. It is a measure of central tendency of a finite set of numbers. More specifically, the mean is the sum of the values divided by the number of values. Given a data set $X = \\{x_1, x_2, ..., x_n\\}$, the mean is denoted using an overhead bar, $\\overline{x}$ and is defined by the following formula:\n",
    "\n",
    "$$\\overline{x} = \\frac{1}{n} \\sum_{i=1}^n x_i = \\frac{x_1 + x_2 + ... + x_n}{n}$$"
   ]
  },
  {
   "cell_type": "code",
   "execution_count": 5,
   "id": "d981e8a3",
   "metadata": {},
   "outputs": [
    {
     "data": {
      "text/plain": [
       "29.8811345124283"
      ]
     },
     "execution_count": 5,
     "metadata": {},
     "output_type": "execute_result"
    }
   ],
   "source": [
    "# Using numpy\n",
    "np.mean(data_titanic.age)"
   ]
  },
  {
   "cell_type": "code",
   "execution_count": 6,
   "id": "a8c8c090",
   "metadata": {},
   "outputs": [
    {
     "data": {
      "text/plain": [
       "29.8811345124283"
      ]
     },
     "execution_count": 6,
     "metadata": {},
     "output_type": "execute_result"
    }
   ],
   "source": [
    "# Using pandas\n",
    "data_titanic.age.mean()"
   ]
  },
  {
   "cell_type": "markdown",
   "id": "a7502b7c",
   "metadata": {},
   "source": [
    "### Arithmetic Median\n",
    "Arithmetic median is the middle value of a data set. It is the value that separates the lower half from the higher half. If the length of the data set is odd, then the median is simply the middle value of the set, else (if length is even) it is the mean value of the two middle numbers. Median is defined by the following formula:\n",
    "$$\\mbox{If $n$ is odd, } median(x) = x_{(n+1)/2}$$\n",
    "$$\\mbox{If $n$ is even, } median(x) = \\frac{ x_{n/2} x_{(n/2)+1}}{2}$$"
   ]
  },
  {
   "cell_type": "code",
   "execution_count": 7,
   "id": "35190cac",
   "metadata": {},
   "outputs": [
    {
     "data": {
      "text/plain": [
       "nan"
      ]
     },
     "execution_count": 7,
     "metadata": {},
     "output_type": "execute_result"
    }
   ],
   "source": [
    "# Using numpy\n",
    "np.median(data_titanic.age)"
   ]
  },
  {
   "cell_type": "code",
   "execution_count": 8,
   "id": "b1798fbd",
   "metadata": {},
   "outputs": [
    {
     "data": {
      "text/plain": [
       "28.0"
      ]
     },
     "execution_count": 8,
     "metadata": {},
     "output_type": "execute_result"
    }
   ],
   "source": [
    "# Uisng pandas\n",
    "data_titanic.age.median()"
   ]
  },
  {
   "cell_type": "markdown",
   "id": "6a3e0af6",
   "metadata": {},
   "source": [
    "### Arithmetic Mode\n",
    "\n",
    "The mode defines the most frequently occurring value in a data set. In other words, it is the value that is most likely to be sampled from a population. Same as the mean and the median, the mode is also a measure of central tendency and it is defined as:\n",
    "\n",
    "$$Mode(x) = argmax_{x_i} P(X=x_i) $$"
   ]
  },
  {
   "cell_type": "code",
   "execution_count": 9,
   "id": "e99c68dc",
   "metadata": {},
   "outputs": [
    {
     "data": {
      "text/plain": [
       "0    male\n",
       "Name: sex, dtype: object"
      ]
     },
     "execution_count": 9,
     "metadata": {},
     "output_type": "execute_result"
    }
   ],
   "source": [
    "# Using pandas\n",
    "data_titanic.sex.mode()"
   ]
  },
  {
   "cell_type": "markdown",
   "id": "63a1a0ec",
   "metadata": {},
   "source": [
    "### Standard Deviation\n",
    "\n",
    "Variance is the squared standard deviation. It is also a measure of dispersion and is often used because it is easier to be manipulated in calculations. Variance is defined as:\n",
    "\n",
    "$$ Var(X) = \\frac{\\sum (x_i - \\overline{x})^2}{N} $$"
   ]
  },
  {
   "cell_type": "code",
   "execution_count": 10,
   "id": "61c97c46",
   "metadata": {},
   "outputs": [
    {
     "data": {
      "text/plain": [
       "14.406608234217705"
      ]
     },
     "execution_count": 10,
     "metadata": {},
     "output_type": "execute_result"
    }
   ],
   "source": [
    "# Using numpy\n",
    "np.std(data_titanic.age)"
   ]
  },
  {
   "cell_type": "code",
   "execution_count": 11,
   "id": "21b8ee0d",
   "metadata": {},
   "outputs": [
    {
     "data": {
      "text/plain": [
       "14.413499699923594"
      ]
     },
     "execution_count": 11,
     "metadata": {},
     "output_type": "execute_result"
    }
   ],
   "source": [
    "# Using pandas\n",
    "data_titanic.age.std()"
   ]
  },
  {
   "cell_type": "markdown",
   "id": "1fd5f8bf",
   "metadata": {},
   "source": [
    "### Minimum & Maximum\n",
    "\n",
    "The minimum is simply the smallest value of a data set and the maximum is the largest value."
   ]
  },
  {
   "cell_type": "code",
   "execution_count": 12,
   "id": "533133d5",
   "metadata": {},
   "outputs": [
    {
     "data": {
      "text/plain": [
       "0.1667"
      ]
     },
     "execution_count": 12,
     "metadata": {},
     "output_type": "execute_result"
    }
   ],
   "source": [
    "# Using numpy\n",
    "np.min(data_titanic.age)"
   ]
  },
  {
   "cell_type": "code",
   "execution_count": 13,
   "id": "b38616b2",
   "metadata": {},
   "outputs": [
    {
     "data": {
      "text/plain": [
       "0.1667"
      ]
     },
     "execution_count": 13,
     "metadata": {},
     "output_type": "execute_result"
    }
   ],
   "source": [
    "# Using pandas\n",
    "data_titanic.age.min()"
   ]
  },
  {
   "cell_type": "code",
   "execution_count": 14,
   "id": "82918ca3",
   "metadata": {},
   "outputs": [
    {
     "data": {
      "text/plain": [
       "80.0"
      ]
     },
     "execution_count": 14,
     "metadata": {},
     "output_type": "execute_result"
    }
   ],
   "source": [
    "# Using numpy\n",
    "np.max(data_titanic.age)"
   ]
  },
  {
   "cell_type": "code",
   "execution_count": 15,
   "id": "ab1edc78",
   "metadata": {},
   "outputs": [
    {
     "data": {
      "text/plain": [
       "80.0"
      ]
     },
     "execution_count": 15,
     "metadata": {},
     "output_type": "execute_result"
    }
   ],
   "source": [
    "# Using pandas\n",
    "data_titanic.age.max()"
   ]
  },
  {
   "cell_type": "markdown",
   "id": "c63efd42",
   "metadata": {},
   "source": [
    "### Percentiles\n",
    "\n",
    "A k-percentile is a score that sets the percentage $k$ of values that fall below a given value in a data set. For example, the $50^{th}$ percentile of a data set is the median value, because 50\\% of the values fall bellow the median. "
   ]
  },
  {
   "cell_type": "code",
   "execution_count": 16,
   "id": "096f675f",
   "metadata": {},
   "outputs": [
    {
     "name": "stdout",
     "output_type": "stream",
     "text": [
      "25th percentile: nan\n",
      "50th percentile: nan\n",
      "75th percentile: nan\n"
     ]
    }
   ],
   "source": [
    "# Using numpy\n",
    "print(f\"25th percentile: {np.percentile(data_titanic.age, 25)}\")\n",
    "print(f\"50th percentile: {np.percentile(data_titanic.age, 50)}\")\n",
    "print(f\"75th percentile: {np.percentile(data_titanic.age, 75)}\")"
   ]
  },
  {
   "cell_type": "code",
   "execution_count": 17,
   "id": "bcce27c1",
   "metadata": {},
   "outputs": [
    {
     "name": "stdout",
     "output_type": "stream",
     "text": [
      "25 quantile: 21.0\n",
      "50 quantile: 28.0\n",
      "75 quantile: 39.0\n"
     ]
    }
   ],
   "source": [
    "# Using pandas\n",
    "print(f\"25 quantile: {data_titanic.age.quantile(.25)}\")\n",
    "print(f\"50 quantile: {data_titanic.age.quantile(.5)}\")\n",
    "print(f\"75 quantile: {data_titanic.age.quantile(.75)}\")"
   ]
  },
  {
   "cell_type": "markdown",
   "id": "3888fe93",
   "metadata": {},
   "source": [
    "## Frequency Table"
   ]
  },
  {
   "cell_type": "code",
   "execution_count": 18,
   "id": "b6b5bcff",
   "metadata": {},
   "outputs": [
    {
     "data": {
      "text/plain": [
       "male      843\n",
       "female    466\n",
       "Name: sex, dtype: int64"
      ]
     },
     "execution_count": 18,
     "metadata": {},
     "output_type": "execute_result"
    }
   ],
   "source": [
    "data_titanic.sex.value_counts()"
   ]
  },
  {
   "cell_type": "code",
   "execution_count": 19,
   "id": "4b2a13e3",
   "metadata": {},
   "outputs": [
    {
     "data": {
      "text/plain": [
       "0    809\n",
       "1    500\n",
       "Name: survived, dtype: int64"
      ]
     },
     "execution_count": 19,
     "metadata": {},
     "output_type": "execute_result"
    }
   ],
   "source": [
    "data_titanic.survived.value_counts()"
   ]
  },
  {
   "cell_type": "markdown",
   "id": "9c413e59",
   "metadata": {},
   "source": [
    "## Quantile Table"
   ]
  },
  {
   "cell_type": "code",
   "execution_count": null,
   "id": "fd53a800",
   "metadata": {},
   "outputs": [],
   "source": []
  },
  {
   "cell_type": "markdown",
   "id": "804edb29",
   "metadata": {},
   "source": [
    "## Charts"
   ]
  },
  {
   "cell_type": "markdown",
   "id": "ab93e704",
   "metadata": {},
   "source": [
    "### Line Chart"
   ]
  },
  {
   "cell_type": "code",
   "execution_count": 20,
   "id": "97f70b16",
   "metadata": {},
   "outputs": [
    {
     "data": {
      "image/png": "[encoded data removed]",
      "text/plain": [
       "<Figure size 432x288 with 1 Axes>"
      ]
     },
     "metadata": {
      "needs_background": "light"
     },
     "output_type": "display_data"
    }
   ],
   "source": [
    "plt.figure()\n",
    "plt.plot(data.index, data[\"Cereal production (metric tons)\"])\n",
    "\n",
    "\n",
    "plt.ylabel(\"Cereal production (metric tons)\", fontsize=14)\n",
    "plt.xlabel(\"Year\", fontsize=14)\n",
    "\n",
    "plt.tight_layout()\n",
    "plt.savefig(\"./plots/univariate_line_plot.png\")\n",
    "plt.show()"
   ]
  },
  {
   "cell_type": "markdown",
   "id": "cce85d7d",
   "metadata": {},
   "source": [
    "### Bar plot"
   ]
  },
  {
   "cell_type": "code",
   "execution_count": 21,
   "id": "c0cd6398",
   "metadata": {},
   "outputs": [
    {
     "data": {
      "text/plain": [
       "Index(['S', 'C', 'Q'], dtype='object')"
      ]
     },
     "execution_count": 21,
     "metadata": {},
     "output_type": "execute_result"
    }
   ],
   "source": [
    "data_titanic[\"embarked\"].value_counts().index"
   ]
  },
  {
   "cell_type": "code",
   "execution_count": 22,
   "id": "2fb1aeb7",
   "metadata": {},
   "outputs": [
    {
     "data": {
      "image/png": "[encoded data removed]",
      "text/plain": [
       "<Figure size 576x360 with 1 Axes>"
      ]
     },
     "metadata": {
      "needs_background": "light"
     },
     "output_type": "display_data"
    }
   ],
   "source": [
    "## embarked - Port of Embarkation (C = Cherbourg; Q = Queenstown; S = Southampton)\n",
    "fig = plt.figure(figsize = (8, 5))\n",
    "counts = data_titanic[\"embarked\"].value_counts()\n",
    "plt.bar([\"Cherbourg\", \"Queenstown\", \"Southampton\"], counts.values, width = 0.4)\n",
    "\n",
    "plt.xlabel(\"Port of Embarkation\", fontsize=14)\n",
    "plt.ylabel(\"Count\", fontsize=14)\n",
    "\n",
    "plt.tight_layout()\n",
    "plt.savefig(\"./plots/univariate_bar_plot.png\")\n",
    "plt.show()"
   ]
  },
  {
   "cell_type": "markdown",
   "id": "56840d6a",
   "metadata": {},
   "source": [
    "### Histogram"
   ]
  },
  {
   "cell_type": "code",
   "execution_count": 23,
   "id": "94a51ebb",
   "metadata": {},
   "outputs": [
    {
     "data": {
      "image/png": "[encoded data removed]",
      "text/plain": [
       "<Figure size 360x360 with 1 Axes>"
      ]
     },
     "metadata": {
      "needs_background": "light"
     },
     "output_type": "display_data"
    }
   ],
   "source": [
    "import seaborn as sns\n",
    "\n",
    "sns.displot(data_titanic['age'].dropna())\n",
    "\n",
    "plt.xlabel(\"Age\", fontsize=14)\n",
    "plt.ylabel(\"Count\", fontsize=14)\n",
    "\n",
    "plt.tight_layout()\n",
    "plt.savefig(\"./plots/univariate_hist_plot.png\")\n",
    "plt.show()"
   ]
  },
  {
   "cell_type": "markdown",
   "id": "3ba0ff02",
   "metadata": {},
   "source": [
    "### Pie Chart"
   ]
  },
  {
   "cell_type": "code",
   "execution_count": 25,
   "id": "6936c518",
   "metadata": {},
   "outputs": [
    {
     "data": {
      "image/png": "[encoded data removed]",
      "text/plain": [
       "<Figure size 432x288 with 1 Axes>"
      ]
     },
     "metadata": {},
     "output_type": "display_data"
    }
   ],
   "source": [
    "fig, ax = plt.subplots()\n",
    "counts = data_titanic[\"sex\"].value_counts()\n",
    "ax.pie(counts.values, labels=counts.index, autopct='%1.1f%%', textprops={'fontsize': 14})\n",
    "\n",
    "plt.tight_layout()\n",
    "plt.savefig(\"./plots/univariate_pie_plot.png\")\n",
    "plt.show()"
   ]
  },
  {
   "cell_type": "code",
   "execution_count": null,
   "id": "c7875542",
   "metadata": {},
   "outputs": [],
   "source": []
  }
 ],
 "metadata": {
  "kernelspec": {
   "display_name": "Python 3",
   "language": "python",
   "name": "python3"
  },
  "language_info": {
   "codemirror_mode": {
    "name": "ipython",
    "version": 3
   },
   "file_extension": ".py",
   "mimetype": "text/x-python",
   "name": "python",
   "nbconvert_exporter": "python",
   "pygments_lexer": "ipython3",
   "version": "3.8.8"
  }
 },
 "nbformat": 4,
 "nbformat_minor": 5
}
