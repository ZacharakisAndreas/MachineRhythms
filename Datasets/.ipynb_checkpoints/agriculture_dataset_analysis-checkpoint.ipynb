{
 "cells": [
  {
   "cell_type": "markdown",
   "id": "6f9312a9",
   "metadata": {},
   "source": [
    "## Import packages and classes"
   ]
  },
  {
   "cell_type": "code",
   "execution_count": 10,
   "id": "a758b92a",
   "metadata": {},
   "outputs": [],
   "source": [
    "import numpy as np\n",
    "import pandas as pd\n",
    "import matplotlib.pyplot as plt\n",
    "from sklearn.linear_model import LinearRegression\n",
    "from sklearn.model_selection import train_test_split\n",
    "from sklearn import metrics"
   ]
  },
  {
   "cell_type": "markdown",
   "id": "a1a49a77",
   "metadata": {},
   "source": [
    "## Load dataset"
   ]
  },
  {
   "cell_type": "code",
   "execution_count": 11,
   "id": "0a7ee2ad",
   "metadata": {},
   "outputs": [
    {
     "data": {
      "text/html": [
       "<div>\n",
       "<style scoped>\n",
       "    .dataframe tbody tr th:only-of-type {\n",
       "        vertical-align: middle;\n",
       "    }\n",
       "\n",
       "    .dataframe tbody tr th {\n",
       "        vertical-align: top;\n",
       "    }\n",
       "\n",
       "    .dataframe thead th {\n",
       "        text-align: right;\n",
       "    }\n",
       "</style>\n",
       "<table border=\"1\" class=\"dataframe\">\n",
       "  <thead>\n",
       "    <tr style=\"text-align: right;\">\n",
       "      <th></th>\n",
       "      <th>Agricultural land (% of land area)</th>\n",
       "      <th>Agricultural land (sq. km)</th>\n",
       "      <th>Agricultural machinery, tractors</th>\n",
       "      <th>Agricultural machinery, tractors per 100 sq. km of arable land</th>\n",
       "      <th>Agricultural raw materials exports (% of merchandise exports)</th>\n",
       "      <th>...</th>\n",
       "      <th>Permanent cropland (% of land area)</th>\n",
       "      <th>Rural population</th>\n",
       "      <th>Rural population (% of total population)</th>\n",
       "      <th>Rural population growth (annual %)</th>\n",
       "      <th>Surface area (sq. km)</th>\n",
       "    </tr>\n",
       "  </thead>\n",
       "  <tbody>\n",
       "    <tr>\n",
       "      <th>0</th>\n",
       "      <td>NaN</td>\n",
       "      <td>NaN</td>\n",
       "      <td>NaN</td>\n",
       "      <td>NaN</td>\n",
       "      <td>NaN</td>\n",
       "      <td>...</td>\n",
       "      <td>NaN</td>\n",
       "      <td>3671291</td>\n",
       "      <td>44.064</td>\n",
       "      <td>NaN</td>\n",
       "      <td>NaN</td>\n",
       "    </tr>\n",
       "    <tr>\n",
       "      <th>1</th>\n",
       "      <td>69.123351</td>\n",
       "      <td>89100.0</td>\n",
       "      <td>22630.0</td>\n",
       "      <td>80.994989</td>\n",
       "      <td>NaN</td>\n",
       "      <td>...</td>\n",
       "      <td>7.028704</td>\n",
       "      <td>3657099</td>\n",
       "      <td>43.547</td>\n",
       "      <td>-0.387316</td>\n",
       "      <td>131960.0</td>\n",
       "    </tr>\n",
       "    <tr>\n",
       "      <th>2</th>\n",
       "      <td>69.061288</td>\n",
       "      <td>89020.0</td>\n",
       "      <td>24530.0</td>\n",
       "      <td>85.679357</td>\n",
       "      <td>23.071856</td>\n",
       "      <td>...</td>\n",
       "      <td>6.508922</td>\n",
       "      <td>3604016</td>\n",
       "      <td>42.660</td>\n",
       "      <td>-1.462143</td>\n",
       "      <td>131960.0</td>\n",
       "    </tr>\n",
       "    <tr>\n",
       "      <th>3</th>\n",
       "      <td>69.984484</td>\n",
       "      <td>90210.0</td>\n",
       "      <td>28500.0</td>\n",
       "      <td>93.228656</td>\n",
       "      <td>16.425263</td>\n",
       "      <td>...</td>\n",
       "      <td>6.508922</td>\n",
       "      <td>3542618</td>\n",
       "      <td>41.778</td>\n",
       "      <td>-1.718278</td>\n",
       "      <td>131960.0</td>\n",
       "    </tr>\n",
       "    <tr>\n",
       "      <th>4</th>\n",
       "      <td>69.751746</td>\n",
       "      <td>89910.0</td>\n",
       "      <td>33500.0</td>\n",
       "      <td>111.629457</td>\n",
       "      <td>16.315466</td>\n",
       "      <td>...</td>\n",
       "      <td>6.570985</td>\n",
       "      <td>3480851</td>\n",
       "      <td>40.901</td>\n",
       "      <td>-1.758920</td>\n",
       "      <td>131960.0</td>\n",
       "    </tr>\n",
       "  </tbody>\n",
       "</table>\n",
       "<p>5 rows × 23 columns</p>\n",
       "</div>"
      ],
      "text/plain": [
       "   Agricultural land (% of land area)  Agricultural land (sq. km)  \\\n",
       "0                                 NaN                         NaN   \n",
       "1                           69.123351                     89100.0   \n",
       "2                           69.061288                     89020.0   \n",
       "3                           69.984484                     90210.0   \n",
       "4                           69.751746                     89910.0   \n",
       "\n",
       "   Agricultural machinery, tractors  \\\n",
       "0                               NaN   \n",
       "1                           22630.0   \n",
       "2                           24530.0   \n",
       "3                           28500.0   \n",
       "4                           33500.0   \n",
       "\n",
       "   Agricultural machinery, tractors per 100 sq. km of arable land  \\\n",
       "0                                                NaN                \n",
       "1                                          80.994989                \n",
       "2                                          85.679357                \n",
       "3                                          93.228656                \n",
       "4                                         111.629457                \n",
       "\n",
       "   Agricultural raw materials exports (% of merchandise exports)  ...  \\\n",
       "0                                                NaN              ...   \n",
       "1                                                NaN              ...   \n",
       "2                                          23.071856              ...   \n",
       "3                                          16.425263              ...   \n",
       "4                                          16.315466              ...   \n",
       "\n",
       "   Permanent cropland (% of land area)  Rural population  \\\n",
       "0                                  NaN           3671291   \n",
       "1                             7.028704           3657099   \n",
       "2                             6.508922           3604016   \n",
       "3                             6.508922           3542618   \n",
       "4                             6.570985           3480851   \n",
       "\n",
       "   Rural population (% of total population)  \\\n",
       "0                                    44.064   \n",
       "1                                    43.547   \n",
       "2                                    42.660   \n",
       "3                                    41.778   \n",
       "4                                    40.901   \n",
       "\n",
       "   Rural population growth (annual %)  Surface area (sq. km)  \n",
       "0                                 NaN                    NaN  \n",
       "1                           -0.387316               131960.0  \n",
       "2                           -1.462143               131960.0  \n",
       "3                           -1.718278               131960.0  \n",
       "4                           -1.758920               131960.0  \n",
       "\n",
       "[5 rows x 23 columns]"
      ]
     },
     "execution_count": 11,
     "metadata": {},
     "output_type": "execute_result"
    }
   ],
   "source": [
    "data_raw = pd.read_csv('../datasets/Greece - Agriculture and Rural Development/agriculture-and-rural-development_grc.csv')\n",
    "pd.set_option('display.max_columns', 10)\n",
    "data_raw.head()"
   ]
  },
  {
   "cell_type": "markdown",
   "id": "44423a80",
   "metadata": {},
   "source": [
    "## Variables\n",
    "Define the names of the variable to use for the Simple Linear Regression analysis"
   ]
  },
  {
   "cell_type": "code",
   "execution_count": 12,
   "id": "8e961e6f",
   "metadata": {},
   "outputs": [
    {
     "data": {
      "text/html": [
       "<div>\n",
       "<style scoped>\n",
       "    .dataframe tbody tr th:only-of-type {\n",
       "        vertical-align: middle;\n",
       "    }\n",
       "\n",
       "    .dataframe tbody tr th {\n",
       "        vertical-align: top;\n",
       "    }\n",
       "\n",
       "    .dataframe thead th {\n",
       "        text-align: right;\n",
       "    }\n",
       "</style>\n",
       "<table border=\"1\" class=\"dataframe\">\n",
       "  <thead>\n",
       "    <tr style=\"text-align: right;\">\n",
       "      <th></th>\n",
       "      <th>Crop production index (2014-2016 = 100)</th>\n",
       "      <th>Cereal production (metric tons)</th>\n",
       "    </tr>\n",
       "  </thead>\n",
       "  <tbody>\n",
       "    <tr>\n",
       "      <th>0</th>\n",
       "      <td>62.570000</td>\n",
       "      <td>2243876.0</td>\n",
       "    </tr>\n",
       "    <tr>\n",
       "      <th>1</th>\n",
       "      <td>50.700001</td>\n",
       "      <td>2426843.0</td>\n",
       "    </tr>\n",
       "    <tr>\n",
       "      <th>2</th>\n",
       "      <td>57.430000</td>\n",
       "      <td>2122537.0</td>\n",
       "    </tr>\n",
       "    <tr>\n",
       "      <th>3</th>\n",
       "      <td>57.150002</td>\n",
       "      <td>2874641.0</td>\n",
       "    </tr>\n",
       "    <tr>\n",
       "      <th>4</th>\n",
       "      <td>61.770000</td>\n",
       "      <td>2940922.0</td>\n",
       "    </tr>\n",
       "  </tbody>\n",
       "</table>\n",
       "</div>"
      ],
      "text/plain": [
       "   Crop production index (2014-2016 = 100)  Cereal production (metric tons)\n",
       "0                                62.570000                        2243876.0\n",
       "1                                50.700001                        2426843.0\n",
       "2                                57.430000                        2122537.0\n",
       "3                                57.150002                        2874641.0\n",
       "4                                61.770000                        2940922.0"
      ]
     },
     "execution_count": 12,
     "metadata": {},
     "output_type": "execute_result"
    }
   ],
   "source": [
    "variable_x = \"Crop production index (2014-2016 = 100)\"\n",
    "variable_y = \"Cereal production (metric tons)\"\n",
    "data = data_raw[[variable_x, variable_y]].dropna().reset_index(drop=True)\n",
    "data.head()"
   ]
  },
  {
   "cell_type": "markdown",
   "id": "81b49af8",
   "metadata": {},
   "source": [
    "## Train-test split"
   ]
  },
  {
   "cell_type": "code",
   "execution_count": 13,
   "id": "fdb37ea5",
   "metadata": {},
   "outputs": [],
   "source": [
    "X_train, X_test, y_train, y_test = train_test_split(data[variable_x].to_numpy(), data[variable_y].to_numpy(), test_size=0.2, random_state=42)"
   ]
  },
  {
   "cell_type": "markdown",
   "id": "6ec8b1c2",
   "metadata": {},
   "source": [
    "## Sklean Linear Regression"
   ]
  },
  {
   "cell_type": "code",
   "execution_count": 14,
   "id": "9d8cb920",
   "metadata": {},
   "outputs": [],
   "source": [
    "model = LinearRegression().fit(X_train.reshape(-1, 1), y_train)"
   ]
  },
  {
   "cell_type": "code",
   "execution_count": 15,
   "id": "dcac8d1a",
   "metadata": {},
   "outputs": [
    {
     "name": "stdout",
     "output_type": "stream",
     "text": [
      "Intercept: -338797.33066389244\n",
      "Slope: [51647.36492435]\n"
     ]
    }
   ],
   "source": [
    "print(f\"Intercept: {model.intercept_}\")\n",
    "print(f\"Slope: {model.coef_}\")"
   ]
  },
  {
   "cell_type": "markdown",
   "id": "922e539a",
   "metadata": {},
   "source": [
    "## Prediction"
   ]
  },
  {
   "cell_type": "code",
   "execution_count": 16,
   "id": "8d1f410f",
   "metadata": {},
   "outputs": [],
   "source": [
    "y_pred = model.predict(X_test.reshape(-1, 1))"
   ]
  },
  {
   "cell_type": "markdown",
   "id": "d9e65264",
   "metadata": {},
   "source": [
    "## Results"
   ]
  },
  {
   "cell_type": "code",
   "execution_count": 18,
   "id": "e027d3b3",
   "metadata": {},
   "outputs": [
    {
     "name": "stdout",
     "output_type": "stream",
     "text": [
      "Mean Absolute Error: 300467.2024049084\n",
      "Mean Squared Error: 142457456683.55972\n",
      "Root Mean Squared Error: 377435.36755789025\n"
     ]
    }
   ],
   "source": [
    "print('Mean Absolute Error:', metrics.mean_absolute_error(y_test, y_pred))  \n",
    "print('Mean Squared Error:', metrics.mean_squared_error(y_test, y_pred))  \n",
    "print('Root Mean Squared Error:', np.sqrt(metrics.mean_squared_error(y_test, y_pred)))"
   ]
  },
  {
   "cell_type": "code",
   "execution_count": 22,
   "id": "e30ed59e",
   "metadata": {},
   "outputs": [
    {
     "data": {
      "text/html": [
       "<div>\n",
       "<style scoped>\n",
       "    .dataframe tbody tr th:only-of-type {\n",
       "        vertical-align: middle;\n",
       "    }\n",
       "\n",
       "    .dataframe tbody tr th {\n",
       "        vertical-align: top;\n",
       "    }\n",
       "\n",
       "    .dataframe thead th {\n",
       "        text-align: right;\n",
       "    }\n",
       "</style>\n",
       "<table border=\"1\" class=\"dataframe\">\n",
       "  <thead>\n",
       "    <tr style=\"text-align: right;\">\n",
       "      <th></th>\n",
       "      <th>Actual</th>\n",
       "      <th>Predicted</th>\n",
       "    </tr>\n",
       "  </thead>\n",
       "  <tbody>\n",
       "    <tr>\n",
       "      <th>0</th>\n",
       "      <td>2243876.0</td>\n",
       "      <td>2.892778e+06</td>\n",
       "    </tr>\n",
       "    <tr>\n",
       "      <th>1</th>\n",
       "      <td>3131459.0</td>\n",
       "      <td>2.960953e+06</td>\n",
       "    </tr>\n",
       "    <tr>\n",
       "      <th>2</th>\n",
       "      <td>4901335.0</td>\n",
       "      <td>5.072814e+06</td>\n",
       "    </tr>\n",
       "    <tr>\n",
       "      <th>3</th>\n",
       "      <td>3822091.0</td>\n",
       "      <td>3.795574e+06</td>\n",
       "    </tr>\n",
       "    <tr>\n",
       "      <th>4</th>\n",
       "      <td>5073515.0</td>\n",
       "      <td>5.177141e+06</td>\n",
       "    </tr>\n",
       "    <tr>\n",
       "      <th>5</th>\n",
       "      <td>4875338.0</td>\n",
       "      <td>4.196358e+06</td>\n",
       "    </tr>\n",
       "    <tr>\n",
       "      <th>6</th>\n",
       "      <td>4609251.0</td>\n",
       "      <td>4.998958e+06</td>\n",
       "    </tr>\n",
       "    <tr>\n",
       "      <th>7</th>\n",
       "      <td>5285924.0</td>\n",
       "      <td>4.700953e+06</td>\n",
       "    </tr>\n",
       "    <tr>\n",
       "      <th>8</th>\n",
       "      <td>4612071.0</td>\n",
       "      <td>4.551692e+06</td>\n",
       "    </tr>\n",
       "    <tr>\n",
       "      <th>9</th>\n",
       "      <td>3346195.0</td>\n",
       "      <td>3.424746e+06</td>\n",
       "    </tr>\n",
       "    <tr>\n",
       "      <th>10</th>\n",
       "      <td>5243740.0</td>\n",
       "      <td>4.813544e+06</td>\n",
       "    </tr>\n",
       "    <tr>\n",
       "      <th>11</th>\n",
       "      <td>2874641.0</td>\n",
       "      <td>2.612850e+06</td>\n",
       "    </tr>\n",
       "  </tbody>\n",
       "</table>\n",
       "</div>"
      ],
      "text/plain": [
       "       Actual     Predicted\n",
       "0   2243876.0  2.892778e+06\n",
       "1   3131459.0  2.960953e+06\n",
       "2   4901335.0  5.072814e+06\n",
       "3   3822091.0  3.795574e+06\n",
       "4   5073515.0  5.177141e+06\n",
       "5   4875338.0  4.196358e+06\n",
       "6   4609251.0  4.998958e+06\n",
       "7   5285924.0  4.700953e+06\n",
       "8   4612071.0  4.551692e+06\n",
       "9   3346195.0  3.424746e+06\n",
       "10  5243740.0  4.813544e+06\n",
       "11  2874641.0  2.612850e+06"
      ]
     },
     "execution_count": 22,
     "metadata": {},
     "output_type": "execute_result"
    }
   ],
   "source": [
    "df = pd.DataFrame({'Actual': y_test.flatten(), 'Predicted': y_pred.flatten()})\n",
    "df"
   ]
  },
  {
   "cell_type": "code",
   "execution_count": 37,
   "id": "861b7500",
   "metadata": {},
   "outputs": [
    {
     "data": {
      "image/png": "[encoded data removed]",
      "text/plain": [
       "<Figure size 432x288 with 1 Axes>"
      ]
     },
     "metadata": {
      "needs_background": "light"
     },
     "output_type": "display_data"
    }
   ],
   "source": [
    "fig, ax = plt.subplots()\n",
    "x_axis = np.arange(12)\n",
    "\n",
    "plt.bar(x_axis-0.2, df[\"Actual\"], width=0.4, label = \"Actual\")\n",
    "plt.bar(x_axis+0.2, df[\"Predicted\"], width=0.4, label = \"Predicted\")\n",
    "\n",
    "plt.xlabel(\"Sample\", fontsize=14)\n",
    "plt.ylabel(\"Count\", fontsize=14)\n",
    "\n",
    "plt.tight_layout()\n",
    "plt.show()"
   ]
  },
  {
   "cell_type": "markdown",
   "id": "fcdeff9e",
   "metadata": {},
   "source": [
    "## Plot the Regression Line"
   ]
  },
  {
   "cell_type": "code",
   "execution_count": 19,
   "id": "da90e559",
   "metadata": {},
   "outputs": [
    {
     "data": {
      "image/png": "[encoded data removed]",
      "text/plain": [
       "<Figure size 432x288 with 1 Axes>"
      ]
     },
     "metadata": {
      "needs_background": "light"
     },
     "output_type": "display_data"
    }
   ],
   "source": [
    "fig, ax = plt.subplots()\n",
    "plt.scatter(X_train, y_train, color='red')\n",
    "ax.axline((X_test[1], y_pred[1]), slope=model.coef_[0])\n",
    "\n",
    "plt.title('Linear regression - Cereal production', fontsize=16)\n",
    "plt.xlabel(variable_x, fontsize=14)\n",
    "plt.ylabel(variable_y, fontsize=14)\n",
    "\n",
    "plt.tight_layout()\n",
    "plt.show()"
   ]
  },
  {
   "cell_type": "markdown",
   "id": "5d69eece",
   "metadata": {},
   "source": [
    "## Predictions"
   ]
  },
  {
   "cell_type": "code",
   "execution_count": 20,
   "id": "584aff0d",
   "metadata": {},
   "outputs": [
    {
     "data": {
      "text/plain": [
       "0.7436135983151979"
      ]
     },
     "execution_count": 20,
     "metadata": {},
     "output_type": "execute_result"
    }
   ],
   "source": [
    "model.score(X_train.reshape(-1, 1), y_train)"
   ]
  },
  {
   "cell_type": "code",
   "execution_count": null,
   "id": "0ee8a6d3",
   "metadata": {},
   "outputs": [],
   "source": []
  }
 ],
 "metadata": {
  "kernelspec": {
   "display_name": "Python 3",
   "language": "python",
   "name": "python3"
  },
  "language_info": {
   "codemirror_mode": {
    "name": "ipython",
    "version": 3
   },
   "file_extension": ".py",
   "mimetype": "text/x-python",
   "name": "python",
   "nbconvert_exporter": "python",
   "pygments_lexer": "ipython3",
   "version": "3.8.8"
  }
 },
 "nbformat": 4,
 "nbformat_minor": 5
}
