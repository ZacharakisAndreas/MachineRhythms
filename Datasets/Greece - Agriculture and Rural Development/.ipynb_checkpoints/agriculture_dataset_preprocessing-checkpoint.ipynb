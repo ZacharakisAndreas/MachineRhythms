{
 "cells": [
  {
   "cell_type": "markdown",
   "id": "1c847e81",
   "metadata": {},
   "source": [
    "# 1. Agriculture & Rural Development - Greece\n",
    "\n",
    "The “Greece – Agriculture and Rural Development Data” dataset sourced from the __[World Bank’s data portal](https://data.humdata.org/dataset/world-bank-agriculture-and-rural-development-indicators-for-greece)__, provides information about machinery, production, employment and cropland changes in Greece. The initial raw data contains 6 columns and 1752 samples, but we will transform the raw dataset into a format more suitable for analysis."
   ]
  },
  {
   "cell_type": "markdown",
   "id": "5243ca3a",
   "metadata": {},
   "source": [
    "## 1.1. Import packages and classes\n",
    "\n",
    "We will start by including the *pandas* library for data manipulation. We aslo use the *set_option()* to set the maximum number of printable columns to 6. This is just for presentation purposes of this notebook. We also include the *matplotlib* library to create plots and get some better insights of our data."
   ]
  },
  {
   "cell_type": "code",
   "execution_count": 1,
   "id": "0f5c1515",
   "metadata": {},
   "outputs": [],
   "source": [
    "import pandas as pd\n",
    "import matplotlib.pyplot as plt\n",
    "pd.set_option('display.max_columns', 6)"
   ]
  },
  {
   "cell_type": "markdown",
   "id": "631fba45",
   "metadata": {},
   "source": [
    "## 1.2. Load data\n",
    "\n",
    "We can now use the *read_csv()* function to load the dataset as a pandas *DataFrame*. We also use the *info()* function to view some basic information about the dataset like the type of each column, the number of non-Null values, etc."
   ]
  },
  {
   "cell_type": "code",
   "execution_count": 2,
   "id": "65bbc9d3",
   "metadata": {},
   "outputs": [
    {
     "name": "stdout",
     "output_type": "stream",
     "text": [
      "<class 'pandas.core.frame.DataFrame'>\n",
      "RangeIndex: 1752 entries, 0 to 1751\n",
      "Data columns (total 6 columns):\n",
      " #   Column          Non-Null Count  Dtype \n",
      "---  ------          --------------  ----- \n",
      " 0   Country Name    1752 non-null   object\n",
      " 1   Country ISO3    1752 non-null   object\n",
      " 2   Year            1752 non-null   object\n",
      " 3   Indicator Name  1752 non-null   object\n",
      " 4   Indicator Code  1752 non-null   object\n",
      " 5   Value           1752 non-null   object\n",
      "dtypes: object(6)\n",
      "memory usage: 82.2+ KB\n"
     ]
    }
   ],
   "source": [
    "data_raw = pd.read_csv('./agriculture-and-rural-development_grc_raw.csv')\n",
    "data_raw.info()"
   ]
  },
  {
   "cell_type": "markdown",
   "id": "cbef61d3",
   "metadata": {},
   "source": [
    "From the summary information we can learn that the dataset has 1752 samples (rows) and 6 variables (columns). In addition, there are no *NaN* values in any of the columns and all columns are of type *'object'*. <br>\n",
    "Using the *head()* function, we can view some rows of the dataset just to visualize the the dataset actually looks like."
   ]
  },
  {
   "cell_type": "code",
   "execution_count": 3,
   "id": "48ba48ed",
   "metadata": {},
   "outputs": [
    {
     "data": {
      "text/html": [
       "<div>\n",
       "<style scoped>\n",
       "    .dataframe tbody tr th:only-of-type {\n",
       "        vertical-align: middle;\n",
       "    }\n",
       "\n",
       "    .dataframe tbody tr th {\n",
       "        vertical-align: top;\n",
       "    }\n",
       "\n",
       "    .dataframe thead th {\n",
       "        text-align: right;\n",
       "    }\n",
       "</style>\n",
       "<table border=\"1\" class=\"dataframe\">\n",
       "  <thead>\n",
       "    <tr style=\"text-align: right;\">\n",
       "      <th></th>\n",
       "      <th>Country Name</th>\n",
       "      <th>Country ISO3</th>\n",
       "      <th>Year</th>\n",
       "      <th>Indicator Name</th>\n",
       "      <th>Indicator Code</th>\n",
       "      <th>Value</th>\n",
       "    </tr>\n",
       "  </thead>\n",
       "  <tbody>\n",
       "    <tr>\n",
       "      <th>0</th>\n",
       "      <td>#country+name</td>\n",
       "      <td>#country+code</td>\n",
       "      <td>#date+year</td>\n",
       "      <td>#indicator+name</td>\n",
       "      <td>#indicator+code</td>\n",
       "      <td>#indicator+value+num</td>\n",
       "    </tr>\n",
       "    <tr>\n",
       "      <th>1</th>\n",
       "      <td>Greece</td>\n",
       "      <td>GRC</td>\n",
       "      <td>2006</td>\n",
       "      <td>Agricultural machinery, tractors</td>\n",
       "      <td>AG.AGR.TRAC.NO</td>\n",
       "      <td>259613</td>\n",
       "    </tr>\n",
       "    <tr>\n",
       "      <th>2</th>\n",
       "      <td>Greece</td>\n",
       "      <td>GRC</td>\n",
       "      <td>2005</td>\n",
       "      <td>Agricultural machinery, tractors</td>\n",
       "      <td>AG.AGR.TRAC.NO</td>\n",
       "      <td>259766</td>\n",
       "    </tr>\n",
       "    <tr>\n",
       "      <th>3</th>\n",
       "      <td>Greece</td>\n",
       "      <td>GRC</td>\n",
       "      <td>2004</td>\n",
       "      <td>Agricultural machinery, tractors</td>\n",
       "      <td>AG.AGR.TRAC.NO</td>\n",
       "      <td>258476</td>\n",
       "    </tr>\n",
       "    <tr>\n",
       "      <th>4</th>\n",
       "      <td>Greece</td>\n",
       "      <td>GRC</td>\n",
       "      <td>2003</td>\n",
       "      <td>Agricultural machinery, tractors</td>\n",
       "      <td>AG.AGR.TRAC.NO</td>\n",
       "      <td>257737</td>\n",
       "    </tr>\n",
       "  </tbody>\n",
       "</table>\n",
       "</div>"
      ],
      "text/plain": [
       "    Country Name   Country ISO3        Year                    Indicator Name  \\\n",
       "0  #country+name  #country+code  #date+year                   #indicator+name   \n",
       "1         Greece            GRC        2006  Agricultural machinery, tractors   \n",
       "2         Greece            GRC        2005  Agricultural machinery, tractors   \n",
       "3         Greece            GRC        2004  Agricultural machinery, tractors   \n",
       "4         Greece            GRC        2003  Agricultural machinery, tractors   \n",
       "\n",
       "    Indicator Code                 Value  \n",
       "0  #indicator+code  #indicator+value+num  \n",
       "1   AG.AGR.TRAC.NO                259613  \n",
       "2   AG.AGR.TRAC.NO                259766  \n",
       "3   AG.AGR.TRAC.NO                258476  \n",
       "4   AG.AGR.TRAC.NO                257737  "
      ]
     },
     "execution_count": 3,
     "metadata": {},
     "output_type": "execute_result"
    }
   ],
   "source": [
    "data_raw.head()"
   ]
  },
  {
   "cell_type": "markdown",
   "id": "1523607f",
   "metadata": {},
   "source": [
    "## 1.3. Clean & Transform\n",
    "\n",
    "We continue by cleaning our data and also transforming it to the desired format. We start by dropping the first row of the dataset, as it contains the column names."
   ]
  },
  {
   "cell_type": "code",
   "execution_count": 4,
   "id": "0900723e",
   "metadata": {},
   "outputs": [],
   "source": [
    "data_raw = data_raw.drop(index=0)"
   ]
  },
  {
   "cell_type": "markdown",
   "id": "9e8933de",
   "metadata": {},
   "source": [
    "Now, ee want to use the 'Indicator Name' variable as our features and the rest of the columns as the values. So, we use the *pivot()* pandas function to reshape the dataframe properly. We use the *'Year'* column for the index, the *'Indicator Name'* for the column names and the *'Value'* column for the actual data. Again, using the *info()* and the *head()* functions, we view the summary and visualize the transformed dataset."
   ]
  },
  {
   "cell_type": "code",
   "execution_count": 5,
   "id": "6102c664",
   "metadata": {},
   "outputs": [
    {
     "name": "stdout",
     "output_type": "stream",
     "text": [
      "<class 'pandas.core.frame.DataFrame'>\n",
      "Index: 62 entries, 1960 to 2021\n",
      "Data columns (total 42 columns):\n",
      " #   Column                                                                                      Non-Null Count  Dtype \n",
      "---  ------                                                                                      --------------  ----- \n",
      " 0   Access to electricity, rural (% of rural population)                                        31 non-null     object\n",
      " 1   Agricultural irrigated land (% of total agricultural land)                                  14 non-null     object\n",
      " 2   Agricultural land (% of land area)                                                          58 non-null     object\n",
      " 3   Agricultural land (sq. km)                                                                  58 non-null     object\n",
      " 4   Agricultural machinery, tractors                                                            46 non-null     object\n",
      " 5   Agricultural machinery, tractors per 100 sq. km of arable land                              46 non-null     object\n",
      " 6   Agricultural methane emissions (% of total)                                                 39 non-null     object\n",
      " 7   Agricultural methane emissions (thousand metric tons of CO2 equivalent)                     30 non-null     object\n",
      " 8   Agricultural nitrous oxide emissions (% of total)                                           39 non-null     object\n",
      " 9   Agricultural nitrous oxide emissions (thousand metric tons of CO2 equivalent)               30 non-null     object\n",
      " 10  Agricultural raw materials exports (% of merchandise exports)                               60 non-null     object\n",
      " 11  Agricultural raw materials imports (% of merchandise imports)                               60 non-null     object\n",
      " 12  Agriculture, forestry, and fishing, value added (% of GDP)                                  27 non-null     object\n",
      " 13  Agriculture, forestry, and fishing, value added (current US$)                               27 non-null     object\n",
      " 14  Annual freshwater withdrawals, agriculture (% of total freshwater withdrawal)               10 non-null     object\n",
      " 15  Arable land (% of land area)                                                                58 non-null     object\n",
      " 16  Arable land (hectares per person)                                                           58 non-null     object\n",
      " 17  Arable land (hectares)                                                                      58 non-null     object\n",
      " 18  Average precipitation in depth (mm per year)                                                12 non-null     object\n",
      " 19  Cereal production (metric tons)                                                             58 non-null     object\n",
      " 20  Cereal yield (kg per hectare)                                                               58 non-null     object\n",
      " 21  Crop production index (2014-2016 = 100)                                                     59 non-null     object\n",
      " 22  Employment in agriculture (% of total employment) (modeled ILO estimate)                    29 non-null     object\n",
      " 23  Employment in agriculture, female (% of female employment) (modeled ILO estimate)           29 non-null     object\n",
      " 24  Employment in agriculture, male (% of male employment) (modeled ILO estimate)               29 non-null     object\n",
      " 25  Fertilizer consumption (% of fertilizer production)                                         58 non-null     object\n",
      " 26  Fertilizer consumption (kilograms per hectare of arable land)                               58 non-null     object\n",
      " 27  Food production index (2014-2016 = 100)                                                     59 non-null     object\n",
      " 28  Forest area (% of land area)                                                                31 non-null     object\n",
      " 29  Forest area (sq. km)                                                                        31 non-null     object\n",
      " 30  Land area (sq. km)                                                                          61 non-null     object\n",
      " 31  Land under cereal production (hectares)                                                     58 non-null     object\n",
      " 32  Livestock production index (2014-2016 = 100)                                                59 non-null     object\n",
      " 33  Permanent cropland (% of land area)                                                         58 non-null     object\n",
      " 34  Rural land area (sq. km)                                                                    3 non-null      object\n",
      " 35  Rural land area where elevation is below 5 meters (% of total land area)                    3 non-null      object\n",
      " 36  Rural land area where elevation is below 5 meters (sq. km)                                  3 non-null      object\n",
      " 37  Rural population                                                                            62 non-null     object\n",
      " 38  Rural population (% of total population)                                                    62 non-null     object\n",
      " 39  Rural population growth (annual %)                                                          61 non-null     object\n",
      " 40  Rural population living in areas where elevation is below 5 meters (% of total population)  3 non-null      object\n",
      " 41  Surface area (sq. km)                                                                       58 non-null     object\n",
      "dtypes: object(42)\n",
      "memory usage: 20.8+ KB\n"
     ]
    }
   ],
   "source": [
    "data = data_raw.pivot(index='Year', columns=\"Indicator Name\", values=\"Value\")\n",
    "data.info()"
   ]
  },
  {
   "cell_type": "code",
   "execution_count": 6,
   "id": "faa1fe40",
   "metadata": {},
   "outputs": [
    {
     "data": {
      "text/html": [
       "<div>\n",
       "<style scoped>\n",
       "    .dataframe tbody tr th:only-of-type {\n",
       "        vertical-align: middle;\n",
       "    }\n",
       "\n",
       "    .dataframe tbody tr th {\n",
       "        vertical-align: top;\n",
       "    }\n",
       "\n",
       "    .dataframe thead th {\n",
       "        text-align: right;\n",
       "    }\n",
       "</style>\n",
       "<table border=\"1\" class=\"dataframe\">\n",
       "  <thead>\n",
       "    <tr style=\"text-align: right;\">\n",
       "      <th>Indicator Name</th>\n",
       "      <th>Access to electricity, rural (% of rural population)</th>\n",
       "      <th>Agricultural irrigated land (% of total agricultural land)</th>\n",
       "      <th>Agricultural land (% of land area)</th>\n",
       "      <th>...</th>\n",
       "      <th>Rural population growth (annual %)</th>\n",
       "      <th>Rural population living in areas where elevation is below 5 meters (% of total population)</th>\n",
       "      <th>Surface area (sq. km)</th>\n",
       "    </tr>\n",
       "    <tr>\n",
       "      <th>Year</th>\n",
       "      <th></th>\n",
       "      <th></th>\n",
       "      <th></th>\n",
       "      <th></th>\n",
       "      <th></th>\n",
       "      <th></th>\n",
       "      <th></th>\n",
       "    </tr>\n",
       "  </thead>\n",
       "  <tbody>\n",
       "    <tr>\n",
       "      <th>1960</th>\n",
       "      <td>NaN</td>\n",
       "      <td>NaN</td>\n",
       "      <td>NaN</td>\n",
       "      <td>...</td>\n",
       "      <td>NaN</td>\n",
       "      <td>NaN</td>\n",
       "      <td>NaN</td>\n",
       "    </tr>\n",
       "    <tr>\n",
       "      <th>1961</th>\n",
       "      <td>NaN</td>\n",
       "      <td>NaN</td>\n",
       "      <td>69.1233514352211</td>\n",
       "      <td>...</td>\n",
       "      <td>-0.387316115589497</td>\n",
       "      <td>NaN</td>\n",
       "      <td>131960</td>\n",
       "    </tr>\n",
       "    <tr>\n",
       "      <th>1962</th>\n",
       "      <td>NaN</td>\n",
       "      <td>NaN</td>\n",
       "      <td>69.0612878200155</td>\n",
       "      <td>...</td>\n",
       "      <td>-1.46214309229061</td>\n",
       "      <td>NaN</td>\n",
       "      <td>131960</td>\n",
       "    </tr>\n",
       "    <tr>\n",
       "      <th>1963</th>\n",
       "      <td>NaN</td>\n",
       "      <td>NaN</td>\n",
       "      <td>69.9844840961986</td>\n",
       "      <td>...</td>\n",
       "      <td>-1.71827774104949</td>\n",
       "      <td>NaN</td>\n",
       "      <td>131960</td>\n",
       "    </tr>\n",
       "    <tr>\n",
       "      <th>1964</th>\n",
       "      <td>NaN</td>\n",
       "      <td>NaN</td>\n",
       "      <td>69.7517455391777</td>\n",
       "      <td>...</td>\n",
       "      <td>-1.75891977162161</td>\n",
       "      <td>NaN</td>\n",
       "      <td>131960</td>\n",
       "    </tr>\n",
       "  </tbody>\n",
       "</table>\n",
       "<p>5 rows × 42 columns</p>\n",
       "</div>"
      ],
      "text/plain": [
       "Indicator Name Access to electricity, rural (% of rural population)  \\\n",
       "Year                                                                  \n",
       "1960                                                          NaN     \n",
       "1961                                                          NaN     \n",
       "1962                                                          NaN     \n",
       "1963                                                          NaN     \n",
       "1964                                                          NaN     \n",
       "\n",
       "Indicator Name Agricultural irrigated land (% of total agricultural land)  \\\n",
       "Year                                                                        \n",
       "1960                                                          NaN           \n",
       "1961                                                          NaN           \n",
       "1962                                                          NaN           \n",
       "1963                                                          NaN           \n",
       "1964                                                          NaN           \n",
       "\n",
       "Indicator Name Agricultural land (% of land area)  ...  \\\n",
       "Year                                               ...   \n",
       "1960                                          NaN  ...   \n",
       "1961                             69.1233514352211  ...   \n",
       "1962                             69.0612878200155  ...   \n",
       "1963                             69.9844840961986  ...   \n",
       "1964                             69.7517455391777  ...   \n",
       "\n",
       "Indicator Name Rural population growth (annual %)  \\\n",
       "Year                                                \n",
       "1960                                          NaN   \n",
       "1961                           -0.387316115589497   \n",
       "1962                            -1.46214309229061   \n",
       "1963                            -1.71827774104949   \n",
       "1964                            -1.75891977162161   \n",
       "\n",
       "Indicator Name Rural population living in areas where elevation is below 5 meters (% of total population)  \\\n",
       "Year                                                                                                        \n",
       "1960                                                          NaN                                           \n",
       "1961                                                          NaN                                           \n",
       "1962                                                          NaN                                           \n",
       "1963                                                          NaN                                           \n",
       "1964                                                          NaN                                           \n",
       "\n",
       "Indicator Name Surface area (sq. km)  \n",
       "Year                                  \n",
       "1960                             NaN  \n",
       "1961                          131960  \n",
       "1962                          131960  \n",
       "1963                          131960  \n",
       "1964                          131960  \n",
       "\n",
       "[5 rows x 42 columns]"
      ]
     },
     "execution_count": 6,
     "metadata": {},
     "output_type": "execute_result"
    }
   ],
   "source": [
    "data.head()"
   ]
  },
  {
   "cell_type": "markdown",
   "id": "a6287900",
   "metadata": {},
   "source": [
    "Out of curiocity we can also calculate the percentage of *NaN* values in each column by using the *isna()* and *sum()* functions."
   ]
  },
  {
   "cell_type": "code",
   "execution_count": 7,
   "id": "49d2b3fc",
   "metadata": {},
   "outputs": [
    {
     "data": {
      "text/plain": [
       "Indicator Name\n",
       "Access to electricity, rural (% of rural population)                                          50.000000\n",
       "Agricultural irrigated land (% of total agricultural land)                                    77.419355\n",
       "Agricultural land (% of land area)                                                             6.451613\n",
       "Agricultural land (sq. km)                                                                     6.451613\n",
       "Agricultural machinery, tractors                                                              25.806452\n",
       "Agricultural machinery, tractors per 100 sq. km of arable land                                25.806452\n",
       "Agricultural methane emissions (% of total)                                                   37.096774\n",
       "Agricultural methane emissions (thousand metric tons of CO2 equivalent)                       51.612903\n",
       "Agricultural nitrous oxide emissions (% of total)                                             37.096774\n",
       "Agricultural nitrous oxide emissions (thousand metric tons of CO2 equivalent)                 51.612903\n",
       "Agricultural raw materials exports (% of merchandise exports)                                  3.225806\n",
       "Agricultural raw materials imports (% of merchandise imports)                                  3.225806\n",
       "Agriculture, forestry, and fishing, value added (% of GDP)                                    56.451613\n",
       "Agriculture, forestry, and fishing, value added (current US$)                                 56.451613\n",
       "Annual freshwater withdrawals, agriculture (% of total freshwater withdrawal)                 83.870968\n",
       "Arable land (% of land area)                                                                   6.451613\n",
       "Arable land (hectares per person)                                                              6.451613\n",
       "Arable land (hectares)                                                                         6.451613\n",
       "Average precipitation in depth (mm per year)                                                  80.645161\n",
       "Cereal production (metric tons)                                                                6.451613\n",
       "Cereal yield (kg per hectare)                                                                  6.451613\n",
       "Crop production index (2014-2016 = 100)                                                        4.838710\n",
       "Employment in agriculture (% of total employment) (modeled ILO estimate)                      53.225806\n",
       "Employment in agriculture, female (% of female employment) (modeled ILO estimate)             53.225806\n",
       "Employment in agriculture, male (% of male employment) (modeled ILO estimate)                 53.225806\n",
       "Fertilizer consumption (% of fertilizer production)                                            6.451613\n",
       "Fertilizer consumption (kilograms per hectare of arable land)                                  6.451613\n",
       "Food production index (2014-2016 = 100)                                                        4.838710\n",
       "Forest area (% of land area)                                                                  50.000000\n",
       "Forest area (sq. km)                                                                          50.000000\n",
       "Land area (sq. km)                                                                             1.612903\n",
       "Land under cereal production (hectares)                                                        6.451613\n",
       "Livestock production index (2014-2016 = 100)                                                   4.838710\n",
       "Permanent cropland (% of land area)                                                            6.451613\n",
       "Rural land area (sq. km)                                                                      95.161290\n",
       "Rural land area where elevation is below 5 meters (% of total land area)                      95.161290\n",
       "Rural land area where elevation is below 5 meters (sq. km)                                    95.161290\n",
       "Rural population                                                                               0.000000\n",
       "Rural population (% of total population)                                                       0.000000\n",
       "Rural population growth (annual %)                                                             1.612903\n",
       "Rural population living in areas where elevation is below 5 meters (% of total population)    95.161290\n",
       "Surface area (sq. km)                                                                          6.451613\n",
       "dtype: float64"
      ]
     },
     "execution_count": 7,
     "metadata": {},
     "output_type": "execute_result"
    }
   ],
   "source": [
    "100*data.isna().sum() / data.shape[0]"
   ]
  },
  {
   "cell_type": "markdown",
   "id": "1b5d9d91",
   "metadata": {},
   "source": [
    "## 1.4 Plots\n",
    "\n",
    "In this section we will use the matplotlib library to create some plots that will help us better understand our data. By harnessing the power of these visualizations, we open the door to invaluable insights and gain a profound understanding of our data, empowering us to navigate its intricacies with newfound clarity and precision. "
   ]
  },
  {
   "cell_type": "markdown",
   "id": "61db595b",
   "metadata": {},
   "source": [
    "We start by ploting the \"Land under cereal production (hectares)\" variable with respect to time. In our data, the time only holds the year information and it is used for indexing. "
   ]
  },
  {
   "cell_type": "code",
   "execution_count": 8,
   "id": "2d8b1627",
   "metadata": {},
   "outputs": [
    {
     "data": {
      "image/png": "[encoded data removed]",
      "text/plain": [
       "<Figure size 1152x576 with 1 Axes>"
      ]
     },
     "metadata": {
      "needs_background": "light"
     },
     "output_type": "display_data"
    }
   ],
   "source": [
    "plt.figure(figsize=(16,8))\n",
    "plt.plot(data.index, data[\"Land under cereal production (hectares)\"])\n",
    "plt.xticks(rotation = 50)\n",
    "\n",
    "plt.ylabel(\"Land under cereal production (hectares)\")\n",
    "plt.xlabel(\"Year\")\n",
    "\n",
    "plt.show()"
   ]
  },
  {
   "cell_type": "markdown",
   "id": "8ccc5f2b",
   "metadata": {},
   "source": [
    "We can clearly see a decling trend in the hectares of land that are used to cultivate cereal in Greece."
   ]
  },
  {
   "cell_type": "markdown",
   "id": "67f628dc",
   "metadata": {},
   "source": [
    "Out of curiocity we will also plot the \"Cereal production (metric tons)\" variable to see how the production is performing as the arable land decreases."
   ]
  },
  {
   "cell_type": "code",
   "execution_count": 9,
   "id": "7e744eb3",
   "metadata": {},
   "outputs": [
    {
     "data": {
      "image/png": "[encoded data removed]",
      "text/plain": [
       "<Figure size 1152x576 with 1 Axes>"
      ]
     },
     "metadata": {
      "needs_background": "light"
     },
     "output_type": "display_data"
    }
   ],
   "source": [
    "plt.figure(figsize=(16,8))\n",
    "plt.plot(data.index, data[\"Cereal production (metric tons)\"])\n",
    "plt.xticks(rotation = 50)\n",
    "\n",
    "plt.ylabel(\"Cereal production (metric tons)\")\n",
    "plt.xlabel(\"Year\")\n",
    "\n",
    "plt.show()"
   ]
  },
  {
   "cell_type": "markdown",
   "id": "0924b38b",
   "metadata": {},
   "source": [
    "Although the land under production decreases until 1991, we observe that the actual production increases. This changes after 1991 and especially after 2008, where the production drops drastically each year. "
   ]
  },
  {
   "cell_type": "markdown",
   "id": "934414b7",
   "metadata": {},
   "source": [
    "## 1.5. Store Dataset\n",
    "\n",
    "We can now save the transformed dataframe as a csv file using the  𝑡𝑜_𝑐𝑠𝑣()  pandas function."
   ]
  },
  {
   "cell_type": "code",
   "execution_count": 10,
   "id": "1cb7ec74",
   "metadata": {},
   "outputs": [],
   "source": [
    "data.to_csv(\"./agriculture-and-rural-development_grc.csv\", index=False)"
   ]
  }
 ],
 "metadata": {
  "kernelspec": {
   "display_name": "Python 3",
   "language": "python",
   "name": "python3"
  },
  "language_info": {
   "codemirror_mode": {
    "name": "ipython",
    "version": 3
   },
   "file_extension": ".py",
   "mimetype": "text/x-python",
   "name": "python",
   "nbconvert_exporter": "python",
   "pygments_lexer": "ipython3",
   "version": "3.8.8"
  }
 },
 "nbformat": 4,
 "nbformat_minor": 5
}
